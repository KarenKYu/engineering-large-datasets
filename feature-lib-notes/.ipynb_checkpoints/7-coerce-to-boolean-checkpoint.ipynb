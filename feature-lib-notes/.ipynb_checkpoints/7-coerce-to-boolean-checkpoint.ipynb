{
 "cells": [
  {
   "cell_type": "markdown",
   "metadata": {},
   "source": [
    "# Coercing to Booleans"
   ]
  },
  {
   "cell_type": "markdown",
   "metadata": {},
   "source": [
    "### Introduction"
   ]
  },
  {
   "cell_type": "markdown",
   "metadata": {},
   "source": [
    "In this lesson, we'll work through identifying and coercing data to boolean values.  This will also prepare us to identify and coerce categorical values in our dataset."
   ]
  },
  {
   "cell_type": "markdown",
   "metadata": {},
   "source": [
    "### Loading our AirBnb Data"
   ]
  },
  {
   "cell_type": "markdown",
   "metadata": {},
   "source": [
    "For this lesson, we'll work with [AirBnb listings in Berlin](https://www.kaggle.com/brittabettendorf/berlin-airbnb-data).  Let's load our data."
   ]
  },
  {
   "cell_type": "code",
   "execution_count": 1,
   "metadata": {},
   "outputs": [],
   "source": [
    "import pandas as pd\n",
    "df = pd.read_feather('./coerced_nums_and_dates.feather')"
   ]
  },
  {
   "cell_type": "code",
   "execution_count": 2,
   "metadata": {},
   "outputs": [
    {
     "data": {
      "text/plain": [
       "(18035, 85)"
      ]
     },
     "execution_count": 2,
     "metadata": {},
     "output_type": "execute_result"
    }
   ],
   "source": [
    "df.shape"
   ]
  },
  {
   "cell_type": "markdown",
   "metadata": {},
   "source": [
    "Lucky for us, we already have our good amount of our data already coerced.  But we still have more work to do."
   ]
  },
  {
   "cell_type": "code",
   "execution_count": 3,
   "metadata": {},
   "outputs": [
    {
     "data": {
      "text/plain": [
       "(18035, 47)"
      ]
     },
     "execution_count": 3,
     "metadata": {},
     "output_type": "execute_result"
    }
   ],
   "source": [
    "object_df = df.select_dtypes(include = 'object')\n",
    "\n",
    "object_df.shape"
   ]
  },
  {
   "cell_type": "markdown",
   "metadata": {},
   "source": [
    "### Feature engineering"
   ]
  },
  {
   "cell_type": "markdown",
   "metadata": {},
   "source": [
    "So a lot of our columns are still of type object.  Let's take a look at some of our object columns. "
   ]
  },
  {
   "cell_type": "code",
   "execution_count": 5,
   "metadata": {},
   "outputs": [
    {
     "data": {
      "text/html": [
       "<div>\n",
       "<style scoped>\n",
       "    .dataframe tbody tr th:only-of-type {\n",
       "        vertical-align: middle;\n",
       "    }\n",
       "\n",
       "    .dataframe tbody tr th {\n",
       "        vertical-align: top;\n",
       "    }\n",
       "\n",
       "    .dataframe thead th {\n",
       "        text-align: right;\n",
       "    }\n",
       "</style>\n",
       "<table border=\"1\" class=\"dataframe\">\n",
       "  <thead>\n",
       "    <tr style=\"text-align: right;\">\n",
       "      <th></th>\n",
       "      <th>listing_url</th>\n",
       "      <th>name</th>\n",
       "      <th>summary</th>\n",
       "      <th>space</th>\n",
       "      <th>description</th>\n",
       "      <th>neighborhood_overview</th>\n",
       "      <th>notes</th>\n",
       "      <th>transit</th>\n",
       "      <th>access</th>\n",
       "      <th>interaction</th>\n",
       "      <th>...</th>\n",
       "      <th>amenities</th>\n",
       "      <th>weekly_price</th>\n",
       "      <th>monthly_price</th>\n",
       "      <th>calendar_updated</th>\n",
       "      <th>requires_license</th>\n",
       "      <th>license</th>\n",
       "      <th>instant_bookable</th>\n",
       "      <th>cancellation_policy</th>\n",
       "      <th>require_guest_profile_picture</th>\n",
       "      <th>require_guest_phone_verification</th>\n",
       "    </tr>\n",
       "  </thead>\n",
       "  <tbody>\n",
       "    <tr>\n",
       "      <th>0</th>\n",
       "      <td>https://www.airbnb.com/rooms/17934396</td>\n",
       "      <td>primeflats - Apartment am Schillerpark 6</td>\n",
       "      <td>This ground-floor apartment in a former newspa...</td>\n",
       "      <td>Welcome to my Berlin classic! The style is mar...</td>\n",
       "      <td>This ground-floor apartment in a former newspa...</td>\n",
       "      <td>The apartment is located in the heart of Berli...</td>\n",
       "      <td>None</td>\n",
       "      <td>The train line 6 is reachable within a five-mi...</td>\n",
       "      <td>None</td>\n",
       "      <td>Guests rent the whole apartment, but I am avai...</td>\n",
       "      <td>...</td>\n",
       "      <td>{TV,Internet,Wifi,Kitchen,\"Free street parking...</td>\n",
       "      <td>None</td>\n",
       "      <td>None</td>\n",
       "      <td>today</td>\n",
       "      <td>t</td>\n",
       "      <td>None</td>\n",
       "      <td>t</td>\n",
       "      <td>super_strict_30</td>\n",
       "      <td>f</td>\n",
       "      <td>f</td>\n",
       "    </tr>\n",
       "    <tr>\n",
       "      <th>1</th>\n",
       "      <td>https://www.airbnb.com/rooms/11836363</td>\n",
       "      <td>Mostaza Bright 1Bed in Mitte</td>\n",
       "      <td>This spacious and calm one bedroom has everyth...</td>\n",
       "      <td>Enjoy of a bright apartment in the center of B...</td>\n",
       "      <td>This spacious and calm one bedroom has everyth...</td>\n",
       "      <td>Everyone coming to Berlin, knows Mitte center....</td>\n",
       "      <td>Underground parking its available at an additi...</td>\n",
       "      <td>Getting around from the apartment its no probl...</td>\n",
       "      <td>You will have access at no extra charge to the...</td>\n",
       "      <td>As much as needed</td>\n",
       "      <td>...</td>\n",
       "      <td>{TV,Internet,Wifi,Kitchen,Gym,Elevator,Heating...</td>\n",
       "      <td>None</td>\n",
       "      <td>None</td>\n",
       "      <td>2 days ago</td>\n",
       "      <td>t</td>\n",
       "      <td>None</td>\n",
       "      <td>t</td>\n",
       "      <td>strict_14_with_grace_period</td>\n",
       "      <td>f</td>\n",
       "      <td>f</td>\n",
       "    </tr>\n",
       "  </tbody>\n",
       "</table>\n",
       "<p>2 rows × 47 columns</p>\n",
       "</div>"
      ],
      "text/plain": [
       "                             listing_url  \\\n",
       "0  https://www.airbnb.com/rooms/17934396   \n",
       "1  https://www.airbnb.com/rooms/11836363   \n",
       "\n",
       "                                       name  \\\n",
       "0  primeflats - Apartment am Schillerpark 6   \n",
       "1              Mostaza Bright 1Bed in Mitte   \n",
       "\n",
       "                                             summary  \\\n",
       "0  This ground-floor apartment in a former newspa...   \n",
       "1  This spacious and calm one bedroom has everyth...   \n",
       "\n",
       "                                               space  \\\n",
       "0  Welcome to my Berlin classic! The style is mar...   \n",
       "1  Enjoy of a bright apartment in the center of B...   \n",
       "\n",
       "                                         description  \\\n",
       "0  This ground-floor apartment in a former newspa...   \n",
       "1  This spacious and calm one bedroom has everyth...   \n",
       "\n",
       "                               neighborhood_overview  \\\n",
       "0  The apartment is located in the heart of Berli...   \n",
       "1  Everyone coming to Berlin, knows Mitte center....   \n",
       "\n",
       "                                               notes  \\\n",
       "0                                               None   \n",
       "1  Underground parking its available at an additi...   \n",
       "\n",
       "                                             transit  \\\n",
       "0  The train line 6 is reachable within a five-mi...   \n",
       "1  Getting around from the apartment its no probl...   \n",
       "\n",
       "                                              access  \\\n",
       "0                                               None   \n",
       "1  You will have access at no extra charge to the...   \n",
       "\n",
       "                                         interaction  ...  \\\n",
       "0  Guests rent the whole apartment, but I am avai...  ...   \n",
       "1                                  As much as needed  ...   \n",
       "\n",
       "                                           amenities weekly_price  \\\n",
       "0  {TV,Internet,Wifi,Kitchen,\"Free street parking...         None   \n",
       "1  {TV,Internet,Wifi,Kitchen,Gym,Elevator,Heating...         None   \n",
       "\n",
       "  monthly_price calendar_updated requires_license license instant_bookable  \\\n",
       "0          None            today                t    None                t   \n",
       "1          None       2 days ago                t    None                t   \n",
       "\n",
       "           cancellation_policy require_guest_profile_picture  \\\n",
       "0              super_strict_30                             f   \n",
       "1  strict_14_with_grace_period                             f   \n",
       "\n",
       "  require_guest_phone_verification  \n",
       "0                                f  \n",
       "1                                f  \n",
       "\n",
       "[2 rows x 47 columns]"
      ]
     },
     "execution_count": 5,
     "metadata": {},
     "output_type": "execute_result"
    }
   ],
   "source": [
    "object_df[:2]"
   ]
  },
  {
   "cell_type": "markdown",
   "metadata": {},
   "source": [
    "Where a larger percentage of the values in our columns repeat, we can think of them as categorical, and eventually one hot encode them.  So we wrote a method called `percent_different` that returns the percent of unique values that make up a series.  If most of the values in a series are unique, then it is not a categorical column.  \n",
    "\n",
    "So in `find_categorical`, we loop through our columns, identifying those where `percent_different` is not too large - and those are our categorical columns."
   ]
  },
  {
   "cell_type": "code",
   "execution_count": 9,
   "metadata": {},
   "outputs": [],
   "source": [
    "def percent_different(df_series):\n",
    "    series_filled = df_series.dropna()\n",
    "    return len(series_filled.unique())/len(series_filled)"
   ]
  },
  {
   "cell_type": "code",
   "execution_count": 10,
   "metadata": {},
   "outputs": [],
   "source": [
    "def find_categorical(df, threshold = .5):    \n",
    "    categorical_df = pd.DataFrame({})\n",
    "    for column in df.columns:\n",
    "        if percent_different(df[column]) < threshold:\n",
    "            categorical_df[column] = df[column]\n",
    "    return categorical_df "
   ]
  },
  {
   "cell_type": "markdown",
   "metadata": {},
   "source": [
    "Let's see how this works."
   ]
  },
  {
   "cell_type": "code",
   "execution_count": 11,
   "metadata": {},
   "outputs": [],
   "source": [
    "potential_cat = find_categorical(object_df)"
   ]
  },
  {
   "cell_type": "code",
   "execution_count": 12,
   "metadata": {},
   "outputs": [
    {
     "data": {
      "text/plain": [
       "(18035, 29)"
      ]
     },
     "execution_count": 12,
     "metadata": {},
     "output_type": "execute_result"
    }
   ],
   "source": [
    "potential_cat.shape"
   ]
  },
  {
   "cell_type": "code",
   "execution_count": 13,
   "metadata": {},
   "outputs": [
    {
     "data": {
      "text/html": [
       "<div>\n",
       "<style scoped>\n",
       "    .dataframe tbody tr th:only-of-type {\n",
       "        vertical-align: middle;\n",
       "    }\n",
       "\n",
       "    .dataframe tbody tr th {\n",
       "        vertical-align: top;\n",
       "    }\n",
       "\n",
       "    .dataframe thead th {\n",
       "        text-align: right;\n",
       "    }\n",
       "</style>\n",
       "<table border=\"1\" class=\"dataframe\">\n",
       "  <thead>\n",
       "    <tr style=\"text-align: right;\">\n",
       "      <th></th>\n",
       "      <th>host_name</th>\n",
       "      <th>host_location</th>\n",
       "      <th>host_response_time</th>\n",
       "      <th>host_is_superhost</th>\n",
       "      <th>host_neighbourhood</th>\n",
       "      <th>host_verifications</th>\n",
       "      <th>host_has_profile_pic</th>\n",
       "      <th>host_identity_verified</th>\n",
       "      <th>street</th>\n",
       "      <th>neighbourhood</th>\n",
       "      <th>...</th>\n",
       "      <th>room_type</th>\n",
       "      <th>bed_type</th>\n",
       "      <th>weekly_price</th>\n",
       "      <th>monthly_price</th>\n",
       "      <th>calendar_updated</th>\n",
       "      <th>requires_license</th>\n",
       "      <th>instant_bookable</th>\n",
       "      <th>cancellation_policy</th>\n",
       "      <th>require_guest_profile_picture</th>\n",
       "      <th>require_guest_phone_verification</th>\n",
       "    </tr>\n",
       "  </thead>\n",
       "  <tbody>\n",
       "    <tr>\n",
       "      <th>0</th>\n",
       "      <td>Ben</td>\n",
       "      <td>Berlin, Berlin, Germany</td>\n",
       "      <td>None</td>\n",
       "      <td>f</td>\n",
       "      <td>None</td>\n",
       "      <td>['email', 'phone', 'facebook', 'reviews', 'jum...</td>\n",
       "      <td>t</td>\n",
       "      <td>t</td>\n",
       "      <td>Berlin, Berlin, Germany</td>\n",
       "      <td>Wedding</td>\n",
       "      <td>...</td>\n",
       "      <td>Entire home/apt</td>\n",
       "      <td>Real Bed</td>\n",
       "      <td>None</td>\n",
       "      <td>None</td>\n",
       "      <td>today</td>\n",
       "      <td>t</td>\n",
       "      <td>t</td>\n",
       "      <td>super_strict_30</td>\n",
       "      <td>f</td>\n",
       "      <td>f</td>\n",
       "    </tr>\n",
       "    <tr>\n",
       "      <th>1</th>\n",
       "      <td>Khadine</td>\n",
       "      <td>DE</td>\n",
       "      <td>None</td>\n",
       "      <td>f</td>\n",
       "      <td>Mitte</td>\n",
       "      <td>['email', 'phone', 'reviews', 'jumio', 'offlin...</td>\n",
       "      <td>t</td>\n",
       "      <td>t</td>\n",
       "      <td>Berlin, Berlin, Germany</td>\n",
       "      <td>Mitte</td>\n",
       "      <td>...</td>\n",
       "      <td>Entire home/apt</td>\n",
       "      <td>Real Bed</td>\n",
       "      <td>None</td>\n",
       "      <td>None</td>\n",
       "      <td>2 days ago</td>\n",
       "      <td>t</td>\n",
       "      <td>t</td>\n",
       "      <td>strict_14_with_grace_period</td>\n",
       "      <td>f</td>\n",
       "      <td>f</td>\n",
       "    </tr>\n",
       "  </tbody>\n",
       "</table>\n",
       "<p>2 rows × 29 columns</p>\n",
       "</div>"
      ],
      "text/plain": [
       "  host_name            host_location host_response_time host_is_superhost  \\\n",
       "0       Ben  Berlin, Berlin, Germany               None                 f   \n",
       "1   Khadine                       DE               None                 f   \n",
       "\n",
       "  host_neighbourhood                                 host_verifications  \\\n",
       "0               None  ['email', 'phone', 'facebook', 'reviews', 'jum...   \n",
       "1              Mitte  ['email', 'phone', 'reviews', 'jumio', 'offlin...   \n",
       "\n",
       "  host_has_profile_pic host_identity_verified                   street  \\\n",
       "0                    t                      t  Berlin, Berlin, Germany   \n",
       "1                    t                      t  Berlin, Berlin, Germany   \n",
       "\n",
       "  neighbourhood  ...        room_type  bed_type weekly_price monthly_price  \\\n",
       "0       Wedding  ...  Entire home/apt  Real Bed         None          None   \n",
       "1         Mitte  ...  Entire home/apt  Real Bed         None          None   \n",
       "\n",
       "  calendar_updated requires_license instant_bookable  \\\n",
       "0            today                t                t   \n",
       "1       2 days ago                t                t   \n",
       "\n",
       "           cancellation_policy require_guest_profile_picture  \\\n",
       "0              super_strict_30                             f   \n",
       "1  strict_14_with_grace_period                             f   \n",
       "\n",
       "  require_guest_phone_verification  \n",
       "0                                f  \n",
       "1                                f  \n",
       "\n",
       "[2 rows x 29 columns]"
      ]
     },
     "execution_count": 13,
     "metadata": {},
     "output_type": "execute_result"
    }
   ],
   "source": [
    "potential_cat[:2]"
   ]
  },
  {
   "cell_type": "markdown",
   "metadata": {},
   "source": [
    "It looks like it did a good job."
   ]
  },
  {
   "cell_type": "markdown",
   "metadata": {},
   "source": [
    "### Combine with Selecting Categorical Columns"
   ]
  },
  {
   "cell_type": "markdown",
   "metadata": {},
   "source": [
    "The next step is to take a look at the values in those identified columns, to see if indeed they are full of categories.  Our `get_multiple_val_counts` method loops through a dataframe, providing the top `value_counts` values, and the related column."
   ]
  },
  {
   "cell_type": "code",
   "execution_count": 15,
   "metadata": {},
   "outputs": [],
   "source": [
    "def get_multiple_val_counts(df, num_vals = 1):\n",
    "    return [df[column].value_counts(normalize=True).iloc[:num_vals] for column in df.columns]"
   ]
  },
  {
   "cell_type": "code",
   "execution_count": 16,
   "metadata": {},
   "outputs": [
    {
     "data": {
      "text/plain": [
       "[Anna    0.009992\n",
       " Name: host_name, dtype: float64,\n",
       " Berlin, Berlin, Germany    0.763945\n",
       " Name: host_location, dtype: float64,\n",
       " within an hour    0.527298\n",
       " Name: host_response_time, dtype: float64]"
      ]
     },
     "execution_count": 16,
     "metadata": {},
     "output_type": "execute_result"
    }
   ],
   "source": [
    "get_multiple_val_counts(potential_cat)[:3]"
   ]
  },
  {
   "cell_type": "markdown",
   "metadata": {},
   "source": [
    "And summarize cats, puts this information in an easier to work with numpy array."
   ]
  },
  {
   "cell_type": "code",
   "execution_count": 21,
   "metadata": {},
   "outputs": [],
   "source": [
    "import numpy as np\n",
    "def summarize_cats(df):\n",
    "    multiple_val_counts = get_multiple_val_counts(df)\n",
    "    stacked_counts = np.vstack([np.array([val_count.name, val_count.index[0], float(val_count.values[0])]) for val_count in multiple_val_counts])\n",
    "    sorted_cols = np.argsort(stacked_counts.reshape(-1, 3)[:, 2].astype('float'))\n",
    "    return stacked_counts[sorted_cols[::-1]]"
   ]
  },
  {
   "cell_type": "code",
   "execution_count": 24,
   "metadata": {},
   "outputs": [
    {
     "data": {
      "text/plain": [
       "array([['market', 'Berlin', '0.9997220369134979'],\n",
       "       ['requires_license', 't', '0.999611865816468'],\n",
       "       ['state', 'Berlin', '0.9976065902259824'],\n",
       "       ['host_has_profile_pic', 't', '0.9973355537052456'],\n",
       "       ['city', 'Berlin', '0.9941209095951192'],\n",
       "       ['smart_location', 'Berlin, Germany', '0.9939561962850014'],\n",
       "       ['require_guest_profile_picture', 'f', '0.9932353756584419'],\n",
       "       ['street', 'Berlin, Berlin, Germany', '0.9893540338231217'],\n",
       "       ['require_guest_phone_verification', 'f', '0.9878014970889937'],\n",
       "       ['bed_type', 'Real Bed', '0.9642916551150541']], dtype='<U32')"
      ]
     },
     "execution_count": 24,
     "metadata": {},
     "output_type": "execute_result"
    }
   ],
   "source": [
    "summary = summarize_cats(potential_cat)\n",
    "summary[:10]"
   ]
  },
  {
   "cell_type": "markdown",
   "metadata": {},
   "source": [
    "The first column in summary is the name of the column, the second is the top value, and the last column is the percent of the column the value was in. "
   ]
  },
  {
   "cell_type": "markdown",
   "metadata": {},
   "source": [
    "### Identifying Boolean Values"
   ]
  },
  {
   "cell_type": "markdown",
   "metadata": {},
   "source": [
    "From the summary grid, we can start to see some strings that are really boolean values.  These are the columns with `t` or `f` as their top values.  "
   ]
  },
  {
   "cell_type": "code",
   "execution_count": 25,
   "metadata": {},
   "outputs": [
    {
     "data": {
      "text/plain": [
       "array([['market', 'Berlin', '0.9997220369134979'],\n",
       "       ['requires_license', 't', '0.999611865816468'],\n",
       "       ['state', 'Berlin', '0.9976065902259824']], dtype='<U32')"
      ]
     },
     "execution_count": 25,
     "metadata": {},
     "output_type": "execute_result"
    }
   ],
   "source": [
    "summary[:3]"
   ]
  },
  {
   "cell_type": "markdown",
   "metadata": {},
   "source": [
    "Let's select all of the columns from our summary that have values of `t` or `f`."
   ]
  },
  {
   "cell_type": "code",
   "execution_count": 26,
   "metadata": {},
   "outputs": [],
   "source": [
    "boolean_summary = summary[np.isin(summary[:, 1], ['t', 'f'])]"
   ]
  },
  {
   "cell_type": "code",
   "execution_count": 27,
   "metadata": {},
   "outputs": [
    {
     "data": {
      "text/plain": [
       "array(['requires_license', 'host_has_profile_pic',\n",
       "       'require_guest_profile_picture',\n",
       "       'require_guest_phone_verification', 'host_is_superhost',\n",
       "       'is_location_exact', 'instant_bookable', 'host_identity_verified'],\n",
       "      dtype='<U32')"
      ]
     },
     "execution_count": 27,
     "metadata": {},
     "output_type": "execute_result"
    }
   ],
   "source": [
    "true_boolean_cols = boolean_summary[:, 0]\n",
    "true_boolean_cols"
   ]
  },
  {
   "cell_type": "markdown",
   "metadata": {},
   "source": [
    "Now that we have selected our boolean columns, we can use our MissingIndicator to convert these columns to have True or False values.  We do so, we by having the transformer set `t` to True, and all other values to False."
   ]
  },
  {
   "cell_type": "markdown",
   "metadata": {},
   "source": [
    "> We can loop through to do this for each of our boolean columns."
   ]
  },
  {
   "cell_type": "code",
   "execution_count": 29,
   "metadata": {},
   "outputs": [],
   "source": [
    "from sklearn.impute import MissingIndicator\n",
    "steps = [([col], MissingIndicator(missing_values = 't')) \n",
    "         for col in true_boolean_cols]"
   ]
  },
  {
   "cell_type": "markdown",
   "metadata": {},
   "source": [
    "And then place these steps in a DataFrameMapper."
   ]
  },
  {
   "cell_type": "code",
   "execution_count": 30,
   "metadata": {},
   "outputs": [],
   "source": [
    "from sklearn_pandas import DataFrameMapper\n",
    "boolean_mapper = DataFrameMapper(steps, df_out = True)"
   ]
  },
  {
   "cell_type": "code",
   "execution_count": 31,
   "metadata": {},
   "outputs": [],
   "source": [
    "bool_df = boolean_mapper.fit_transform(df)"
   ]
  },
  {
   "cell_type": "code",
   "execution_count": 32,
   "metadata": {},
   "outputs": [
    {
     "data": {
      "text/html": [
       "<div>\n",
       "<style scoped>\n",
       "    .dataframe tbody tr th:only-of-type {\n",
       "        vertical-align: middle;\n",
       "    }\n",
       "\n",
       "    .dataframe tbody tr th {\n",
       "        vertical-align: top;\n",
       "    }\n",
       "\n",
       "    .dataframe thead th {\n",
       "        text-align: right;\n",
       "    }\n",
       "</style>\n",
       "<table border=\"1\" class=\"dataframe\">\n",
       "  <thead>\n",
       "    <tr style=\"text-align: right;\">\n",
       "      <th></th>\n",
       "      <th>requires_license</th>\n",
       "      <th>host_has_profile_pic</th>\n",
       "      <th>require_guest_profile_picture</th>\n",
       "      <th>require_guest_phone_verification</th>\n",
       "      <th>host_is_superhost</th>\n",
       "      <th>is_location_exact</th>\n",
       "      <th>instant_bookable</th>\n",
       "      <th>host_identity_verified</th>\n",
       "    </tr>\n",
       "  </thead>\n",
       "  <tbody>\n",
       "    <tr>\n",
       "      <th>0</th>\n",
       "      <td>True</td>\n",
       "      <td>True</td>\n",
       "      <td>False</td>\n",
       "      <td>False</td>\n",
       "      <td>False</td>\n",
       "      <td>False</td>\n",
       "      <td>True</td>\n",
       "      <td>True</td>\n",
       "    </tr>\n",
       "    <tr>\n",
       "      <th>1</th>\n",
       "      <td>True</td>\n",
       "      <td>True</td>\n",
       "      <td>False</td>\n",
       "      <td>False</td>\n",
       "      <td>False</td>\n",
       "      <td>True</td>\n",
       "      <td>True</td>\n",
       "      <td>True</td>\n",
       "    </tr>\n",
       "  </tbody>\n",
       "</table>\n",
       "</div>"
      ],
      "text/plain": [
       "   requires_license  host_has_profile_pic  require_guest_profile_picture  \\\n",
       "0              True                  True                          False   \n",
       "1              True                  True                          False   \n",
       "\n",
       "   require_guest_phone_verification  host_is_superhost  is_location_exact  \\\n",
       "0                             False              False              False   \n",
       "1                             False              False               True   \n",
       "\n",
       "   instant_bookable  host_identity_verified  \n",
       "0              True                    True  \n",
       "1              True                    True  "
      ]
     },
     "execution_count": 32,
     "metadata": {},
     "output_type": "execute_result"
    }
   ],
   "source": [
    "bool_df[:2]"
   ]
  },
  {
   "cell_type": "markdown",
   "metadata": {},
   "source": [
    "Then we can update our dataframe."
   ]
  },
  {
   "cell_type": "code",
   "execution_count": 35,
   "metadata": {},
   "outputs": [],
   "source": [
    "df.loc[:, bool_df.columns] = bool_df"
   ]
  },
  {
   "cell_type": "code",
   "execution_count": 36,
   "metadata": {},
   "outputs": [],
   "source": [
    "df.to_feather('./listings_coerced_bools.feather')"
   ]
  },
  {
   "cell_type": "markdown",
   "metadata": {},
   "source": [
    "Then we can use numpy to identify our remaining potential_cat columns that we should coerce."
   ]
  },
  {
   "cell_type": "code",
   "execution_count": 33,
   "metadata": {},
   "outputs": [
    {
     "data": {
      "text/plain": [
       "array(['bed_type', 'calendar_updated', 'cancellation_policy', 'city',\n",
       "       'host_location', 'host_name', 'host_neighbourhood',\n",
       "       'host_response_time', 'host_verifications', 'market',\n",
       "       'monthly_price', 'neighbourhood', 'neighbourhood_cleansed',\n",
       "       'neighbourhood_group_cleansed', 'property_type', 'room_type',\n",
       "       'smart_location', 'state', 'street', 'weekly_price', 'zipcode'],\n",
       "      dtype=object)"
      ]
     },
     "execution_count": 33,
     "metadata": {},
     "output_type": "execute_result"
    }
   ],
   "source": [
    "import numpy as np\n",
    "remaining_cat_cols = np.setdiff1d(potential_cat.columns, bool_df.columns)\n",
    "\n",
    "remaining_cat_cols"
   ]
  },
  {
   "cell_type": "markdown",
   "metadata": {},
   "source": [
    "### Summary"
   ]
  },
  {
   "cell_type": "markdown",
   "metadata": {},
   "source": [
    "In this lesson, we were introduced to some of the methods for handling boolean and categorical data.  We saw that we identified our categorical columns by looking at the percent different.  If not a large percent of a column's values are different, it is likely categorical or boolean.  We then used our `summarize_cats` method to view the top values in each of the columns, along with how often they occur.\n",
    "\n",
    "Finally, we used the `MissingImputer` to convert values in almost boolean columns to True and False values."
   ]
  },
  {
   "cell_type": "markdown",
   "metadata": {},
   "source": [
    "### Handle Categorical"
   ]
  },
  {
   "cell_type": "code",
   "execution_count": 339,
   "metadata": {},
   "outputs": [],
   "source": [
    "from sklearn.impute import MissingIndicator\n",
    "steps = [([col], MissingIndicator(missing_values = top_val), {'alias': f'{col}_is_{top_val}'}) for col, top_val in paired_bools]"
   ]
  },
  {
   "cell_type": "code",
   "execution_count": 341,
   "metadata": {},
   "outputs": [],
   "source": [
    "practical_bools_mapper = DataFrameMapper(steps, df_out = True)"
   ]
  },
  {
   "cell_type": "code",
   "execution_count": 342,
   "metadata": {},
   "outputs": [],
   "source": [
    "df_practical_bools = practical_bools_mapper.fit_transform(df)"
   ]
  },
  {
   "cell_type": "code",
   "execution_count": 343,
   "metadata": {},
   "outputs": [
    {
     "data": {
      "text/html": [
       "<div>\n",
       "<style scoped>\n",
       "    .dataframe tbody tr th:only-of-type {\n",
       "        vertical-align: middle;\n",
       "    }\n",
       "\n",
       "    .dataframe tbody tr th {\n",
       "        vertical-align: top;\n",
       "    }\n",
       "\n",
       "    .dataframe thead th {\n",
       "        text-align: right;\n",
       "    }\n",
       "</style>\n",
       "<table border=\"1\" class=\"dataframe\">\n",
       "  <thead>\n",
       "    <tr style=\"text-align: right;\">\n",
       "      <th></th>\n",
       "      <th>market_is_Berlin</th>\n",
       "      <th>state_is_Berlin</th>\n",
       "      <th>city_is_Berlin</th>\n",
       "      <th>smart_location_is_Berlin, Germany</th>\n",
       "      <th>street_is_Berlin, Berlin, Germany</th>\n",
       "    </tr>\n",
       "  </thead>\n",
       "  <tbody>\n",
       "    <tr>\n",
       "      <th>0</th>\n",
       "      <td>True</td>\n",
       "      <td>True</td>\n",
       "      <td>True</td>\n",
       "      <td>True</td>\n",
       "      <td>True</td>\n",
       "    </tr>\n",
       "    <tr>\n",
       "      <th>1</th>\n",
       "      <td>True</td>\n",
       "      <td>True</td>\n",
       "      <td>True</td>\n",
       "      <td>True</td>\n",
       "      <td>True</td>\n",
       "    </tr>\n",
       "  </tbody>\n",
       "</table>\n",
       "</div>"
      ],
      "text/plain": [
       "   market_is_Berlin  state_is_Berlin  city_is_Berlin  \\\n",
       "0              True             True            True   \n",
       "1              True             True            True   \n",
       "\n",
       "   smart_location_is_Berlin, Germany  street_is_Berlin, Berlin, Germany  \n",
       "0                               True                               True  \n",
       "1                               True                               True  "
      ]
     },
     "execution_count": 343,
     "metadata": {},
     "output_type": "execute_result"
    }
   ],
   "source": [
    "df_practical_bools[:2]"
   ]
  },
  {
   "cell_type": "markdown",
   "metadata": {},
   "source": [
    "### Remaining Categories"
   ]
  },
  {
   "cell_type": "code",
   "execution_count": 347,
   "metadata": {},
   "outputs": [
    {
     "data": {
      "text/plain": [
       "array(['bed_type', 'calendar_updated', 'cancellation_policy',\n",
       "       'host_location', 'host_name', 'host_neighbourhood',\n",
       "       'host_response_time', 'host_verifications', 'monthly_price',\n",
       "       'neighbourhood', 'neighbourhood_cleansed',\n",
       "       'neighbourhood_group_cleansed', 'property_type', 'room_type',\n",
       "       'weekly_price', 'zipcode'], dtype=object)"
      ]
     },
     "execution_count": 347,
     "metadata": {},
     "output_type": "execute_result"
    }
   ],
   "source": [
    "np.setdiff1d(remaining_cat_cols,  potential_bool_cols[:, 0])"
   ]
  },
  {
   "cell_type": "code",
   "execution_count": null,
   "metadata": {},
   "outputs": [],
   "source": []
  },
  {
   "cell_type": "code",
   "execution_count": 253,
   "metadata": {},
   "outputs": [
    {
     "data": {
      "text/plain": [
       "[Berlin                   0.999722\n",
       " Other (International)    0.000111\n",
       " Juarez                   0.000056\n",
       " Name: market, dtype: float64,\n",
       " Berlin                0.997607\n",
       " Brandenburg           0.000612\n",
       " Schleswig-Holstein    0.000390\n",
       " Name: state, dtype: float64,\n",
       " Berlin        0.994121\n",
       " Berlin        0.000555\n",
       " Schöneberg    0.000555\n",
       " Name: city, dtype: float64,\n",
       " Berlin, Germany        0.993956\n",
       " ., Germany             0.000554\n",
       " Schöneberg, Germany    0.000554\n",
       " Name: smart_location, dtype: float64,\n",
       " Berlin, Berlin, Germany    0.989354\n",
       " Berlin, Germany            0.003216\n",
       " ., Berlin, Germany         0.000554\n",
       " Name: street, dtype: float64,\n",
       " Real Bed         0.964292\n",
       " Pull-out Sofa    0.020238\n",
       " Futon            0.010923\n",
       " Name: bed_type, dtype: float64,\n",
       " Apartment      0.896812\n",
       " Condominium    0.026948\n",
       " Loft           0.020128\n",
       " Name: property_type, dtype: float64]"
      ]
     },
     "execution_count": 253,
     "metadata": {},
     "output_type": "execute_result"
    }
   ],
   "source": [
    "# get_multiple_val_counts(df[potential_bool_cols], num_vals = 3)"
   ]
  },
  {
   "cell_type": "code",
   "execution_count": null,
   "metadata": {},
   "outputs": [],
   "source": [
    "for val_count in multiple_value_counts"
   ]
  },
  {
   "cell_type": "code",
   "execution_count": 72,
   "metadata": {},
   "outputs": [
    {
     "data": {
      "text/plain": [
       "t    0.999612\n",
       "f    0.000388\n",
       "Name: requires_license, dtype: float64"
      ]
     },
     "execution_count": 72,
     "metadata": {},
     "output_type": "execute_result"
    }
   ],
   "source": [
    "df['requires_license'].value_counts(normalize=True).iloc[:2]"
   ]
  },
  {
   "cell_type": "code",
   "execution_count": 59,
   "metadata": {},
   "outputs": [],
   "source": [
    "import numpy as np\n",
    "def summarize_counts(df):\n",
    "    frequencies = np.array([df[column].value_counts(normalize=True).values[0] for column in df]).reshape(-1, 1)\n",
    "    columns = df.columns.to_numpy().reshape(-1, 1)\n",
    "    top_values = np.array([df[column].value_counts(normalize=True).index[0] for column in df]).reshape(-1, 1)\n",
    "    summarize = np.hstack((columns, frequencies, top_values))\n",
    "    return summarize[summarize[:,1].argsort()[::-1]]"
   ]
  },
  {
   "cell_type": "code",
   "execution_count": 60,
   "metadata": {},
   "outputs": [],
   "source": [
    "summary = summarize_counts(potential_cat)"
   ]
  },
  {
   "cell_type": "code",
   "execution_count": 61,
   "metadata": {},
   "outputs": [
    {
     "data": {
      "text/plain": [
       "array([['requires_license', 0.999611865816468, 't'],\n",
       "       ['host_has_profile_pic', 0.9973355537052456, 't'],\n",
       "       ['require_guest_profile_picture', 0.9932353756584419, 'f'],\n",
       "       ['require_guest_phone_verification', 0.9878014970889937, 'f'],\n",
       "       ['host_is_superhost', 0.8658340271995559, 'f'],\n",
       "       ['is_location_exact', 0.7439423343498752, 't'],\n",
       "       ['instant_bookable', 0.6882173551427779, 'f'],\n",
       "       ['host_identity_verified', 0.6122120455176242, 'f']], dtype=object)"
      ]
     },
     "execution_count": 61,
     "metadata": {},
     "output_type": "execute_result"
    }
   ],
   "source": [
    "summary[np.isin(summary[:, -1], ['t', 'f'])]"
   ]
  },
  {
   "cell_type": "code",
   "execution_count": 35,
   "metadata": {},
   "outputs": [
    {
     "data": {
      "text/plain": [
       "array([['market', 0.9997220369134979, 'Berlin'],\n",
       "       ['state', 0.9976065902259824, 'Berlin'],\n",
       "       ['city', 0.9941209095951192, 'Berlin'],\n",
       "       ['smart_location', 0.9939561962850014, 'Berlin, Germany'],\n",
       "       ['street', 0.9893540338231217, 'Berlin, Berlin, Germany'],\n",
       "       ['bed_type', 0.9642916551150541, 'Real Bed'],\n",
       "       ['property_type', 0.896811754920987, 'Apartment'],\n",
       "       ['host_location', 0.7639453886876567, 'Berlin, Berlin, Germany'],\n",
       "       ['host_response_time', 0.5272984805562709, 'within an hour'],\n",
       "       ['room_type', 0.50945383975603, 'Private room'],\n",
       "       ['cancellation_policy', 0.404435819240366, 'flexible'],\n",
       "       ['neighbourhood_group_cleansed', 0.24324923759356806,\n",
       "        'Friedrichshain-Kreuzberg'],\n",
       "       ['host_verifications', 0.1810923204879401,\n",
       "        \"['email', 'phone', 'reviews']\"],\n",
       "       ['neighbourhood', 0.14616911936463442, 'Neukölln'],\n",
       "       ['host_neighbourhood', 0.14327652871258773, 'Neukölln'],\n",
       "       ['calendar_updated', 0.1112836151926809, 'today'],\n",
       "       ['weekly_price', 0.06230847803881512, '$300.00'],\n",
       "       ['neighbourhood_cleansed', 0.05871915719434433,\n",
       "        'Tempelhofer Vorstadt'],\n",
       "       ['monthly_price', 0.05368171021377672, '$1,200.00'],\n",
       "       ['zipcode', 0.038815526210484196, '10245'],\n",
       "       ['host_name', 0.009991673605328892, 'Anna']], dtype=object)"
      ]
     },
     "execution_count": 35,
     "metadata": {},
     "output_type": "execute_result"
    }
   ],
   "source": [
    "summary[~np.isin(summary[:, -1], ['t', 'f'])]"
   ]
  },
  {
   "cell_type": "code",
   "execution_count": 18,
   "metadata": {},
   "outputs": [],
   "source": [
    "def selected_summaries(df, not_values = [], lower_bound = .1, upper_bound = 1):\n",
    "    potential_cols = summarize_counts(df)\n",
    "    potential_cols = potential_cols[potential_cols[:, 1] > lower_bound]\n",
    "    potential_cols = potential_cols[potential_cols[:, 1] < upper_bound]\n",
    "    not_tf = ~np.isin(potential_cols[:, 2], not_values)\n",
    "    return potential_cols[not_tf]"
   ]
  },
  {
   "cell_type": "code",
   "execution_count": 123,
   "metadata": {},
   "outputs": [
    {
     "data": {
      "text/plain": [
       "array([['property_type', 0.8968162468960624, 'Apartment'],\n",
       "       ['bathrooms', 0.8795293072824156, '1.0'],\n",
       "       ['review_scores_communication', 0.805393184074115, '10.0'],\n",
       "       ['review_scores_checkin', 0.7908940397350993, '10.0'],\n",
       "       ['guests_included', 0.7746984746363959, '1'],\n",
       "       ['host_location', 0.7660902121590302, 'Berlin, Berlin, Germany'],\n",
       "       ['calculated_host_listings_count', 0.7643667967364314, '1'],\n",
       "       ['bedrooms', 0.761693441022455, '1.0'],\n",
       "       ['review_scores_accuracy', 0.7544381960524865, '10.0'],\n",
       "       ['host_response_rate', 0.7380138759449104, '100%'],\n",
       "       ['host_listings_count', 0.7170824824647074, '1.0'],\n",
       "       ['host_total_listings_count', 0.7170824824647074, '1.0'],\n",
       "       ['availability_30', 0.6433575736076623, '0'],\n",
       "       ['beds', 0.636549395877754, '1.0'],\n",
       "       ['review_scores_location', 0.616356713205673, '10.0'],\n",
       "       ['review_scores_cleanliness', 0.568325891626702, '10.0'],\n",
       "       ['availability_60', 0.5574228449804896, '0'],\n",
       "       ['review_scores_value', 0.5530717006126842, '10.0'],\n",
       "       ['accommodates', 0.5422135509045761, '2'],\n",
       "       ['host_response_time', 0.5260923586663906, 'within an hour'],\n",
       "       ['availability_90', 0.5199538843561546, '0'],\n",
       "       ['room_type', 0.511440227030862, 'Private room'],\n",
       "       ['maximum_nights', 0.49268357573607663, '1125'],\n",
       "       ['extra_people', 0.4816867683575736, '$0.00'],\n",
       "       ['availability_365', 0.47836112096488115, '0'],\n",
       "       ['cancellation_policy', 0.403600567577155, 'flexible'],\n",
       "       ['security_deposit', 0.40322947464180126, '$0.00'],\n",
       "       ['review_scores_rating', 0.33270935418157793, '100.0'],\n",
       "       ['square_feet', 0.2757847533632287, '0.0'],\n",
       "       ['minimum_nights', 0.25966654842142606, '2'],\n",
       "       ['neighbourhood_group_cleansed', 0.2437477829017382,\n",
       "        'Friedrichshain-Kreuzberg'],\n",
       "       ['host_verifications', 0.18193508336289466,\n",
       "        \"['email', 'phone', 'reviews']\"],\n",
       "       ['number_of_reviews', 0.1724902447676481, '0'],\n",
       "       ['neighbourhood', 0.1498062648802577, 'Neukölln'],\n",
       "       ['host_neighbourhood', 0.14640852331309429, 'Neukölln'],\n",
       "       ['cleaning_fee', 0.12105673114371024, '$0.00'],\n",
       "       ['calendar_updated', 0.11160872649875843, 'today']], dtype=object)"
      ]
     },
     "execution_count": 123,
     "metadata": {},
     "output_type": "execute_result"
    }
   ],
   "source": [
    "selected = selected_summaries(df, not_values = ['t', 'f'], upper_bound = .90)\n",
    "selected"
   ]
  },
  {
   "cell_type": "markdown",
   "metadata": {},
   "source": [
    "* But we may not want values with digits, as we could change them to floats."
   ]
  },
  {
   "cell_type": "code",
   "execution_count": 126,
   "metadata": {},
   "outputs": [],
   "source": [
    "def num_is_digit(array, str_index = 0):\n",
    "    return np.array([value[str_index].isdigit() for value in array])"
   ]
  },
  {
   "cell_type": "code",
   "execution_count": 127,
   "metadata": {},
   "outputs": [
    {
     "data": {
      "text/plain": [
       "array([False,  True,  True,  True,  True, False,  True,  True,  True,\n",
       "        True])"
      ]
     },
     "execution_count": 127,
     "metadata": {},
     "output_type": "execute_result"
    }
   ],
   "source": [
    "num_is_digit(selected[:, 2], str_index = 0)[0:10]"
   ]
  },
  {
   "cell_type": "code",
   "execution_count": 128,
   "metadata": {},
   "outputs": [],
   "source": [
    "def remove_digits_from_selected(selected_matrix, col_idx, str_indices = [0, -1]):\n",
    "    for idx in str_indices:\n",
    "        selected_col = selected_matrix[~num_is_digit(selected_matrix[:, col_idx], idx)]\n",
    "    return selected_col"
   ]
  },
  {
   "cell_type": "code",
   "execution_count": 130,
   "metadata": {},
   "outputs": [
    {
     "data": {
      "text/plain": [
       "array([['property_type', 0.8968162468960624, 'Apartment'],\n",
       "       ['host_location', 0.7660902121590302, 'Berlin, Berlin, Germany'],\n",
       "       ['host_response_rate', 0.7380138759449104, '100%'],\n",
       "       ['host_response_time', 0.5260923586663906, 'within an hour'],\n",
       "       ['room_type', 0.511440227030862, 'Private room'],\n",
       "       ['cancellation_policy', 0.403600567577155, 'flexible'],\n",
       "       ['neighbourhood_group_cleansed', 0.2437477829017382,\n",
       "        'Friedrichshain-Kreuzberg'],\n",
       "       ['host_verifications', 0.18193508336289466,\n",
       "        \"['email', 'phone', 'reviews']\"],\n",
       "       ['neighbourhood', 0.1498062648802577, 'Neukölln'],\n",
       "       ['host_neighbourhood', 0.14640852331309429, 'Neukölln'],\n",
       "       ['calendar_updated', 0.11160872649875843, 'today']], dtype=object)"
      ]
     },
     "execution_count": 130,
     "metadata": {},
     "output_type": "execute_result"
    }
   ],
   "source": [
    "selected_sums_no_digits = remove_digits_from_selected(selected, 2, [0, -1])\n",
    "selected_sums_no_digits"
   ]
  },
  {
   "cell_type": "markdown",
   "metadata": {},
   "source": [
    "### Cleaning Values"
   ]
  },
  {
   "cell_type": "markdown",
   "metadata": {},
   "source": [
    "1. Find columns to clean"
   ]
  },
  {
   "cell_type": "code",
   "execution_count": 31,
   "metadata": {},
   "outputs": [],
   "source": [
    "def categorical_plus_values(df, threshold = 5):\n",
    "    categorical_cols = find_categorical(df)\n",
    "    return [column for column in categorical_cols if len(df[column].value_counts()) > threshold]"
   ]
  },
  {
   "cell_type": "code",
   "execution_count": 131,
   "metadata": {},
   "outputs": [
    {
     "data": {
      "text/plain": [
       "array(['property_type', 'host_location', 'host_response_rate',\n",
       "       'host_response_time', 'room_type', 'cancellation_policy',\n",
       "       'neighbourhood_group_cleansed', 'host_verifications',\n",
       "       'neighbourhood', 'host_neighbourhood', 'calendar_updated'],\n",
       "      dtype=object)"
      ]
     },
     "execution_count": 131,
     "metadata": {},
     "output_type": "execute_result"
    }
   ],
   "source": [
    "selected_cat_cols = selected_sums_no_digits[:, 0]\n",
    "\n",
    "selected_cat_cols"
   ]
  },
  {
   "cell_type": "code",
   "execution_count": 132,
   "metadata": {},
   "outputs": [
    {
     "data": {
      "text/html": [
       "<div>\n",
       "<style scoped>\n",
       "    .dataframe tbody tr th:only-of-type {\n",
       "        vertical-align: middle;\n",
       "    }\n",
       "\n",
       "    .dataframe tbody tr th {\n",
       "        vertical-align: top;\n",
       "    }\n",
       "\n",
       "    .dataframe thead th {\n",
       "        text-align: right;\n",
       "    }\n",
       "</style>\n",
       "<table border=\"1\" class=\"dataframe\">\n",
       "  <thead>\n",
       "    <tr style=\"text-align: right;\">\n",
       "      <th></th>\n",
       "      <th>property_type</th>\n",
       "      <th>host_location</th>\n",
       "      <th>host_response_rate</th>\n",
       "      <th>host_response_time</th>\n",
       "      <th>room_type</th>\n",
       "      <th>cancellation_policy</th>\n",
       "      <th>neighbourhood_group_cleansed</th>\n",
       "      <th>host_verifications</th>\n",
       "      <th>neighbourhood</th>\n",
       "      <th>host_neighbourhood</th>\n",
       "      <th>calendar_updated</th>\n",
       "    </tr>\n",
       "  </thead>\n",
       "  <tbody>\n",
       "    <tr>\n",
       "      <th>0</th>\n",
       "      <td>Guesthouse</td>\n",
       "      <td>Key Biscayne, Florida, United States</td>\n",
       "      <td>96%</td>\n",
       "      <td>within an hour</td>\n",
       "      <td>Entire home/apt</td>\n",
       "      <td>strict_14_with_grace_period</td>\n",
       "      <td>Mitte</td>\n",
       "      <td>['email', 'phone', 'reviews', 'jumio', 'offlin...</td>\n",
       "      <td>Mitte</td>\n",
       "      <td>Mitte</td>\n",
       "      <td>3 months ago</td>\n",
       "    </tr>\n",
       "    <tr>\n",
       "      <th>1</th>\n",
       "      <td>Apartment</td>\n",
       "      <td>Berlin, Berlin, Germany</td>\n",
       "      <td>NaN</td>\n",
       "      <td>NaN</td>\n",
       "      <td>Private room</td>\n",
       "      <td>flexible</td>\n",
       "      <td>Pankow</td>\n",
       "      <td>['email', 'phone', 'reviews', 'jumio', 'govern...</td>\n",
       "      <td>NaN</td>\n",
       "      <td>Prenzlauer Berg</td>\n",
       "      <td>7 weeks ago</td>\n",
       "    </tr>\n",
       "    <tr>\n",
       "      <th>2</th>\n",
       "      <td>Apartment</td>\n",
       "      <td>Coledale, New South Wales, Australia</td>\n",
       "      <td>100%</td>\n",
       "      <td>within a day</td>\n",
       "      <td>Entire home/apt</td>\n",
       "      <td>strict_14_with_grace_period</td>\n",
       "      <td>Pankow</td>\n",
       "      <td>['email', 'phone', 'facebook', 'reviews', 'man...</td>\n",
       "      <td>Prenzlauer Berg</td>\n",
       "      <td>Prenzlauer Berg</td>\n",
       "      <td>a week ago</td>\n",
       "    </tr>\n",
       "  </tbody>\n",
       "</table>\n",
       "</div>"
      ],
      "text/plain": [
       "  property_type                         host_location host_response_rate  \\\n",
       "0    Guesthouse  Key Biscayne, Florida, United States                96%   \n",
       "1     Apartment               Berlin, Berlin, Germany                NaN   \n",
       "2     Apartment  Coledale, New South Wales, Australia               100%   \n",
       "\n",
       "  host_response_time        room_type          cancellation_policy  \\\n",
       "0     within an hour  Entire home/apt  strict_14_with_grace_period   \n",
       "1                NaN     Private room                     flexible   \n",
       "2       within a day  Entire home/apt  strict_14_with_grace_period   \n",
       "\n",
       "  neighbourhood_group_cleansed  \\\n",
       "0                        Mitte   \n",
       "1                       Pankow   \n",
       "2                       Pankow   \n",
       "\n",
       "                                  host_verifications    neighbourhood  \\\n",
       "0  ['email', 'phone', 'reviews', 'jumio', 'offlin...            Mitte   \n",
       "1  ['email', 'phone', 'reviews', 'jumio', 'govern...              NaN   \n",
       "2  ['email', 'phone', 'facebook', 'reviews', 'man...  Prenzlauer Berg   \n",
       "\n",
       "  host_neighbourhood calendar_updated  \n",
       "0              Mitte     3 months ago  \n",
       "1    Prenzlauer Berg      7 weeks ago  \n",
       "2    Prenzlauer Berg       a week ago  "
      ]
     },
     "execution_count": 132,
     "metadata": {},
     "output_type": "execute_result"
    }
   ],
   "source": [
    "cat_cols_df = df_informative[selected_cat_cols]\n",
    "cat_cols_df[:3]"
   ]
  },
  {
   "cell_type": "code",
   "execution_count": 133,
   "metadata": {},
   "outputs": [],
   "source": [
    "updated_non_digits = categorical_plus_values(cat_cols_df)"
   ]
  },
  {
   "cell_type": "code",
   "execution_count": 134,
   "metadata": {},
   "outputs": [
    {
     "data": {
      "text/plain": [
       "8"
      ]
     },
     "execution_count": 134,
     "metadata": {},
     "output_type": "execute_result"
    }
   ],
   "source": [
    "len(updated_non_digits)"
   ]
  },
  {
   "cell_type": "code",
   "execution_count": 135,
   "metadata": {},
   "outputs": [
    {
     "data": {
      "text/plain": [
       "['property_type',\n",
       " 'host_location',\n",
       " 'host_response_rate',\n",
       " 'neighbourhood_group_cleansed',\n",
       " 'host_verifications',\n",
       " 'neighbourhood',\n",
       " 'host_neighbourhood',\n",
       " 'calendar_updated']"
      ]
     },
     "execution_count": 135,
     "metadata": {},
     "output_type": "execute_result"
    }
   ],
   "source": [
    "updated_non_digits"
   ]
  },
  {
   "cell_type": "code",
   "execution_count": 64,
   "metadata": {},
   "outputs": [
    {
     "data": {
      "text/html": [
       "<div>\n",
       "<style scoped>\n",
       "    .dataframe tbody tr th:only-of-type {\n",
       "        vertical-align: middle;\n",
       "    }\n",
       "\n",
       "    .dataframe tbody tr th {\n",
       "        vertical-align: top;\n",
       "    }\n",
       "\n",
       "    .dataframe thead th {\n",
       "        text-align: right;\n",
       "    }\n",
       "</style>\n",
       "<table border=\"1\" class=\"dataframe\">\n",
       "  <thead>\n",
       "    <tr style=\"text-align: right;\">\n",
       "      <th></th>\n",
       "      <th>property_type</th>\n",
       "      <th>host_location</th>\n",
       "      <th>host_response_rate</th>\n",
       "      <th>neighbourhood_group_cleansed</th>\n",
       "      <th>host_verifications</th>\n",
       "      <th>neighbourhood</th>\n",
       "      <th>host_neighbourhood</th>\n",
       "      <th>calendar_updated</th>\n",
       "    </tr>\n",
       "  </thead>\n",
       "  <tbody>\n",
       "    <tr>\n",
       "      <th>count</th>\n",
       "      <td>22552</td>\n",
       "      <td>22436</td>\n",
       "      <td>9657</td>\n",
       "      <td>22552</td>\n",
       "      <td>22552</td>\n",
       "      <td>21421</td>\n",
       "      <td>17458</td>\n",
       "      <td>22552</td>\n",
       "    </tr>\n",
       "    <tr>\n",
       "      <th>unique</th>\n",
       "      <td>33</td>\n",
       "      <td>1036</td>\n",
       "      <td>64</td>\n",
       "      <td>12</td>\n",
       "      <td>301</td>\n",
       "      <td>91</td>\n",
       "      <td>181</td>\n",
       "      <td>75</td>\n",
       "    </tr>\n",
       "    <tr>\n",
       "      <th>top</th>\n",
       "      <td>Apartment</td>\n",
       "      <td>Berlin, Berlin, Germany</td>\n",
       "      <td>100%</td>\n",
       "      <td>Friedrichshain-Kreuzberg</td>\n",
       "      <td>['email', 'phone', 'reviews']</td>\n",
       "      <td>Neukölln</td>\n",
       "      <td>Neukölln</td>\n",
       "      <td>today</td>\n",
       "    </tr>\n",
       "    <tr>\n",
       "      <th>freq</th>\n",
       "      <td>20225</td>\n",
       "      <td>17188</td>\n",
       "      <td>7127</td>\n",
       "      <td>5497</td>\n",
       "      <td>4103</td>\n",
       "      <td>3209</td>\n",
       "      <td>2556</td>\n",
       "      <td>2517</td>\n",
       "    </tr>\n",
       "  </tbody>\n",
       "</table>\n",
       "</div>"
      ],
      "text/plain": [
       "       property_type            host_location host_response_rate  \\\n",
       "count          22552                    22436               9657   \n",
       "unique            33                     1036                 64   \n",
       "top        Apartment  Berlin, Berlin, Germany               100%   \n",
       "freq           20225                    17188               7127   \n",
       "\n",
       "       neighbourhood_group_cleansed             host_verifications  \\\n",
       "count                         22552                          22552   \n",
       "unique                           12                            301   \n",
       "top        Friedrichshain-Kreuzberg  ['email', 'phone', 'reviews']   \n",
       "freq                           5497                           4103   \n",
       "\n",
       "       neighbourhood host_neighbourhood calendar_updated  \n",
       "count          21421              17458            22552  \n",
       "unique            91                181               75  \n",
       "top         Neukölln           Neukölln            today  \n",
       "freq            3209               2556             2517  "
      ]
     },
     "execution_count": 64,
     "metadata": {},
     "output_type": "execute_result"
    }
   ],
   "source": [
    "df[updated_non_digits].describe()"
   ]
  },
  {
   "cell_type": "code",
   "execution_count": 141,
   "metadata": {},
   "outputs": [],
   "source": [
    "# df['property_type'].value_counts(normalize = True)"
   ]
  },
  {
   "cell_type": "markdown",
   "metadata": {},
   "source": [
    "### Clean Values of Relevant Columns"
   ]
  },
  {
   "cell_type": "code",
   "execution_count": 54,
   "metadata": {},
   "outputs": [],
   "source": [
    "def selected_cat_values(column, threshold = .02):\n",
    "    values_counted = column.value_counts(normalize=True)\n",
    "    return values_counted[values_counted > threshold]"
   ]
  },
  {
   "cell_type": "code",
   "execution_count": 144,
   "metadata": {},
   "outputs": [],
   "source": [
    "selected = selected_cat_values(df.neighbourhood_cleansed, .02)"
   ]
  },
  {
   "cell_type": "code",
   "execution_count": 145,
   "metadata": {},
   "outputs": [
    {
     "data": {
      "text/plain": [
       "Tempelhofer Vorstadt        0.058753\n",
       "Frankfurter Allee Süd FK    0.056846\n",
       "Alexanderplatz              0.048377\n",
       "Reuterstraße                0.044431\n",
       "Rixdorf                     0.039021\n",
       "Neuköllner Mitte/Zentrum    0.035341\n",
       "Brunnenstr. Süd             0.034276\n",
       "Frankfurter Allee Nord      0.032591\n",
       "Schillerpromenade           0.029354\n",
       "südliche Luisenstadt        0.028512\n",
       "Prenzlauer Berg Nordwest    0.027625\n",
       "Prenzlauer Berg Südwest     0.027403\n",
       "Schöneberg-Nord             0.025142\n",
       "Prenzlauer Berg Süd         0.024610\n",
       "Wedding Zentrum             0.022925\n",
       "Moabit West                 0.021728\n",
       "nördliche Luisenstadt       0.021462\n",
       "Schöneberg-Süd              0.021018\n",
       "Helmholtzplatz              0.020353\n",
       "Name: neighbourhood_cleansed, dtype: float64"
      ]
     },
     "execution_count": 145,
     "metadata": {},
     "output_type": "execute_result"
    }
   ],
   "source": [
    "selected"
   ]
  },
  {
   "cell_type": "code",
   "execution_count": 156,
   "metadata": {},
   "outputs": [],
   "source": [
    "def reduce_cat_values(column, threshold = .02):\n",
    "    column = column.copy()\n",
    "    selected_values = selected_cat_values(column, threshold).index\n",
    "    column[~column.isin(selected_values)] = 'other'\n",
    "    column.astype('category')\n",
    "    return column"
   ]
  },
  {
   "cell_type": "code",
   "execution_count": 157,
   "metadata": {},
   "outputs": [],
   "source": [
    "new_neigh_cleansed =  reduce_cat_values(df.neighbourhood_cleansed, .02)"
   ]
  },
  {
   "cell_type": "code",
   "execution_count": 159,
   "metadata": {},
   "outputs": [
    {
     "data": {
      "text/plain": [
       "other                       0.380232\n",
       "Tempelhofer Vorstadt        0.058753\n",
       "Frankfurter Allee Süd FK    0.056846\n",
       "Alexanderplatz              0.048377\n",
       "Reuterstraße                0.044431\n",
       "Rixdorf                     0.039021\n",
       "Neuköllner Mitte/Zentrum    0.035341\n",
       "Brunnenstr. Süd             0.034276\n",
       "Frankfurter Allee Nord      0.032591\n",
       "Schillerpromenade           0.029354\n",
       "südliche Luisenstadt        0.028512\n",
       "Prenzlauer Berg Nordwest    0.027625\n",
       "Prenzlauer Berg Südwest     0.027403\n",
       "Schöneberg-Nord             0.025142\n",
       "Prenzlauer Berg Süd         0.024610\n",
       "Wedding Zentrum             0.022925\n",
       "Moabit West                 0.021728\n",
       "nördliche Luisenstadt       0.021462\n",
       "Schöneberg-Süd              0.021018\n",
       "Helmholtzplatz              0.020353\n",
       "Name: neighbourhood_cleansed, dtype: float64"
      ]
     },
     "execution_count": 159,
     "metadata": {},
     "output_type": "execute_result"
    }
   ],
   "source": [
    "new_neigh_cleansed.value_counts(normalize = True)"
   ]
  },
  {
   "cell_type": "code",
   "execution_count": 151,
   "metadata": {},
   "outputs": [
    {
     "data": {
      "text/plain": [
       "8"
      ]
     },
     "execution_count": 151,
     "metadata": {},
     "output_type": "execute_result"
    }
   ],
   "source": [
    "len(df[updated_non_digits].columns)"
   ]
  },
  {
   "cell_type": "code",
   "execution_count": 70,
   "metadata": {},
   "outputs": [],
   "source": [
    "categoricals = ['property_type', 'host_location', 'neighbourhood_cleansed', 'room_type', 'cancellation_policy', 'neighbourhood_group_cleansed', 'host_verifications', 'neighbourhood', 'host_neighbourhood']\n",
    "\n"
   ]
  },
  {
   "cell_type": "code",
   "execution_count": 71,
   "metadata": {},
   "outputs": [],
   "source": [
    "def df_reduced_categories(df, categoricals, threshold = .01):\n",
    "    new_df = pd.DataFrame()\n",
    "    for category in categoricals:\n",
    "        new_df[category] = reduce_cat_values(df[category], threshold)\n",
    "    return new_df"
   ]
  },
  {
   "cell_type": "code",
   "execution_count": 72,
   "metadata": {},
   "outputs": [],
   "source": [
    "df_reduced = df_reduced_categories(df, categoricals)"
   ]
  },
  {
   "cell_type": "code",
   "execution_count": 73,
   "metadata": {},
   "outputs": [
    {
     "data": {
      "text/html": [
       "<div>\n",
       "<style scoped>\n",
       "    .dataframe tbody tr th:only-of-type {\n",
       "        vertical-align: middle;\n",
       "    }\n",
       "\n",
       "    .dataframe tbody tr th {\n",
       "        vertical-align: top;\n",
       "    }\n",
       "\n",
       "    .dataframe thead th {\n",
       "        text-align: right;\n",
       "    }\n",
       "</style>\n",
       "<table border=\"1\" class=\"dataframe\">\n",
       "  <thead>\n",
       "    <tr style=\"text-align: right;\">\n",
       "      <th></th>\n",
       "      <th>property_type</th>\n",
       "      <th>host_location</th>\n",
       "      <th>neighbourhood_cleansed</th>\n",
       "      <th>room_type</th>\n",
       "      <th>cancellation_policy</th>\n",
       "      <th>neighbourhood_group_cleansed</th>\n",
       "      <th>host_verifications</th>\n",
       "      <th>neighbourhood</th>\n",
       "      <th>host_neighbourhood</th>\n",
       "    </tr>\n",
       "  </thead>\n",
       "  <tbody>\n",
       "    <tr>\n",
       "      <th>count</th>\n",
       "      <td>22552</td>\n",
       "      <td>22552</td>\n",
       "      <td>22552</td>\n",
       "      <td>22552</td>\n",
       "      <td>22552</td>\n",
       "      <td>22552</td>\n",
       "      <td>22552</td>\n",
       "      <td>22552</td>\n",
       "      <td>22552</td>\n",
       "    </tr>\n",
       "    <tr>\n",
       "      <th>unique</th>\n",
       "      <td>5</td>\n",
       "      <td>4</td>\n",
       "      <td>31</td>\n",
       "      <td>3</td>\n",
       "      <td>4</td>\n",
       "      <td>11</td>\n",
       "      <td>18</td>\n",
       "      <td>14</td>\n",
       "      <td>14</td>\n",
       "    </tr>\n",
       "    <tr>\n",
       "      <th>top</th>\n",
       "      <td>Apartment</td>\n",
       "      <td>Berlin, Berlin, Germany</td>\n",
       "      <td>other</td>\n",
       "      <td>Private room</td>\n",
       "      <td>flexible</td>\n",
       "      <td>Friedrichshain-Kreuzberg</td>\n",
       "      <td>['email', 'phone', 'reviews']</td>\n",
       "      <td>other</td>\n",
       "      <td>other</td>\n",
       "    </tr>\n",
       "    <tr>\n",
       "      <th>freq</th>\n",
       "      <td>20225</td>\n",
       "      <td>17188</td>\n",
       "      <td>5031</td>\n",
       "      <td>11534</td>\n",
       "      <td>9102</td>\n",
       "      <td>5497</td>\n",
       "      <td>4103</td>\n",
       "      <td>4152</td>\n",
       "      <td>7648</td>\n",
       "    </tr>\n",
       "  </tbody>\n",
       "</table>\n",
       "</div>"
      ],
      "text/plain": [
       "       property_type            host_location neighbourhood_cleansed  \\\n",
       "count          22552                    22552                  22552   \n",
       "unique             5                        4                     31   \n",
       "top        Apartment  Berlin, Berlin, Germany                  other   \n",
       "freq           20225                    17188                   5031   \n",
       "\n",
       "           room_type cancellation_policy neighbourhood_group_cleansed  \\\n",
       "count          22552               22552                        22552   \n",
       "unique             3                   4                           11   \n",
       "top     Private room            flexible     Friedrichshain-Kreuzberg   \n",
       "freq           11534                9102                         5497   \n",
       "\n",
       "                   host_verifications neighbourhood host_neighbourhood  \n",
       "count                           22552         22552              22552  \n",
       "unique                             18            14                 14  \n",
       "top     ['email', 'phone', 'reviews']         other              other  \n",
       "freq                             4103          4152               7648  "
      ]
     },
     "execution_count": 73,
     "metadata": {},
     "output_type": "execute_result"
    }
   ],
   "source": [
    "df_reduced.describe()"
   ]
  },
  {
   "cell_type": "code",
   "execution_count": 198,
   "metadata": {},
   "outputs": [
    {
     "data": {
      "text/plain": [
       "array([['property_type', 0.8968162468960624, 'Apartment'],\n",
       "       ['host_location', 0.7621496984746364, 'Berlin, Berlin, Germany'],\n",
       "       ['neighbourhood_cleansed', 0.51232706633558, 'other'],\n",
       "       ['room_type', 0.511440227030862, 'Private room'],\n",
       "       ['cancellation_policy', 0.403600567577155, 'flexible'],\n",
       "       ['host_neighbourhood', 0.38479957431713374, 'other'],\n",
       "       ['host_verifications', 0.2920361830436325, 'other'],\n",
       "       ['neighbourhood_group_cleansed', 0.2437477829017382,\n",
       "        'Friedrichshain-Kreuzberg'],\n",
       "       ['neighbourhood', 0.21882759843916283, 'other']], dtype=object)"
      ]
     },
     "execution_count": 198,
     "metadata": {},
     "output_type": "execute_result"
    }
   ],
   "source": [
    "summarize_counts(df_reduced)"
   ]
  },
  {
   "cell_type": "code",
   "execution_count": 236,
   "metadata": {},
   "outputs": [],
   "source": [
    "def replace_df_columns(original_df, replacing_df):\n",
    "    replacing_cols = replacing_df.columns\n",
    "    original_df = original_df.drop(columns = replacing_cols)\n",
    "    new_df = pd.concat([original_df, replacing_df], axis = 1)\n",
    "    return new_df"
   ]
  },
  {
   "cell_type": "code",
   "execution_count": 233,
   "metadata": {},
   "outputs": [],
   "source": [
    "new_df = replace_df_columns(df, df_reduced)"
   ]
  }
 ],
 "metadata": {
  "kernelspec": {
   "display_name": "Python 3",
   "language": "python",
   "name": "python3"
  },
  "language_info": {
   "codemirror_mode": {
    "name": "ipython",
    "version": 3
   },
   "file_extension": ".py",
   "mimetype": "text/x-python",
   "name": "python",
   "nbconvert_exporter": "python",
   "pygments_lexer": "ipython3",
   "version": "3.7.4"
  }
 },
 "nbformat": 4,
 "nbformat_minor": 4
}
