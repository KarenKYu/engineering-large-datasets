{
 "cells": [
  {
   "cell_type": "markdown",
   "metadata": {},
   "source": [
    "# Coercing to Booleans"
   ]
  },
  {
   "cell_type": "markdown",
   "metadata": {},
   "source": [
    "### Introduction"
   ]
  },
  {
   "cell_type": "markdown",
   "metadata": {},
   "source": [
    "In this lesson, we'll work through identifying and coercing data to boolean values.  This will also prepare us to identify and coerce categorical values in our dataset."
   ]
  },
  {
   "cell_type": "markdown",
   "metadata": {},
   "source": [
    "### Loading our AirBnb Data"
   ]
  },
  {
   "cell_type": "markdown",
   "metadata": {},
   "source": [
    "For this lesson, we'll work with [AirBnb listings in Berlin](https://www.kaggle.com/brittabettendorf/berlin-airbnb-data).  Let's load our data."
   ]
  },
  {
   "cell_type": "code",
   "execution_count": 1,
   "metadata": {},
   "outputs": [],
   "source": [
    "import pandas as pd\n",
    "df = pd.read_feather('./coerced_nums_and_dates.feather')"
   ]
  },
  {
   "cell_type": "code",
   "execution_count": 2,
   "metadata": {},
   "outputs": [
    {
     "data": {
      "text/plain": [
       "(18035, 85)"
      ]
     },
     "execution_count": 2,
     "metadata": {},
     "output_type": "execute_result"
    }
   ],
   "source": [
    "df.shape"
   ]
  },
  {
   "cell_type": "markdown",
   "metadata": {},
   "source": [
    "Lucky for us, we already have our good amount of our data already coerced.  But we still have more work to do."
   ]
  },
  {
   "cell_type": "code",
   "execution_count": 3,
   "metadata": {},
   "outputs": [
    {
     "data": {
      "text/plain": [
       "(18035, 47)"
      ]
     },
     "execution_count": 3,
     "metadata": {},
     "output_type": "execute_result"
    }
   ],
   "source": [
    "object_df = df.select_dtypes(include = 'object')\n",
    "\n",
    "object_df.shape"
   ]
  },
  {
   "cell_type": "markdown",
   "metadata": {},
   "source": [
    "### Feature engineering"
   ]
  },
  {
   "cell_type": "markdown",
   "metadata": {},
   "source": [
    "So a lot of our columns are still of type object.  Let's take a look at some of our object columns. "
   ]
  },
  {
   "cell_type": "code",
   "execution_count": 5,
   "metadata": {},
   "outputs": [
    {
     "data": {
      "text/html": [
       "<div>\n",
       "<style scoped>\n",
       "    .dataframe tbody tr th:only-of-type {\n",
       "        vertical-align: middle;\n",
       "    }\n",
       "\n",
       "    .dataframe tbody tr th {\n",
       "        vertical-align: top;\n",
       "    }\n",
       "\n",
       "    .dataframe thead th {\n",
       "        text-align: right;\n",
       "    }\n",
       "</style>\n",
       "<table border=\"1\" class=\"dataframe\">\n",
       "  <thead>\n",
       "    <tr style=\"text-align: right;\">\n",
       "      <th></th>\n",
       "      <th>listing_url</th>\n",
       "      <th>name</th>\n",
       "      <th>summary</th>\n",
       "      <th>space</th>\n",
       "      <th>description</th>\n",
       "      <th>neighborhood_overview</th>\n",
       "      <th>notes</th>\n",
       "      <th>transit</th>\n",
       "      <th>access</th>\n",
       "      <th>interaction</th>\n",
       "      <th>...</th>\n",
       "      <th>amenities</th>\n",
       "      <th>weekly_price</th>\n",
       "      <th>monthly_price</th>\n",
       "      <th>calendar_updated</th>\n",
       "      <th>requires_license</th>\n",
       "      <th>license</th>\n",
       "      <th>instant_bookable</th>\n",
       "      <th>cancellation_policy</th>\n",
       "      <th>require_guest_profile_picture</th>\n",
       "      <th>require_guest_phone_verification</th>\n",
       "    </tr>\n",
       "  </thead>\n",
       "  <tbody>\n",
       "    <tr>\n",
       "      <th>0</th>\n",
       "      <td>https://www.airbnb.com/rooms/17934396</td>\n",
       "      <td>primeflats - Apartment am Schillerpark 6</td>\n",
       "      <td>This ground-floor apartment in a former newspa...</td>\n",
       "      <td>Welcome to my Berlin classic! The style is mar...</td>\n",
       "      <td>This ground-floor apartment in a former newspa...</td>\n",
       "      <td>The apartment is located in the heart of Berli...</td>\n",
       "      <td>None</td>\n",
       "      <td>The train line 6 is reachable within a five-mi...</td>\n",
       "      <td>None</td>\n",
       "      <td>Guests rent the whole apartment, but I am avai...</td>\n",
       "      <td>...</td>\n",
       "      <td>{TV,Internet,Wifi,Kitchen,\"Free street parking...</td>\n",
       "      <td>None</td>\n",
       "      <td>None</td>\n",
       "      <td>today</td>\n",
       "      <td>t</td>\n",
       "      <td>None</td>\n",
       "      <td>t</td>\n",
       "      <td>super_strict_30</td>\n",
       "      <td>f</td>\n",
       "      <td>f</td>\n",
       "    </tr>\n",
       "    <tr>\n",
       "      <th>1</th>\n",
       "      <td>https://www.airbnb.com/rooms/11836363</td>\n",
       "      <td>Mostaza Bright 1Bed in Mitte</td>\n",
       "      <td>This spacious and calm one bedroom has everyth...</td>\n",
       "      <td>Enjoy of a bright apartment in the center of B...</td>\n",
       "      <td>This spacious and calm one bedroom has everyth...</td>\n",
       "      <td>Everyone coming to Berlin, knows Mitte center....</td>\n",
       "      <td>Underground parking its available at an additi...</td>\n",
       "      <td>Getting around from the apartment its no probl...</td>\n",
       "      <td>You will have access at no extra charge to the...</td>\n",
       "      <td>As much as needed</td>\n",
       "      <td>...</td>\n",
       "      <td>{TV,Internet,Wifi,Kitchen,Gym,Elevator,Heating...</td>\n",
       "      <td>None</td>\n",
       "      <td>None</td>\n",
       "      <td>2 days ago</td>\n",
       "      <td>t</td>\n",
       "      <td>None</td>\n",
       "      <td>t</td>\n",
       "      <td>strict_14_with_grace_period</td>\n",
       "      <td>f</td>\n",
       "      <td>f</td>\n",
       "    </tr>\n",
       "  </tbody>\n",
       "</table>\n",
       "<p>2 rows × 47 columns</p>\n",
       "</div>"
      ],
      "text/plain": [
       "                             listing_url  \\\n",
       "0  https://www.airbnb.com/rooms/17934396   \n",
       "1  https://www.airbnb.com/rooms/11836363   \n",
       "\n",
       "                                       name  \\\n",
       "0  primeflats - Apartment am Schillerpark 6   \n",
       "1              Mostaza Bright 1Bed in Mitte   \n",
       "\n",
       "                                             summary  \\\n",
       "0  This ground-floor apartment in a former newspa...   \n",
       "1  This spacious and calm one bedroom has everyth...   \n",
       "\n",
       "                                               space  \\\n",
       "0  Welcome to my Berlin classic! The style is mar...   \n",
       "1  Enjoy of a bright apartment in the center of B...   \n",
       "\n",
       "                                         description  \\\n",
       "0  This ground-floor apartment in a former newspa...   \n",
       "1  This spacious and calm one bedroom has everyth...   \n",
       "\n",
       "                               neighborhood_overview  \\\n",
       "0  The apartment is located in the heart of Berli...   \n",
       "1  Everyone coming to Berlin, knows Mitte center....   \n",
       "\n",
       "                                               notes  \\\n",
       "0                                               None   \n",
       "1  Underground parking its available at an additi...   \n",
       "\n",
       "                                             transit  \\\n",
       "0  The train line 6 is reachable within a five-mi...   \n",
       "1  Getting around from the apartment its no probl...   \n",
       "\n",
       "                                              access  \\\n",
       "0                                               None   \n",
       "1  You will have access at no extra charge to the...   \n",
       "\n",
       "                                         interaction  ...  \\\n",
       "0  Guests rent the whole apartment, but I am avai...  ...   \n",
       "1                                  As much as needed  ...   \n",
       "\n",
       "                                           amenities weekly_price  \\\n",
       "0  {TV,Internet,Wifi,Kitchen,\"Free street parking...         None   \n",
       "1  {TV,Internet,Wifi,Kitchen,Gym,Elevator,Heating...         None   \n",
       "\n",
       "  monthly_price calendar_updated requires_license license instant_bookable  \\\n",
       "0          None            today                t    None                t   \n",
       "1          None       2 days ago                t    None                t   \n",
       "\n",
       "           cancellation_policy require_guest_profile_picture  \\\n",
       "0              super_strict_30                             f   \n",
       "1  strict_14_with_grace_period                             f   \n",
       "\n",
       "  require_guest_phone_verification  \n",
       "0                                f  \n",
       "1                                f  \n",
       "\n",
       "[2 rows x 47 columns]"
      ]
     },
     "execution_count": 5,
     "metadata": {},
     "output_type": "execute_result"
    }
   ],
   "source": [
    "object_df[:2]"
   ]
  },
  {
   "cell_type": "markdown",
   "metadata": {},
   "source": [
    "Where a larger percentage of the values in our columns repeat, we can think of them as categorical, and eventually one hot encode them.  So we wrote a method called `percent_different` that returns the percent of unique values that make up a series.  If most of the values in a series are unique, then it is not a categorical column.  \n",
    "\n",
    "So in `find_categorical`, we loop through our columns, identifying those where `percent_different` is not too large - and those are our categorical columns."
   ]
  },
  {
   "cell_type": "code",
   "execution_count": 9,
   "metadata": {},
   "outputs": [],
   "source": [
    "def percent_different(df_series):\n",
    "    series_filled = df_series.dropna()\n",
    "    return len(series_filled.unique())/len(series_filled)"
   ]
  },
  {
   "cell_type": "code",
   "execution_count": 10,
   "metadata": {},
   "outputs": [],
   "source": [
    "def find_categorical(df, threshold = .5):    \n",
    "    categorical_df = pd.DataFrame({})\n",
    "    for column in df.columns:\n",
    "        if percent_different(df[column]) < threshold:\n",
    "            categorical_df[column] = df[column]\n",
    "    return categorical_df "
   ]
  },
  {
   "cell_type": "markdown",
   "metadata": {},
   "source": [
    "Let's see how this works."
   ]
  },
  {
   "cell_type": "code",
   "execution_count": 11,
   "metadata": {},
   "outputs": [],
   "source": [
    "potential_cat = find_categorical(object_df)"
   ]
  },
  {
   "cell_type": "code",
   "execution_count": 12,
   "metadata": {},
   "outputs": [
    {
     "data": {
      "text/plain": [
       "(18035, 29)"
      ]
     },
     "execution_count": 12,
     "metadata": {},
     "output_type": "execute_result"
    }
   ],
   "source": [
    "potential_cat.shape"
   ]
  },
  {
   "cell_type": "code",
   "execution_count": 13,
   "metadata": {},
   "outputs": [
    {
     "data": {
      "text/html": [
       "<div>\n",
       "<style scoped>\n",
       "    .dataframe tbody tr th:only-of-type {\n",
       "        vertical-align: middle;\n",
       "    }\n",
       "\n",
       "    .dataframe tbody tr th {\n",
       "        vertical-align: top;\n",
       "    }\n",
       "\n",
       "    .dataframe thead th {\n",
       "        text-align: right;\n",
       "    }\n",
       "</style>\n",
       "<table border=\"1\" class=\"dataframe\">\n",
       "  <thead>\n",
       "    <tr style=\"text-align: right;\">\n",
       "      <th></th>\n",
       "      <th>host_name</th>\n",
       "      <th>host_location</th>\n",
       "      <th>host_response_time</th>\n",
       "      <th>host_is_superhost</th>\n",
       "      <th>host_neighbourhood</th>\n",
       "      <th>host_verifications</th>\n",
       "      <th>host_has_profile_pic</th>\n",
       "      <th>host_identity_verified</th>\n",
       "      <th>street</th>\n",
       "      <th>neighbourhood</th>\n",
       "      <th>...</th>\n",
       "      <th>room_type</th>\n",
       "      <th>bed_type</th>\n",
       "      <th>weekly_price</th>\n",
       "      <th>monthly_price</th>\n",
       "      <th>calendar_updated</th>\n",
       "      <th>requires_license</th>\n",
       "      <th>instant_bookable</th>\n",
       "      <th>cancellation_policy</th>\n",
       "      <th>require_guest_profile_picture</th>\n",
       "      <th>require_guest_phone_verification</th>\n",
       "    </tr>\n",
       "  </thead>\n",
       "  <tbody>\n",
       "    <tr>\n",
       "      <th>0</th>\n",
       "      <td>Ben</td>\n",
       "      <td>Berlin, Berlin, Germany</td>\n",
       "      <td>None</td>\n",
       "      <td>f</td>\n",
       "      <td>None</td>\n",
       "      <td>['email', 'phone', 'facebook', 'reviews', 'jum...</td>\n",
       "      <td>t</td>\n",
       "      <td>t</td>\n",
       "      <td>Berlin, Berlin, Germany</td>\n",
       "      <td>Wedding</td>\n",
       "      <td>...</td>\n",
       "      <td>Entire home/apt</td>\n",
       "      <td>Real Bed</td>\n",
       "      <td>None</td>\n",
       "      <td>None</td>\n",
       "      <td>today</td>\n",
       "      <td>t</td>\n",
       "      <td>t</td>\n",
       "      <td>super_strict_30</td>\n",
       "      <td>f</td>\n",
       "      <td>f</td>\n",
       "    </tr>\n",
       "    <tr>\n",
       "      <th>1</th>\n",
       "      <td>Khadine</td>\n",
       "      <td>DE</td>\n",
       "      <td>None</td>\n",
       "      <td>f</td>\n",
       "      <td>Mitte</td>\n",
       "      <td>['email', 'phone', 'reviews', 'jumio', 'offlin...</td>\n",
       "      <td>t</td>\n",
       "      <td>t</td>\n",
       "      <td>Berlin, Berlin, Germany</td>\n",
       "      <td>Mitte</td>\n",
       "      <td>...</td>\n",
       "      <td>Entire home/apt</td>\n",
       "      <td>Real Bed</td>\n",
       "      <td>None</td>\n",
       "      <td>None</td>\n",
       "      <td>2 days ago</td>\n",
       "      <td>t</td>\n",
       "      <td>t</td>\n",
       "      <td>strict_14_with_grace_period</td>\n",
       "      <td>f</td>\n",
       "      <td>f</td>\n",
       "    </tr>\n",
       "  </tbody>\n",
       "</table>\n",
       "<p>2 rows × 29 columns</p>\n",
       "</div>"
      ],
      "text/plain": [
       "  host_name            host_location host_response_time host_is_superhost  \\\n",
       "0       Ben  Berlin, Berlin, Germany               None                 f   \n",
       "1   Khadine                       DE               None                 f   \n",
       "\n",
       "  host_neighbourhood                                 host_verifications  \\\n",
       "0               None  ['email', 'phone', 'facebook', 'reviews', 'jum...   \n",
       "1              Mitte  ['email', 'phone', 'reviews', 'jumio', 'offlin...   \n",
       "\n",
       "  host_has_profile_pic host_identity_verified                   street  \\\n",
       "0                    t                      t  Berlin, Berlin, Germany   \n",
       "1                    t                      t  Berlin, Berlin, Germany   \n",
       "\n",
       "  neighbourhood  ...        room_type  bed_type weekly_price monthly_price  \\\n",
       "0       Wedding  ...  Entire home/apt  Real Bed         None          None   \n",
       "1         Mitte  ...  Entire home/apt  Real Bed         None          None   \n",
       "\n",
       "  calendar_updated requires_license instant_bookable  \\\n",
       "0            today                t                t   \n",
       "1       2 days ago                t                t   \n",
       "\n",
       "           cancellation_policy require_guest_profile_picture  \\\n",
       "0              super_strict_30                             f   \n",
       "1  strict_14_with_grace_period                             f   \n",
       "\n",
       "  require_guest_phone_verification  \n",
       "0                                f  \n",
       "1                                f  \n",
       "\n",
       "[2 rows x 29 columns]"
      ]
     },
     "execution_count": 13,
     "metadata": {},
     "output_type": "execute_result"
    }
   ],
   "source": [
    "potential_cat[:2]"
   ]
  },
  {
   "cell_type": "markdown",
   "metadata": {},
   "source": [
    "It looks like it did a good job."
   ]
  },
  {
   "cell_type": "markdown",
   "metadata": {},
   "source": [
    "### Combine with Selecting Categorical Columns"
   ]
  },
  {
   "cell_type": "markdown",
   "metadata": {},
   "source": [
    "The next step is to take a look at the values in those identified columns, to see if indeed they are full of categories.  Our `get_multiple_val_counts` method loops through a dataframe, providing the top `value_counts` values, and the related column."
   ]
  },
  {
   "cell_type": "code",
   "execution_count": 15,
   "metadata": {},
   "outputs": [],
   "source": [
    "def get_multiple_val_counts(df, num_vals = 1):\n",
    "    return [df[column].value_counts(normalize=True).iloc[:num_vals] for column in df.columns]"
   ]
  },
  {
   "cell_type": "code",
   "execution_count": 16,
   "metadata": {},
   "outputs": [
    {
     "data": {
      "text/plain": [
       "[Anna    0.009992\n",
       " Name: host_name, dtype: float64,\n",
       " Berlin, Berlin, Germany    0.763945\n",
       " Name: host_location, dtype: float64,\n",
       " within an hour    0.527298\n",
       " Name: host_response_time, dtype: float64]"
      ]
     },
     "execution_count": 16,
     "metadata": {},
     "output_type": "execute_result"
    }
   ],
   "source": [
    "get_multiple_val_counts(potential_cat)[:3]"
   ]
  },
  {
   "cell_type": "markdown",
   "metadata": {},
   "source": [
    "And summarize cats, puts this information in an easier to work with numpy array."
   ]
  },
  {
   "cell_type": "code",
   "execution_count": 21,
   "metadata": {},
   "outputs": [],
   "source": [
    "import numpy as np\n",
    "def summarize_cats(df):\n",
    "    multiple_val_counts = get_multiple_val_counts(df)\n",
    "    stacked_counts = np.vstack([np.array([val_count.name, val_count.index[0], float(val_count.values[0])]) for val_count in multiple_val_counts])\n",
    "    sorted_cols = np.argsort(stacked_counts.reshape(-1, 3)[:, 2].astype('float'))\n",
    "    return stacked_counts[sorted_cols[::-1]]"
   ]
  },
  {
   "cell_type": "code",
   "execution_count": 24,
   "metadata": {},
   "outputs": [
    {
     "data": {
      "text/plain": [
       "array([['market', 'Berlin', '0.9997220369134979'],\n",
       "       ['requires_license', 't', '0.999611865816468'],\n",
       "       ['state', 'Berlin', '0.9976065902259824'],\n",
       "       ['host_has_profile_pic', 't', '0.9973355537052456'],\n",
       "       ['city', 'Berlin', '0.9941209095951192'],\n",
       "       ['smart_location', 'Berlin, Germany', '0.9939561962850014'],\n",
       "       ['require_guest_profile_picture', 'f', '0.9932353756584419'],\n",
       "       ['street', 'Berlin, Berlin, Germany', '0.9893540338231217'],\n",
       "       ['require_guest_phone_verification', 'f', '0.9878014970889937'],\n",
       "       ['bed_type', 'Real Bed', '0.9642916551150541']], dtype='<U32')"
      ]
     },
     "execution_count": 24,
     "metadata": {},
     "output_type": "execute_result"
    }
   ],
   "source": [
    "summary = summarize_cats(potential_cat)\n",
    "summary[:10]"
   ]
  },
  {
   "cell_type": "markdown",
   "metadata": {},
   "source": [
    "The first column in summary is the name of the column, the second is the top value, and the last column is the percent of the column the value was in. "
   ]
  },
  {
   "cell_type": "markdown",
   "metadata": {},
   "source": [
    "### Identifying Boolean Values"
   ]
  },
  {
   "cell_type": "markdown",
   "metadata": {},
   "source": [
    "From the summary grid, we can start to see some strings that are really boolean values.  These are the columns with `t` or `f` as their top values.  "
   ]
  },
  {
   "cell_type": "code",
   "execution_count": 25,
   "metadata": {},
   "outputs": [
    {
     "data": {
      "text/plain": [
       "array([['market', 'Berlin', '0.9997220369134979'],\n",
       "       ['requires_license', 't', '0.999611865816468'],\n",
       "       ['state', 'Berlin', '0.9976065902259824']], dtype='<U32')"
      ]
     },
     "execution_count": 25,
     "metadata": {},
     "output_type": "execute_result"
    }
   ],
   "source": [
    "summary[:3]"
   ]
  },
  {
   "cell_type": "markdown",
   "metadata": {},
   "source": [
    "Let's select all of the columns from our summary that have values of `t` or `f`."
   ]
  },
  {
   "cell_type": "code",
   "execution_count": 26,
   "metadata": {},
   "outputs": [],
   "source": [
    "boolean_summary = summary[np.isin(summary[:, 1], ['t', 'f'])]"
   ]
  },
  {
   "cell_type": "code",
   "execution_count": 27,
   "metadata": {},
   "outputs": [
    {
     "data": {
      "text/plain": [
       "array(['requires_license', 'host_has_profile_pic',\n",
       "       'require_guest_profile_picture',\n",
       "       'require_guest_phone_verification', 'host_is_superhost',\n",
       "       'is_location_exact', 'instant_bookable', 'host_identity_verified'],\n",
       "      dtype='<U32')"
      ]
     },
     "execution_count": 27,
     "metadata": {},
     "output_type": "execute_result"
    }
   ],
   "source": [
    "true_boolean_cols = boolean_summary[:, 0]\n",
    "true_boolean_cols"
   ]
  },
  {
   "cell_type": "markdown",
   "metadata": {},
   "source": [
    "Now that we have selected our boolean columns, we can use our MissingIndicator to convert these columns to have True or False values.  We do so, we by having the transformer set `t` to True, and all other values to False."
   ]
  },
  {
   "cell_type": "markdown",
   "metadata": {},
   "source": [
    "> We can loop through to do this for each of our boolean columns."
   ]
  },
  {
   "cell_type": "code",
   "execution_count": 29,
   "metadata": {},
   "outputs": [],
   "source": [
    "from sklearn.impute import MissingIndicator\n",
    "steps = [([col], MissingIndicator(missing_values = 't')) \n",
    "         for col in true_boolean_cols]"
   ]
  },
  {
   "cell_type": "markdown",
   "metadata": {},
   "source": [
    "And then place these steps in a DataFrameMapper."
   ]
  },
  {
   "cell_type": "code",
   "execution_count": 30,
   "metadata": {},
   "outputs": [],
   "source": [
    "from sklearn_pandas import DataFrameMapper\n",
    "boolean_mapper = DataFrameMapper(steps, df_out = True)"
   ]
  },
  {
   "cell_type": "code",
   "execution_count": 31,
   "metadata": {},
   "outputs": [],
   "source": [
    "bool_df = boolean_mapper.fit_transform(df)"
   ]
  },
  {
   "cell_type": "code",
   "execution_count": 32,
   "metadata": {},
   "outputs": [
    {
     "data": {
      "text/html": [
       "<div>\n",
       "<style scoped>\n",
       "    .dataframe tbody tr th:only-of-type {\n",
       "        vertical-align: middle;\n",
       "    }\n",
       "\n",
       "    .dataframe tbody tr th {\n",
       "        vertical-align: top;\n",
       "    }\n",
       "\n",
       "    .dataframe thead th {\n",
       "        text-align: right;\n",
       "    }\n",
       "</style>\n",
       "<table border=\"1\" class=\"dataframe\">\n",
       "  <thead>\n",
       "    <tr style=\"text-align: right;\">\n",
       "      <th></th>\n",
       "      <th>requires_license</th>\n",
       "      <th>host_has_profile_pic</th>\n",
       "      <th>require_guest_profile_picture</th>\n",
       "      <th>require_guest_phone_verification</th>\n",
       "      <th>host_is_superhost</th>\n",
       "      <th>is_location_exact</th>\n",
       "      <th>instant_bookable</th>\n",
       "      <th>host_identity_verified</th>\n",
       "    </tr>\n",
       "  </thead>\n",
       "  <tbody>\n",
       "    <tr>\n",
       "      <th>0</th>\n",
       "      <td>True</td>\n",
       "      <td>True</td>\n",
       "      <td>False</td>\n",
       "      <td>False</td>\n",
       "      <td>False</td>\n",
       "      <td>False</td>\n",
       "      <td>True</td>\n",
       "      <td>True</td>\n",
       "    </tr>\n",
       "    <tr>\n",
       "      <th>1</th>\n",
       "      <td>True</td>\n",
       "      <td>True</td>\n",
       "      <td>False</td>\n",
       "      <td>False</td>\n",
       "      <td>False</td>\n",
       "      <td>True</td>\n",
       "      <td>True</td>\n",
       "      <td>True</td>\n",
       "    </tr>\n",
       "  </tbody>\n",
       "</table>\n",
       "</div>"
      ],
      "text/plain": [
       "   requires_license  host_has_profile_pic  require_guest_profile_picture  \\\n",
       "0              True                  True                          False   \n",
       "1              True                  True                          False   \n",
       "\n",
       "   require_guest_phone_verification  host_is_superhost  is_location_exact  \\\n",
       "0                             False              False              False   \n",
       "1                             False              False               True   \n",
       "\n",
       "   instant_bookable  host_identity_verified  \n",
       "0              True                    True  \n",
       "1              True                    True  "
      ]
     },
     "execution_count": 32,
     "metadata": {},
     "output_type": "execute_result"
    }
   ],
   "source": [
    "bool_df[:2]"
   ]
  },
  {
   "cell_type": "markdown",
   "metadata": {},
   "source": [
    "Then we can update our dataframe."
   ]
  },
  {
   "cell_type": "code",
   "execution_count": 35,
   "metadata": {},
   "outputs": [],
   "source": [
    "df.loc[:, bool_df.columns] = bool_df"
   ]
  },
  {
   "cell_type": "code",
   "execution_count": 36,
   "metadata": {},
   "outputs": [],
   "source": [
    "df.to_feather('./listings_coerced_bools.feather')"
   ]
  },
  {
   "cell_type": "markdown",
   "metadata": {},
   "source": [
    "Then we can use numpy to identify our remaining potential_cat columns that we should coerce."
   ]
  },
  {
   "cell_type": "code",
   "execution_count": 33,
   "metadata": {},
   "outputs": [
    {
     "data": {
      "text/plain": [
       "array(['bed_type', 'calendar_updated', 'cancellation_policy', 'city',\n",
       "       'host_location', 'host_name', 'host_neighbourhood',\n",
       "       'host_response_time', 'host_verifications', 'market',\n",
       "       'monthly_price', 'neighbourhood', 'neighbourhood_cleansed',\n",
       "       'neighbourhood_group_cleansed', 'property_type', 'room_type',\n",
       "       'smart_location', 'state', 'street', 'weekly_price', 'zipcode'],\n",
       "      dtype=object)"
      ]
     },
     "execution_count": 33,
     "metadata": {},
     "output_type": "execute_result"
    }
   ],
   "source": [
    "import numpy as np\n",
    "remaining_cat_cols = np.setdiff1d(potential_cat.columns, bool_df.columns)\n",
    "\n",
    "remaining_cat_cols"
   ]
  },
  {
   "cell_type": "markdown",
   "metadata": {},
   "source": [
    "### Summary"
   ]
  },
  {
   "cell_type": "markdown",
   "metadata": {},
   "source": [
    "In this lesson, we were introduced to some of the methods for handling boolean and categorical data.  We saw that we identified our categorical columns by looking at the percent different.  If not a large percent of a column's values are different, it is likely categorical or boolean.  We then used our `summarize_cats` method to view the top values in each of the columns, along with how often they occur.\n",
    "\n",
    "Finally, we used the `MissingImputer` to convert values in almost boolean columns to True and False values."
   ]
  },
  {
   "cell_type": "code",
   "execution_count": 59,
   "metadata": {},
   "outputs": [],
   "source": [
    "import numpy as np\n",
    "def summarize_counts(df):\n",
    "    frequencies = np.array([df[column].value_counts(normalize=True).values[0] for column in df]).reshape(-1, 1)\n",
    "    columns = df.columns.to_numpy().reshape(-1, 1)\n",
    "    top_values = np.array([df[column].value_counts(normalize=True).index[0] for column in df]).reshape(-1, 1)\n",
    "    summarize = np.hstack((columns, frequencies, top_values))\n",
    "    return summarize[summarize[:,1].argsort()[::-1]]"
   ]
  },
  {
   "cell_type": "code",
   "execution_count": 60,
   "metadata": {},
   "outputs": [],
   "source": [
    "summary = summarize_counts(potential_cat)"
   ]
  }
 ],
 "metadata": {
  "kernelspec": {
   "display_name": "Python 3",
   "language": "python",
   "name": "python3"
  },
  "language_info": {
   "codemirror_mode": {
    "name": "ipython",
    "version": 3
   },
   "file_extension": ".py",
   "mimetype": "text/x-python",
   "name": "python",
   "nbconvert_exporter": "python",
   "pygments_lexer": "ipython3",
   "version": "3.7.4"
  }
 },
 "nbformat": 4,
 "nbformat_minor": 4
}
