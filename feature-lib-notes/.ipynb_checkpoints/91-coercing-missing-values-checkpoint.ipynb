{
 "cells": [
  {
   "cell_type": "markdown",
   "metadata": {},
   "source": [
    "# Coercing Missing Values"
   ]
  },
  {
   "cell_type": "markdown",
   "metadata": {},
   "source": [
    "### Introduction"
   ]
  },
  {
   "cell_type": "markdown",
   "metadata": {},
   "source": [
    "In this lesson, let's apply our strategy of replacing missing values with the mean."
   ]
  },
  {
   "cell_type": "code",
   "execution_count": null,
   "metadata": {},
   "outputs": [],
   "source": []
  },
  {
   "cell_type": "code",
   "execution_count": 1,
   "metadata": {},
   "outputs": [],
   "source": [
    "from sklearn_pandas import DataFrameMapper\n",
    "from sklearn.impute import SimpleImputer\n",
    "import numpy as np\n",
    "\n",
    "replace_zero_cols = ['availability_30', 'availability_60', 'availability_90']\n",
    "\n",
    "mapper = DataFrameMapper([\n",
    "    (['availability_30'], SimpleImputer(missing_values = 0, \n",
    "                                      strategy = 'constant',\n",
    "                                      fill_value = np.nan)),\n",
    "    (['availability_60'], SimpleImputer(missing_values = 0, \n",
    "                                      strategy = 'constant',\n",
    "                                      fill_value = np.nan)),\n",
    "    (['availability_90'], SimpleImputer(missing_values = 0, \n",
    "                                      strategy = 'constant',\n",
    "                                      fill_value = np.nan)),\n",
    "    (['maximum_nights'], SimpleImputer(missing_values = 999, \n",
    "                                      strategy = 'constant',\n",
    "                                      fill_value = np.nan))\n",
    "], df_out = True)"
   ]
  },
  {
   "cell_type": "code",
   "execution_count": null,
   "metadata": {},
   "outputs": [],
   "source": []
  }
 ],
 "metadata": {
  "kernelspec": {
   "display_name": "Python 3",
   "language": "python",
   "name": "python3"
  },
  "language_info": {
   "codemirror_mode": {
    "name": "ipython",
    "version": 3
   },
   "file_extension": ".py",
   "mimetype": "text/x-python",
   "name": "python",
   "nbconvert_exporter": "python",
   "pygments_lexer": "ipython3",
   "version": "3.7.4"
  }
 },
 "nbformat": 4,
 "nbformat_minor": 4
}
