{
 "cells": [
  {
   "cell_type": "markdown",
   "metadata": {},
   "source": [
    "# Coerce to Booleans Lab"
   ]
  },
  {
   "cell_type": "markdown",
   "metadata": {},
   "source": [
    "### Introduction"
   ]
  },
  {
   "cell_type": "markdown",
   "metadata": {},
   "source": [
    "In this lesson, we'll have you continue to work with on our airbnb dataset.  Let's start by loading up our data."
   ]
  },
  {
   "cell_type": "markdown",
   "metadata": {},
   "source": [
    "### Working with AirBnb"
   ]
  },
  {
   "cell_type": "markdown",
   "metadata": {},
   "source": [
    "For this lesson, we'll work with [AirBnb listings in Berlin](https://www.kaggle.com/brittabettendorf/berlin-airbnb-data)."
   ]
  },
  {
   "cell_type": "code",
   "execution_count": 1,
   "metadata": {},
   "outputs": [],
   "source": [
    "import pandas as pd\n",
    "df = pd.read_feather('./listings_coerced_bools.feather')"
   ]
  },
  {
   "cell_type": "markdown",
   "metadata": {},
   "source": [
    "So we'll continue to work on where we last left off with our data.  Let's take a look at the number of columns we have left to convert.  Select the columns that are still of type object."
   ]
  },
  {
   "cell_type": "code",
   "execution_count": 8,
   "metadata": {},
   "outputs": [],
   "source": [
    "object_df = df.select_dtypes(include = 'object')\n",
    "\n",
    "# object_df.shape"
   ]
  },
  {
   "cell_type": "markdown",
   "metadata": {},
   "source": [
    "So we're down to 39 features."
   ]
  },
  {
   "cell_type": "markdown",
   "metadata": {},
   "source": [
    "### Reviewing our Functions"
   ]
  },
  {
   "cell_type": "markdown",
   "metadata": {},
   "source": [
    "These are the functions that we'll have to work with.  Remember that the first two functions are to identify our potential categorical columns, and the next set of functions allow us to look more closely at the top values in those columns."
   ]
  },
  {
   "cell_type": "code",
   "execution_count": 5,
   "metadata": {},
   "outputs": [],
   "source": [
    "def percent_different(df_series):\n",
    "    series_filled = df_series.dropna()\n",
    "    return len(series_filled.unique())/len(series_filled)"
   ]
  },
  {
   "cell_type": "code",
   "execution_count": 6,
   "metadata": {},
   "outputs": [],
   "source": [
    "def find_categorical(df, threshold = .5):    \n",
    "    categorical_df = pd.DataFrame({})\n",
    "    for column in df.columns:\n",
    "        if percent_different(df[column]) < threshold:\n",
    "            categorical_df[column] = df[column]\n",
    "    return categorical_df "
   ]
  },
  {
   "cell_type": "code",
   "execution_count": 14,
   "metadata": {},
   "outputs": [],
   "source": [
    "def get_multiple_val_counts(df, num_vals = 1):\n",
    "    return [df[column].value_counts(normalize=True).iloc[:num_vals] for column in df.columns]"
   ]
  },
  {
   "cell_type": "code",
   "execution_count": 17,
   "metadata": {},
   "outputs": [],
   "source": [
    "import numpy as np\n",
    "def summarize_cats(df):\n",
    "    multiple_val_counts = get_multiple_val_counts(df)\n",
    "    stacked_counts = np.vstack([np.array([val_count.name, val_count.index[0], float(val_count.values[0])]) for val_count in multiple_val_counts])\n",
    "    sorted_cols = np.argsort(stacked_counts.reshape(-1, 3)[:, 2].astype('float'))\n",
    "    return stacked_counts[sorted_cols[::-1]]"
   ]
  },
  {
   "cell_type": "markdown",
   "metadata": {},
   "source": [
    "### Selecting Categorical Columns"
   ]
  },
  {
   "cell_type": "markdown",
   "metadata": {},
   "source": [
    "Begin by selecting the remaining categorical columns from our dataframe that have not yet been coerced."
   ]
  },
  {
   "cell_type": "code",
   "execution_count": 9,
   "metadata": {},
   "outputs": [],
   "source": [
    "potential_cat = find_categorical(object_df)"
   ]
  },
  {
   "cell_type": "code",
   "execution_count": 12,
   "metadata": {},
   "outputs": [
    {
     "data": {
      "text/plain": [
       "(18035, 21)"
      ]
     },
     "execution_count": 12,
     "metadata": {},
     "output_type": "execute_result"
    }
   ],
   "source": [
    "potential_cat.shape\n",
    "# (18035, 21)"
   ]
  },
  {
   "cell_type": "markdown",
   "metadata": {},
   "source": [
    "So we have 21 remaining columns that we can work with.  Now let's use the `summarize_cats` function to get a better sense of these columns."
   ]
  },
  {
   "cell_type": "code",
   "execution_count": 19,
   "metadata": {},
   "outputs": [
    {
     "data": {
      "text/plain": [
       "array([['market', 'Berlin', '0.9997220369134979'],\n",
       "       ['state', 'Berlin', '0.9976065902259824'],\n",
       "       ['city', 'Berlin', '0.9941209095951192'],\n",
       "       ['smart_location', 'Berlin, Germany', '0.9939561962850014'],\n",
       "       ['street', 'Berlin, Berlin, Germany', '0.9893540338231217'],\n",
       "       ['bed_type', 'Real Bed', '0.9642916551150541'],\n",
       "       ['property_type', 'Apartment', '0.896811754920987'],\n",
       "       ['host_location', 'Berlin, Berlin, Germany', '0.7639453886876567'],\n",
       "       ['host_response_time', 'within an hour', '0.5272984805562709'],\n",
       "       ['room_type', 'Private room', '0.50945383975603'],\n",
       "       ['cancellation_policy', 'flexible', '0.404435819240366'],\n",
       "       ['neighbourhood_group_cleansed', 'Friedrichshain-Kreuzberg',\n",
       "        '0.24324923759356806'],\n",
       "       ['host_verifications', \"['email', 'phone', 'reviews']\",\n",
       "        '0.1810923204879401'],\n",
       "       ['neighbourhood', 'Neukölln', '0.14616911936463442'],\n",
       "       ['host_neighbourhood', 'Neukölln', '0.14327652871258773'],\n",
       "       ['calendar_updated', 'today', '0.1112836151926809'],\n",
       "       ['weekly_price', '$300.00', '0.06230847803881512'],\n",
       "       ['neighbourhood_cleansed', 'Tempelhofer Vorstadt',\n",
       "        '0.05871915719434433'],\n",
       "       ['monthly_price', '$1,200.00', '0.05368171021377672'],\n",
       "       ['zipcode', '10245', '0.038815526210484196'],\n",
       "       ['host_name', 'Anna', '0.009991673605328892']], dtype='<U29')"
      ]
     },
     "execution_count": 19,
     "metadata": {},
     "output_type": "execute_result"
    }
   ],
   "source": [
    "summary = summarize_cats(potential_cat)\n",
    "\n",
    "summary"
   ]
  },
  {
   "cell_type": "markdown",
   "metadata": {},
   "source": [
    "Ok, so the main thing to identify is that some of the columns can probably be reframed as booleans.  For example the market column could be renamed `market_is_Berlin` and be labeled True whenever Berlin, and False otherwise.  \n",
    "\n",
    "Let's select the first five column names from the summary above."
   ]
  },
  {
   "cell_type": "code",
   "execution_count": 20,
   "metadata": {},
   "outputs": [
    {
     "data": {
      "text/plain": [
       "array(['market', 'state', 'city', 'smart_location', 'street'],\n",
       "      dtype='<U29')"
      ]
     },
     "execution_count": 20,
     "metadata": {},
     "output_type": "execute_result"
    }
   ],
   "source": [
    "summary[:5, 0]"
   ]
  },
  {
   "cell_type": "markdown",
   "metadata": {},
   "source": [
    "And then we can use our `get_multiple_val_counts` function to look at the top three values in each of these columns."
   ]
  },
  {
   "cell_type": "code",
   "execution_count": 22,
   "metadata": {},
   "outputs": [
    {
     "data": {
      "text/plain": [
       "[Berlin                   0.999722\n",
       " Other (International)    0.000111\n",
       " Juarez                   0.000056\n",
       " Name: market, dtype: float64,\n",
       " Berlin                0.997607\n",
       " Brandenburg           0.000612\n",
       " Schleswig-Holstein    0.000390\n",
       " Name: state, dtype: float64,\n",
       " Berlin        0.994121\n",
       " Schöneberg    0.000555\n",
       " Berlin        0.000555\n",
       " Name: city, dtype: float64,\n",
       " Berlin, Germany        0.993956\n",
       " Schöneberg, Germany    0.000554\n",
       " ., Germany             0.000554\n",
       " Name: smart_location, dtype: float64,\n",
       " Berlin, Berlin, Germany    0.989354\n",
       " Berlin, Germany            0.003216\n",
       " ., Berlin, Germany         0.000554\n",
       " Name: street, dtype: float64]"
      ]
     },
     "execution_count": 22,
     "metadata": {},
     "output_type": "execute_result"
    }
   ],
   "source": [
    "get_multiple_val_counts(df[summary[:5, 0]], 3)\n",
    "\n",
    "# [Berlin                   0.999722\n",
    "#  Other (International)    0.000111\n",
    "#  Juarez                   0.000056\n",
    "#  Name: market, dtype: float64,\n",
    "#  Berlin                0.997607\n",
    "#  Brandenburg           0.000612\n",
    "#  Schleswig-Holstein    0.000390\n",
    "#  Name: state, dtype: float64,\n",
    "#  Berlin        0.994121\n",
    "#  Schöneberg    0.000555\n",
    "#  Berlin        0.000555\n",
    "#  Name: city, dtype: float64,\n",
    "#  Berlin, Germany        0.993956\n",
    "#  Schöneberg, Germany    0.000554\n",
    "#  ., Germany             0.000554\n",
    "#  Name: smart_location, dtype: float64,\n",
    "#  Berlin, Berlin, Germany    0.989354\n",
    "#  Berlin, Germany            0.003216\n",
    "#  ., Berlin, Germany         0.000554\n",
    "#  Name: street, dtype: float64]"
   ]
  },
  {
   "cell_type": "markdown",
   "metadata": {},
   "source": [
    "So it seems safe to relabel these five as boolean columns."
   ]
  },
  {
   "cell_type": "markdown",
   "metadata": {},
   "source": [
    "### Creating our Steps"
   ]
  },
  {
   "cell_type": "markdown",
   "metadata": {},
   "source": [
    "Now we'll need to create our steps.  Note that each step will take on the following format."
   ]
  },
  {
   "cell_type": "markdown",
   "metadata": {},
   "source": [
    "```python\n",
    "([col], MissingIndicator(missing_values = top_val) )\n",
    "```"
   ]
  },
  {
   "cell_type": "markdown",
   "metadata": {},
   "source": [
    "So we specify both the column, and the value that is we want set to True which is the top value.  To do this for all columns, we first need to pair our boolean columns and the related top values."
   ]
  },
  {
   "cell_type": "code",
   "execution_count": 25,
   "metadata": {},
   "outputs": [],
   "source": [
    "potential_bool_cols = summary[:5, :]"
   ]
  },
  {
   "cell_type": "code",
   "execution_count": 26,
   "metadata": {},
   "outputs": [],
   "source": [
    "paired_bools = list(zip(list(potential_bool_cols[:, 0]), list(potential_bool_cols[:, 1])))"
   ]
  },
  {
   "cell_type": "code",
   "execution_count": 27,
   "metadata": {},
   "outputs": [
    {
     "data": {
      "text/plain": [
       "[('market', 'Berlin'),\n",
       " ('state', 'Berlin'),\n",
       " ('city', 'Berlin'),\n",
       " ('smart_location', 'Berlin, Germany'),\n",
       " ('street', 'Berlin, Berlin, Germany')]"
      ]
     },
     "execution_count": 27,
     "metadata": {},
     "output_type": "execute_result"
    }
   ],
   "source": [
    "paired_bools"
   ]
  },
  {
   "cell_type": "code",
   "execution_count": null,
   "metadata": {},
   "outputs": [],
   "source": [
    "Then use a "
   ]
  },
  {
   "cell_type": "code",
   "execution_count": 31,
   "metadata": {},
   "outputs": [],
   "source": [
    "from sklearn.impute import MissingIndicator\n",
    "steps = [([col], MissingIndicator(missing_values = top_val)) \n",
    "         for col, top_val in paired_bools]"
   ]
  },
  {
   "cell_type": "code",
   "execution_count": 32,
   "metadata": {},
   "outputs": [
    {
     "data": {
      "text/plain": [
       "[(['market'],\n",
       "  MissingIndicator(error_on_new=True, features='missing-only',\n",
       "                   missing_values='Berlin', sparse='auto')),\n",
       " (['state'],\n",
       "  MissingIndicator(error_on_new=True, features='missing-only',\n",
       "                   missing_values='Berlin', sparse='auto')),\n",
       " (['city'],\n",
       "  MissingIndicator(error_on_new=True, features='missing-only',\n",
       "                   missing_values='Berlin', sparse='auto')),\n",
       " (['smart_location'],\n",
       "  MissingIndicator(error_on_new=True, features='missing-only',\n",
       "                   missing_values='Berlin, Germany', sparse='auto')),\n",
       " (['street'],\n",
       "  MissingIndicator(error_on_new=True, features='missing-only',\n",
       "                   missing_values='Berlin, Berlin, Germany', sparse='auto'))]"
      ]
     },
     "execution_count": 32,
     "metadata": {},
     "output_type": "execute_result"
    }
   ],
   "source": [
    "steps\n",
    "\n",
    "# [(['market'],\n",
    "#   MissingIndicator(error_on_new=True, features='missing-only',\n",
    "#                    missing_values='Berlin', sparse='auto'),\n",
    "#   {'alias': 'market_is_Berlin'}),\n",
    "#  (['state'],\n",
    "#   MissingIndicator(error_on_new=True, features='missing-only',\n",
    "#                    missing_values='Berlin', sparse='auto'),\n",
    "#   {'alias': 'state_is_Berlin'}),\n",
    "#  (['city'],\n",
    "#   MissingIndicator(error_on_new=True, features='missing-only',\n",
    "#                    missing_values='Berlin', sparse='auto'),\n",
    "#   {'alias': 'city_is_Berlin'}),\n",
    "#  (['smart_location'],\n",
    "#   MissingIndicator(error_on_new=True, features='missing-only',\n",
    "#                    missing_values='Berlin, Germany', sparse='auto'),\n",
    "#   {'alias': 'smart_location_is_Berlin, Germany'}),\n",
    "#  (['street'],\n",
    "#   MissingIndicator(error_on_new=True, features='missing-only',\n",
    "#                    missing_values='Berlin, Berlin, Germany', sparse='auto'),\n",
    "#   {'alias': 'street_is_Berlin, Berlin, Germany'})]"
   ]
  },
  {
   "cell_type": "code",
   "execution_count": 35,
   "metadata": {},
   "outputs": [],
   "source": [
    "from sklearn_pandas import DataFrameMapper\n",
    "practical_bools_mapper = DataFrameMapper(steps, df_out = True)"
   ]
  },
  {
   "cell_type": "code",
   "execution_count": 36,
   "metadata": {},
   "outputs": [],
   "source": [
    "df_practical_bools = practical_bools_mapper.fit_transform(df)"
   ]
  },
  {
   "cell_type": "code",
   "execution_count": 37,
   "metadata": {},
   "outputs": [
    {
     "data": {
      "text/html": [
       "<div>\n",
       "<style scoped>\n",
       "    .dataframe tbody tr th:only-of-type {\n",
       "        vertical-align: middle;\n",
       "    }\n",
       "\n",
       "    .dataframe tbody tr th {\n",
       "        vertical-align: top;\n",
       "    }\n",
       "\n",
       "    .dataframe thead th {\n",
       "        text-align: right;\n",
       "    }\n",
       "</style>\n",
       "<table border=\"1\" class=\"dataframe\">\n",
       "  <thead>\n",
       "    <tr style=\"text-align: right;\">\n",
       "      <th></th>\n",
       "      <th>market</th>\n",
       "      <th>state</th>\n",
       "      <th>city</th>\n",
       "      <th>smart_location</th>\n",
       "      <th>street</th>\n",
       "    </tr>\n",
       "  </thead>\n",
       "  <tbody>\n",
       "    <tr>\n",
       "      <th>0</th>\n",
       "      <td>True</td>\n",
       "      <td>True</td>\n",
       "      <td>True</td>\n",
       "      <td>True</td>\n",
       "      <td>True</td>\n",
       "    </tr>\n",
       "    <tr>\n",
       "      <th>1</th>\n",
       "      <td>True</td>\n",
       "      <td>True</td>\n",
       "      <td>True</td>\n",
       "      <td>True</td>\n",
       "      <td>True</td>\n",
       "    </tr>\n",
       "  </tbody>\n",
       "</table>\n",
       "</div>"
      ],
      "text/plain": [
       "   market  state  city  smart_location  street\n",
       "0    True   True  True            True    True\n",
       "1    True   True  True            True    True"
      ]
     },
     "execution_count": 37,
     "metadata": {},
     "output_type": "execute_result"
    }
   ],
   "source": [
    "df_practical_bools[:2]"
   ]
  },
  {
   "cell_type": "markdown",
   "metadata": {},
   "source": [
    "### Remaining Categories"
   ]
  },
  {
   "cell_type": "markdown",
   "metadata": {},
   "source": [
    "* But we may not want values with digits, as we could change them to floats."
   ]
  },
  {
   "cell_type": "code",
   "execution_count": 126,
   "metadata": {},
   "outputs": [],
   "source": [
    "def num_is_digit(array, str_index = 0):\n",
    "    return np.array([value[str_index].isdigit() for value in array])"
   ]
  },
  {
   "cell_type": "code",
   "execution_count": 127,
   "metadata": {},
   "outputs": [
    {
     "data": {
      "text/plain": [
       "array([False,  True,  True,  True,  True, False,  True,  True,  True,\n",
       "        True])"
      ]
     },
     "execution_count": 127,
     "metadata": {},
     "output_type": "execute_result"
    }
   ],
   "source": [
    "num_is_digit(selected[:, 2], str_index = 0)[0:10]"
   ]
  },
  {
   "cell_type": "code",
   "execution_count": 128,
   "metadata": {},
   "outputs": [],
   "source": [
    "def remove_digits_from_selected(selected_matrix, col_idx, str_indices = [0, -1]):\n",
    "    for idx in str_indices:\n",
    "        selected_col = selected_matrix[~num_is_digit(selected_matrix[:, col_idx], idx)]\n",
    "    return selected_col"
   ]
  },
  {
   "cell_type": "code",
   "execution_count": 130,
   "metadata": {},
   "outputs": [
    {
     "data": {
      "text/plain": [
       "array([['property_type', 0.8968162468960624, 'Apartment'],\n",
       "       ['host_location', 0.7660902121590302, 'Berlin, Berlin, Germany'],\n",
       "       ['host_response_rate', 0.7380138759449104, '100%'],\n",
       "       ['host_response_time', 0.5260923586663906, 'within an hour'],\n",
       "       ['room_type', 0.511440227030862, 'Private room'],\n",
       "       ['cancellation_policy', 0.403600567577155, 'flexible'],\n",
       "       ['neighbourhood_group_cleansed', 0.2437477829017382,\n",
       "        'Friedrichshain-Kreuzberg'],\n",
       "       ['host_verifications', 0.18193508336289466,\n",
       "        \"['email', 'phone', 'reviews']\"],\n",
       "       ['neighbourhood', 0.1498062648802577, 'Neukölln'],\n",
       "       ['host_neighbourhood', 0.14640852331309429, 'Neukölln'],\n",
       "       ['calendar_updated', 0.11160872649875843, 'today']], dtype=object)"
      ]
     },
     "execution_count": 130,
     "metadata": {},
     "output_type": "execute_result"
    }
   ],
   "source": [
    "selected_sums_no_digits = remove_digits_from_selected(selected, 2, [0, -1])\n",
    "selected_sums_no_digits"
   ]
  },
  {
   "cell_type": "markdown",
   "metadata": {},
   "source": [
    "### Cleaning Values"
   ]
  },
  {
   "cell_type": "markdown",
   "metadata": {},
   "source": [
    "1. Find columns to clean"
   ]
  },
  {
   "cell_type": "code",
   "execution_count": 31,
   "metadata": {},
   "outputs": [],
   "source": [
    "def categorical_plus_values(df, threshold = 5):\n",
    "    categorical_cols = find_categorical(df)\n",
    "    return [column for column in categorical_cols if len(df[column].value_counts()) > threshold]"
   ]
  },
  {
   "cell_type": "code",
   "execution_count": 131,
   "metadata": {},
   "outputs": [
    {
     "data": {
      "text/plain": [
       "array(['property_type', 'host_location', 'host_response_rate',\n",
       "       'host_response_time', 'room_type', 'cancellation_policy',\n",
       "       'neighbourhood_group_cleansed', 'host_verifications',\n",
       "       'neighbourhood', 'host_neighbourhood', 'calendar_updated'],\n",
       "      dtype=object)"
      ]
     },
     "execution_count": 131,
     "metadata": {},
     "output_type": "execute_result"
    }
   ],
   "source": [
    "selected_cat_cols = selected_sums_no_digits[:, 0]\n",
    "\n",
    "selected_cat_cols"
   ]
  },
  {
   "cell_type": "code",
   "execution_count": 132,
   "metadata": {},
   "outputs": [
    {
     "data": {
      "text/html": [
       "<div>\n",
       "<style scoped>\n",
       "    .dataframe tbody tr th:only-of-type {\n",
       "        vertical-align: middle;\n",
       "    }\n",
       "\n",
       "    .dataframe tbody tr th {\n",
       "        vertical-align: top;\n",
       "    }\n",
       "\n",
       "    .dataframe thead th {\n",
       "        text-align: right;\n",
       "    }\n",
       "</style>\n",
       "<table border=\"1\" class=\"dataframe\">\n",
       "  <thead>\n",
       "    <tr style=\"text-align: right;\">\n",
       "      <th></th>\n",
       "      <th>property_type</th>\n",
       "      <th>host_location</th>\n",
       "      <th>host_response_rate</th>\n",
       "      <th>host_response_time</th>\n",
       "      <th>room_type</th>\n",
       "      <th>cancellation_policy</th>\n",
       "      <th>neighbourhood_group_cleansed</th>\n",
       "      <th>host_verifications</th>\n",
       "      <th>neighbourhood</th>\n",
       "      <th>host_neighbourhood</th>\n",
       "      <th>calendar_updated</th>\n",
       "    </tr>\n",
       "  </thead>\n",
       "  <tbody>\n",
       "    <tr>\n",
       "      <th>0</th>\n",
       "      <td>Guesthouse</td>\n",
       "      <td>Key Biscayne, Florida, United States</td>\n",
       "      <td>96%</td>\n",
       "      <td>within an hour</td>\n",
       "      <td>Entire home/apt</td>\n",
       "      <td>strict_14_with_grace_period</td>\n",
       "      <td>Mitte</td>\n",
       "      <td>['email', 'phone', 'reviews', 'jumio', 'offlin...</td>\n",
       "      <td>Mitte</td>\n",
       "      <td>Mitte</td>\n",
       "      <td>3 months ago</td>\n",
       "    </tr>\n",
       "    <tr>\n",
       "      <th>1</th>\n",
       "      <td>Apartment</td>\n",
       "      <td>Berlin, Berlin, Germany</td>\n",
       "      <td>NaN</td>\n",
       "      <td>NaN</td>\n",
       "      <td>Private room</td>\n",
       "      <td>flexible</td>\n",
       "      <td>Pankow</td>\n",
       "      <td>['email', 'phone', 'reviews', 'jumio', 'govern...</td>\n",
       "      <td>NaN</td>\n",
       "      <td>Prenzlauer Berg</td>\n",
       "      <td>7 weeks ago</td>\n",
       "    </tr>\n",
       "    <tr>\n",
       "      <th>2</th>\n",
       "      <td>Apartment</td>\n",
       "      <td>Coledale, New South Wales, Australia</td>\n",
       "      <td>100%</td>\n",
       "      <td>within a day</td>\n",
       "      <td>Entire home/apt</td>\n",
       "      <td>strict_14_with_grace_period</td>\n",
       "      <td>Pankow</td>\n",
       "      <td>['email', 'phone', 'facebook', 'reviews', 'man...</td>\n",
       "      <td>Prenzlauer Berg</td>\n",
       "      <td>Prenzlauer Berg</td>\n",
       "      <td>a week ago</td>\n",
       "    </tr>\n",
       "  </tbody>\n",
       "</table>\n",
       "</div>"
      ],
      "text/plain": [
       "  property_type                         host_location host_response_rate  \\\n",
       "0    Guesthouse  Key Biscayne, Florida, United States                96%   \n",
       "1     Apartment               Berlin, Berlin, Germany                NaN   \n",
       "2     Apartment  Coledale, New South Wales, Australia               100%   \n",
       "\n",
       "  host_response_time        room_type          cancellation_policy  \\\n",
       "0     within an hour  Entire home/apt  strict_14_with_grace_period   \n",
       "1                NaN     Private room                     flexible   \n",
       "2       within a day  Entire home/apt  strict_14_with_grace_period   \n",
       "\n",
       "  neighbourhood_group_cleansed  \\\n",
       "0                        Mitte   \n",
       "1                       Pankow   \n",
       "2                       Pankow   \n",
       "\n",
       "                                  host_verifications    neighbourhood  \\\n",
       "0  ['email', 'phone', 'reviews', 'jumio', 'offlin...            Mitte   \n",
       "1  ['email', 'phone', 'reviews', 'jumio', 'govern...              NaN   \n",
       "2  ['email', 'phone', 'facebook', 'reviews', 'man...  Prenzlauer Berg   \n",
       "\n",
       "  host_neighbourhood calendar_updated  \n",
       "0              Mitte     3 months ago  \n",
       "1    Prenzlauer Berg      7 weeks ago  \n",
       "2    Prenzlauer Berg       a week ago  "
      ]
     },
     "execution_count": 132,
     "metadata": {},
     "output_type": "execute_result"
    }
   ],
   "source": [
    "cat_cols_df = df_informative[selected_cat_cols]\n",
    "cat_cols_df[:3]"
   ]
  },
  {
   "cell_type": "code",
   "execution_count": 133,
   "metadata": {},
   "outputs": [],
   "source": [
    "updated_non_digits = categorical_plus_values(cat_cols_df)"
   ]
  },
  {
   "cell_type": "code",
   "execution_count": 134,
   "metadata": {},
   "outputs": [
    {
     "data": {
      "text/plain": [
       "8"
      ]
     },
     "execution_count": 134,
     "metadata": {},
     "output_type": "execute_result"
    }
   ],
   "source": [
    "len(updated_non_digits)"
   ]
  },
  {
   "cell_type": "code",
   "execution_count": 135,
   "metadata": {},
   "outputs": [
    {
     "data": {
      "text/plain": [
       "['property_type',\n",
       " 'host_location',\n",
       " 'host_response_rate',\n",
       " 'neighbourhood_group_cleansed',\n",
       " 'host_verifications',\n",
       " 'neighbourhood',\n",
       " 'host_neighbourhood',\n",
       " 'calendar_updated']"
      ]
     },
     "execution_count": 135,
     "metadata": {},
     "output_type": "execute_result"
    }
   ],
   "source": [
    "updated_non_digits"
   ]
  },
  {
   "cell_type": "code",
   "execution_count": 64,
   "metadata": {},
   "outputs": [
    {
     "data": {
      "text/html": [
       "<div>\n",
       "<style scoped>\n",
       "    .dataframe tbody tr th:only-of-type {\n",
       "        vertical-align: middle;\n",
       "    }\n",
       "\n",
       "    .dataframe tbody tr th {\n",
       "        vertical-align: top;\n",
       "    }\n",
       "\n",
       "    .dataframe thead th {\n",
       "        text-align: right;\n",
       "    }\n",
       "</style>\n",
       "<table border=\"1\" class=\"dataframe\">\n",
       "  <thead>\n",
       "    <tr style=\"text-align: right;\">\n",
       "      <th></th>\n",
       "      <th>property_type</th>\n",
       "      <th>host_location</th>\n",
       "      <th>host_response_rate</th>\n",
       "      <th>neighbourhood_group_cleansed</th>\n",
       "      <th>host_verifications</th>\n",
       "      <th>neighbourhood</th>\n",
       "      <th>host_neighbourhood</th>\n",
       "      <th>calendar_updated</th>\n",
       "    </tr>\n",
       "  </thead>\n",
       "  <tbody>\n",
       "    <tr>\n",
       "      <th>count</th>\n",
       "      <td>22552</td>\n",
       "      <td>22436</td>\n",
       "      <td>9657</td>\n",
       "      <td>22552</td>\n",
       "      <td>22552</td>\n",
       "      <td>21421</td>\n",
       "      <td>17458</td>\n",
       "      <td>22552</td>\n",
       "    </tr>\n",
       "    <tr>\n",
       "      <th>unique</th>\n",
       "      <td>33</td>\n",
       "      <td>1036</td>\n",
       "      <td>64</td>\n",
       "      <td>12</td>\n",
       "      <td>301</td>\n",
       "      <td>91</td>\n",
       "      <td>181</td>\n",
       "      <td>75</td>\n",
       "    </tr>\n",
       "    <tr>\n",
       "      <th>top</th>\n",
       "      <td>Apartment</td>\n",
       "      <td>Berlin, Berlin, Germany</td>\n",
       "      <td>100%</td>\n",
       "      <td>Friedrichshain-Kreuzberg</td>\n",
       "      <td>['email', 'phone', 'reviews']</td>\n",
       "      <td>Neukölln</td>\n",
       "      <td>Neukölln</td>\n",
       "      <td>today</td>\n",
       "    </tr>\n",
       "    <tr>\n",
       "      <th>freq</th>\n",
       "      <td>20225</td>\n",
       "      <td>17188</td>\n",
       "      <td>7127</td>\n",
       "      <td>5497</td>\n",
       "      <td>4103</td>\n",
       "      <td>3209</td>\n",
       "      <td>2556</td>\n",
       "      <td>2517</td>\n",
       "    </tr>\n",
       "  </tbody>\n",
       "</table>\n",
       "</div>"
      ],
      "text/plain": [
       "       property_type            host_location host_response_rate  \\\n",
       "count          22552                    22436               9657   \n",
       "unique            33                     1036                 64   \n",
       "top        Apartment  Berlin, Berlin, Germany               100%   \n",
       "freq           20225                    17188               7127   \n",
       "\n",
       "       neighbourhood_group_cleansed             host_verifications  \\\n",
       "count                         22552                          22552   \n",
       "unique                           12                            301   \n",
       "top        Friedrichshain-Kreuzberg  ['email', 'phone', 'reviews']   \n",
       "freq                           5497                           4103   \n",
       "\n",
       "       neighbourhood host_neighbourhood calendar_updated  \n",
       "count          21421              17458            22552  \n",
       "unique            91                181               75  \n",
       "top         Neukölln           Neukölln            today  \n",
       "freq            3209               2556             2517  "
      ]
     },
     "execution_count": 64,
     "metadata": {},
     "output_type": "execute_result"
    }
   ],
   "source": [
    "df[updated_non_digits].describe()"
   ]
  },
  {
   "cell_type": "code",
   "execution_count": 141,
   "metadata": {},
   "outputs": [],
   "source": [
    "# df['property_type'].value_counts(normalize = True)"
   ]
  },
  {
   "cell_type": "markdown",
   "metadata": {},
   "source": [
    "### Clean Values of Relevant Columns"
   ]
  },
  {
   "cell_type": "code",
   "execution_count": 54,
   "metadata": {},
   "outputs": [],
   "source": [
    "def selected_cat_values(column, threshold = .02):\n",
    "    values_counted = column.value_counts(normalize=True)\n",
    "    return values_counted[values_counted > threshold]"
   ]
  },
  {
   "cell_type": "code",
   "execution_count": 144,
   "metadata": {},
   "outputs": [],
   "source": [
    "selected = selected_cat_values(df.neighbourhood_cleansed, .02)"
   ]
  },
  {
   "cell_type": "code",
   "execution_count": 145,
   "metadata": {},
   "outputs": [
    {
     "data": {
      "text/plain": [
       "Tempelhofer Vorstadt        0.058753\n",
       "Frankfurter Allee Süd FK    0.056846\n",
       "Alexanderplatz              0.048377\n",
       "Reuterstraße                0.044431\n",
       "Rixdorf                     0.039021\n",
       "Neuköllner Mitte/Zentrum    0.035341\n",
       "Brunnenstr. Süd             0.034276\n",
       "Frankfurter Allee Nord      0.032591\n",
       "Schillerpromenade           0.029354\n",
       "südliche Luisenstadt        0.028512\n",
       "Prenzlauer Berg Nordwest    0.027625\n",
       "Prenzlauer Berg Südwest     0.027403\n",
       "Schöneberg-Nord             0.025142\n",
       "Prenzlauer Berg Süd         0.024610\n",
       "Wedding Zentrum             0.022925\n",
       "Moabit West                 0.021728\n",
       "nördliche Luisenstadt       0.021462\n",
       "Schöneberg-Süd              0.021018\n",
       "Helmholtzplatz              0.020353\n",
       "Name: neighbourhood_cleansed, dtype: float64"
      ]
     },
     "execution_count": 145,
     "metadata": {},
     "output_type": "execute_result"
    }
   ],
   "source": [
    "selected"
   ]
  },
  {
   "cell_type": "code",
   "execution_count": 156,
   "metadata": {},
   "outputs": [],
   "source": [
    "def reduce_cat_values(column, threshold = .02):\n",
    "    column = column.copy()\n",
    "    selected_values = selected_cat_values(column, threshold).index\n",
    "    column[~column.isin(selected_values)] = 'other'\n",
    "    column.astype('category')\n",
    "    return column"
   ]
  },
  {
   "cell_type": "code",
   "execution_count": 157,
   "metadata": {},
   "outputs": [],
   "source": [
    "new_neigh_cleansed =  reduce_cat_values(df.neighbourhood_cleansed, .02)"
   ]
  },
  {
   "cell_type": "code",
   "execution_count": 159,
   "metadata": {},
   "outputs": [
    {
     "data": {
      "text/plain": [
       "other                       0.380232\n",
       "Tempelhofer Vorstadt        0.058753\n",
       "Frankfurter Allee Süd FK    0.056846\n",
       "Alexanderplatz              0.048377\n",
       "Reuterstraße                0.044431\n",
       "Rixdorf                     0.039021\n",
       "Neuköllner Mitte/Zentrum    0.035341\n",
       "Brunnenstr. Süd             0.034276\n",
       "Frankfurter Allee Nord      0.032591\n",
       "Schillerpromenade           0.029354\n",
       "südliche Luisenstadt        0.028512\n",
       "Prenzlauer Berg Nordwest    0.027625\n",
       "Prenzlauer Berg Südwest     0.027403\n",
       "Schöneberg-Nord             0.025142\n",
       "Prenzlauer Berg Süd         0.024610\n",
       "Wedding Zentrum             0.022925\n",
       "Moabit West                 0.021728\n",
       "nördliche Luisenstadt       0.021462\n",
       "Schöneberg-Süd              0.021018\n",
       "Helmholtzplatz              0.020353\n",
       "Name: neighbourhood_cleansed, dtype: float64"
      ]
     },
     "execution_count": 159,
     "metadata": {},
     "output_type": "execute_result"
    }
   ],
   "source": [
    "new_neigh_cleansed.value_counts(normalize = True)"
   ]
  },
  {
   "cell_type": "code",
   "execution_count": 151,
   "metadata": {},
   "outputs": [
    {
     "data": {
      "text/plain": [
       "8"
      ]
     },
     "execution_count": 151,
     "metadata": {},
     "output_type": "execute_result"
    }
   ],
   "source": [
    "len(df[updated_non_digits].columns)"
   ]
  },
  {
   "cell_type": "code",
   "execution_count": 70,
   "metadata": {},
   "outputs": [],
   "source": [
    "categoricals = ['property_type', 'host_location', 'neighbourhood_cleansed', 'room_type', 'cancellation_policy', 'neighbourhood_group_cleansed', 'host_verifications', 'neighbourhood', 'host_neighbourhood']\n",
    "\n"
   ]
  },
  {
   "cell_type": "code",
   "execution_count": 71,
   "metadata": {},
   "outputs": [],
   "source": [
    "def df_reduced_categories(df, categoricals, threshold = .01):\n",
    "    new_df = pd.DataFrame()\n",
    "    for category in categoricals:\n",
    "        new_df[category] = reduce_cat_values(df[category], threshold)\n",
    "    return new_df"
   ]
  },
  {
   "cell_type": "code",
   "execution_count": 72,
   "metadata": {},
   "outputs": [],
   "source": [
    "df_reduced = df_reduced_categories(df, categoricals)"
   ]
  },
  {
   "cell_type": "code",
   "execution_count": 73,
   "metadata": {},
   "outputs": [
    {
     "data": {
      "text/html": [
       "<div>\n",
       "<style scoped>\n",
       "    .dataframe tbody tr th:only-of-type {\n",
       "        vertical-align: middle;\n",
       "    }\n",
       "\n",
       "    .dataframe tbody tr th {\n",
       "        vertical-align: top;\n",
       "    }\n",
       "\n",
       "    .dataframe thead th {\n",
       "        text-align: right;\n",
       "    }\n",
       "</style>\n",
       "<table border=\"1\" class=\"dataframe\">\n",
       "  <thead>\n",
       "    <tr style=\"text-align: right;\">\n",
       "      <th></th>\n",
       "      <th>property_type</th>\n",
       "      <th>host_location</th>\n",
       "      <th>neighbourhood_cleansed</th>\n",
       "      <th>room_type</th>\n",
       "      <th>cancellation_policy</th>\n",
       "      <th>neighbourhood_group_cleansed</th>\n",
       "      <th>host_verifications</th>\n",
       "      <th>neighbourhood</th>\n",
       "      <th>host_neighbourhood</th>\n",
       "    </tr>\n",
       "  </thead>\n",
       "  <tbody>\n",
       "    <tr>\n",
       "      <th>count</th>\n",
       "      <td>22552</td>\n",
       "      <td>22552</td>\n",
       "      <td>22552</td>\n",
       "      <td>22552</td>\n",
       "      <td>22552</td>\n",
       "      <td>22552</td>\n",
       "      <td>22552</td>\n",
       "      <td>22552</td>\n",
       "      <td>22552</td>\n",
       "    </tr>\n",
       "    <tr>\n",
       "      <th>unique</th>\n",
       "      <td>5</td>\n",
       "      <td>4</td>\n",
       "      <td>31</td>\n",
       "      <td>3</td>\n",
       "      <td>4</td>\n",
       "      <td>11</td>\n",
       "      <td>18</td>\n",
       "      <td>14</td>\n",
       "      <td>14</td>\n",
       "    </tr>\n",
       "    <tr>\n",
       "      <th>top</th>\n",
       "      <td>Apartment</td>\n",
       "      <td>Berlin, Berlin, Germany</td>\n",
       "      <td>other</td>\n",
       "      <td>Private room</td>\n",
       "      <td>flexible</td>\n",
       "      <td>Friedrichshain-Kreuzberg</td>\n",
       "      <td>['email', 'phone', 'reviews']</td>\n",
       "      <td>other</td>\n",
       "      <td>other</td>\n",
       "    </tr>\n",
       "    <tr>\n",
       "      <th>freq</th>\n",
       "      <td>20225</td>\n",
       "      <td>17188</td>\n",
       "      <td>5031</td>\n",
       "      <td>11534</td>\n",
       "      <td>9102</td>\n",
       "      <td>5497</td>\n",
       "      <td>4103</td>\n",
       "      <td>4152</td>\n",
       "      <td>7648</td>\n",
       "    </tr>\n",
       "  </tbody>\n",
       "</table>\n",
       "</div>"
      ],
      "text/plain": [
       "       property_type            host_location neighbourhood_cleansed  \\\n",
       "count          22552                    22552                  22552   \n",
       "unique             5                        4                     31   \n",
       "top        Apartment  Berlin, Berlin, Germany                  other   \n",
       "freq           20225                    17188                   5031   \n",
       "\n",
       "           room_type cancellation_policy neighbourhood_group_cleansed  \\\n",
       "count          22552               22552                        22552   \n",
       "unique             3                   4                           11   \n",
       "top     Private room            flexible     Friedrichshain-Kreuzberg   \n",
       "freq           11534                9102                         5497   \n",
       "\n",
       "                   host_verifications neighbourhood host_neighbourhood  \n",
       "count                           22552         22552              22552  \n",
       "unique                             18            14                 14  \n",
       "top     ['email', 'phone', 'reviews']         other              other  \n",
       "freq                             4103          4152               7648  "
      ]
     },
     "execution_count": 73,
     "metadata": {},
     "output_type": "execute_result"
    }
   ],
   "source": [
    "df_reduced.describe()"
   ]
  },
  {
   "cell_type": "code",
   "execution_count": 198,
   "metadata": {},
   "outputs": [
    {
     "data": {
      "text/plain": [
       "array([['property_type', 0.8968162468960624, 'Apartment'],\n",
       "       ['host_location', 0.7621496984746364, 'Berlin, Berlin, Germany'],\n",
       "       ['neighbourhood_cleansed', 0.51232706633558, 'other'],\n",
       "       ['room_type', 0.511440227030862, 'Private room'],\n",
       "       ['cancellation_policy', 0.403600567577155, 'flexible'],\n",
       "       ['host_neighbourhood', 0.38479957431713374, 'other'],\n",
       "       ['host_verifications', 0.2920361830436325, 'other'],\n",
       "       ['neighbourhood_group_cleansed', 0.2437477829017382,\n",
       "        'Friedrichshain-Kreuzberg'],\n",
       "       ['neighbourhood', 0.21882759843916283, 'other']], dtype=object)"
      ]
     },
     "execution_count": 198,
     "metadata": {},
     "output_type": "execute_result"
    }
   ],
   "source": [
    "summarize_counts(df_reduced)"
   ]
  },
  {
   "cell_type": "code",
   "execution_count": 236,
   "metadata": {},
   "outputs": [],
   "source": [
    "def replace_df_columns(original_df, replacing_df):\n",
    "    replacing_cols = replacing_df.columns\n",
    "    original_df = original_df.drop(columns = replacing_cols)\n",
    "    new_df = pd.concat([original_df, replacing_df], axis = 1)\n",
    "    return new_df"
   ]
  },
  {
   "cell_type": "code",
   "execution_count": 233,
   "metadata": {},
   "outputs": [],
   "source": [
    "new_df = replace_df_columns(df, df_reduced)"
   ]
  }
 ],
 "metadata": {
  "kernelspec": {
   "display_name": "Python 3",
   "language": "python",
   "name": "python3"
  },
  "language_info": {
   "codemirror_mode": {
    "name": "ipython",
    "version": 3
   },
   "file_extension": ".py",
   "mimetype": "text/x-python",
   "name": "python",
   "nbconvert_exporter": "python",
   "pygments_lexer": "ipython3",
   "version": "3.7.4"
  }
 },
 "nbformat": 4,
 "nbformat_minor": 4
}
