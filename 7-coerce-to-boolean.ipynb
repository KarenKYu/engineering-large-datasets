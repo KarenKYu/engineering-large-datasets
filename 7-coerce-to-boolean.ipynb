{
 "cells": [
  {
   "cell_type": "markdown",
   "metadata": {},
   "source": [
    "# Coercing to Booleans"
   ]
  },
  {
   "cell_type": "markdown",
   "metadata": {},
   "source": [
    "### Introduction"
   ]
  },
  {
   "cell_type": "markdown",
   "metadata": {},
   "source": [
    "In this lesson, we'll work through identifying and coercing data to boolean values.  This will also prepare us to identify and coerce categorical values in our dataset."
   ]
  },
  {
   "cell_type": "markdown",
   "metadata": {},
   "source": [
    "### Loading our AirBnb Data"
   ]
  },
  {
   "cell_type": "markdown",
   "metadata": {},
   "source": [
    "For this lesson, we'll work with [AirBnb listings in Berlin](https://www.kaggle.com/brittabettendorf/berlin-airbnb-data).  Let's load our data."
   ]
  },
  {
   "cell_type": "code",
   "execution_count": 1,
   "metadata": {},
   "outputs": [],
   "source": [
    "import pandas as pd\n",
    "url = \"https://raw.githubusercontent.com/jigsawlabs-student/engineering-large-datasets/master/nums_and_dates_ten_k.csv\"\n",
    "df = pd.read_csv(url, index_col = 0)"
   ]
  },
  {
   "cell_type": "code",
   "execution_count": null,
   "metadata": {},
   "outputs": [],
   "source": [
    "df.select_dtypes('object').shape"
   ]
  },
  {
   "cell_type": "code",
   "execution_count": 278,
   "metadata": {},
   "outputs": [],
   "source": [
    "potential_date_cols = ['last_scraped',\n",
    " 'host_since',\n",
    " 'calendar_last_scraped',\n",
    " 'first_review',\n",
    " 'last_review']\n",
    "df[potential_date_cols] = df[potential_date_cols].astype('datetime64')"
   ]
  },
  {
   "cell_type": "code",
   "execution_count": 279,
   "metadata": {},
   "outputs": [
    {
     "data": {
      "text/plain": [
       "(8000, 83)"
      ]
     },
     "execution_count": 279,
     "metadata": {},
     "output_type": "execute_result"
    }
   ],
   "source": [
    "df.shape"
   ]
  },
  {
   "cell_type": "markdown",
   "metadata": {},
   "source": [
    "Lucky for us, we already have our good amount of our data already coerced.  But we still have more work to do."
   ]
  },
  {
   "cell_type": "code",
   "execution_count": 220,
   "metadata": {},
   "outputs": [
    {
     "data": {
      "text/plain": [
       "(8000, 45)"
      ]
     },
     "execution_count": 220,
     "metadata": {},
     "output_type": "execute_result"
    }
   ],
   "source": [
    "object_df = df.select_dtypes(include = 'object')\n",
    "\n",
    "object_df.shape"
   ]
  },
  {
   "cell_type": "code",
   "execution_count": 221,
   "metadata": {},
   "outputs": [],
   "source": [
    "def contains_date(column):\n",
    "#     remove nas first, potentially use all\n",
    "    regex_string = (r'^\\d{1,2}-\\d{1,2}-\\d{4}$|^\\d{4}-\\d{1,2}-\\d{1,2}$' + \n",
    "'|^\\d{1,2}\\/\\d{1,2}\\/\\d{4}$|^\\d{4}\\/\\d{1,2}\\/\\d{1,2}$')\n",
    "    return column.str.contains(regex_string).any()"
   ]
  },
  {
   "cell_type": "markdown",
   "metadata": {},
   "source": [
    "### Feature engineering"
   ]
  },
  {
   "cell_type": "markdown",
   "metadata": {},
   "source": [
    "So a lot of our columns are still of type object.  Let's take a look at some of our object columns. "
   ]
  },
  {
   "cell_type": "code",
   "execution_count": 222,
   "metadata": {},
   "outputs": [],
   "source": [
    "# object_df.dtypes"
   ]
  },
  {
   "cell_type": "markdown",
   "metadata": {},
   "source": [
    "Where a larger percentage of the values in our columns repeat, we can think of them as categorical, and eventually one hot encode them.  So we wrote a method called `percent_different` that returns the percent of unique values that make up a series.  If most of the values in a series are unique, then it is not a categorical column.  \n",
    "\n",
    "So in `find_categorical`, we loop through our columns, identifying those where `percent_different` is not too large - and those are our categorical columns."
   ]
  },
  {
   "cell_type": "code",
   "execution_count": 223,
   "metadata": {},
   "outputs": [],
   "source": [
    "def percent_different(df_series):\n",
    "    series_filled = df_series.dropna()\n",
    "    return len(series_filled.unique())/len(series_filled)"
   ]
  },
  {
   "cell_type": "code",
   "execution_count": 224,
   "metadata": {},
   "outputs": [],
   "source": [
    "def find_categorical(df, threshold = .5):    \n",
    "    categorical_df = pd.DataFrame({})\n",
    "    for column in df.columns:\n",
    "        if percent_different(df[column]) < threshold:\n",
    "            categorical_df[column] = df[column]\n",
    "    return categorical_df "
   ]
  },
  {
   "cell_type": "markdown",
   "metadata": {},
   "source": [
    "Let's see how this works."
   ]
  },
  {
   "cell_type": "code",
   "execution_count": 225,
   "metadata": {},
   "outputs": [],
   "source": [
    "potential_cat = find_categorical(object_df)"
   ]
  },
  {
   "cell_type": "code",
   "execution_count": 226,
   "metadata": {},
   "outputs": [
    {
     "data": {
      "text/plain": [
       "(8000, 27)"
      ]
     },
     "execution_count": 226,
     "metadata": {},
     "output_type": "execute_result"
    }
   ],
   "source": [
    "potential_cat.shape"
   ]
  },
  {
   "cell_type": "code",
   "execution_count": 227,
   "metadata": {},
   "outputs": [
    {
     "data": {
      "text/html": [
       "<div>\n",
       "<style scoped>\n",
       "    .dataframe tbody tr th:only-of-type {\n",
       "        vertical-align: middle;\n",
       "    }\n",
       "\n",
       "    .dataframe tbody tr th {\n",
       "        vertical-align: top;\n",
       "    }\n",
       "\n",
       "    .dataframe thead th {\n",
       "        text-align: right;\n",
       "    }\n",
       "</style>\n",
       "<table border=\"1\" class=\"dataframe\">\n",
       "  <thead>\n",
       "    <tr style=\"text-align: right;\">\n",
       "      <th></th>\n",
       "      <th>host_name</th>\n",
       "      <th>host_location</th>\n",
       "      <th>host_response_time</th>\n",
       "      <th>host_is_superhost</th>\n",
       "      <th>host_neighbourhood</th>\n",
       "      <th>host_verifications</th>\n",
       "      <th>host_has_profile_pic</th>\n",
       "      <th>host_identity_verified</th>\n",
       "      <th>street</th>\n",
       "      <th>neighbourhood</th>\n",
       "      <th>...</th>\n",
       "      <th>is_location_exact</th>\n",
       "      <th>property_type</th>\n",
       "      <th>room_type</th>\n",
       "      <th>bed_type</th>\n",
       "      <th>calendar_updated</th>\n",
       "      <th>requires_license</th>\n",
       "      <th>instant_bookable</th>\n",
       "      <th>cancellation_policy</th>\n",
       "      <th>require_guest_profile_picture</th>\n",
       "      <th>require_guest_phone_verification</th>\n",
       "    </tr>\n",
       "  </thead>\n",
       "  <tbody>\n",
       "    <tr>\n",
       "      <th>0</th>\n",
       "      <td>Ian</td>\n",
       "      <td>Key Biscayne, Florida, United States</td>\n",
       "      <td>within an hour</td>\n",
       "      <td>t</td>\n",
       "      <td>Mitte</td>\n",
       "      <td>['email', 'phone', 'reviews', 'jumio', 'offlin...</td>\n",
       "      <td>t</td>\n",
       "      <td>t</td>\n",
       "      <td>Berlin, Berlin, Germany</td>\n",
       "      <td>Mitte</td>\n",
       "      <td>...</td>\n",
       "      <td>f</td>\n",
       "      <td>Guesthouse</td>\n",
       "      <td>Entire home/apt</td>\n",
       "      <td>Real Bed</td>\n",
       "      <td>3 months ago</td>\n",
       "      <td>t</td>\n",
       "      <td>f</td>\n",
       "      <td>strict_14_with_grace_period</td>\n",
       "      <td>f</td>\n",
       "      <td>f</td>\n",
       "    </tr>\n",
       "    <tr>\n",
       "      <th>1</th>\n",
       "      <td>Michael</td>\n",
       "      <td>Berlin, Berlin, Germany</td>\n",
       "      <td>NaN</td>\n",
       "      <td>f</td>\n",
       "      <td>Prenzlauer Berg</td>\n",
       "      <td>['email', 'phone', 'reviews', 'jumio', 'govern...</td>\n",
       "      <td>t</td>\n",
       "      <td>t</td>\n",
       "      <td>Berlin, Berlin, Germany</td>\n",
       "      <td>NaN</td>\n",
       "      <td>...</td>\n",
       "      <td>t</td>\n",
       "      <td>Apartment</td>\n",
       "      <td>Private room</td>\n",
       "      <td>Real Bed</td>\n",
       "      <td>7 weeks ago</td>\n",
       "      <td>t</td>\n",
       "      <td>f</td>\n",
       "      <td>flexible</td>\n",
       "      <td>f</td>\n",
       "      <td>f</td>\n",
       "    </tr>\n",
       "  </tbody>\n",
       "</table>\n",
       "<p>2 rows × 27 columns</p>\n",
       "</div>"
      ],
      "text/plain": [
       "  host_name                         host_location host_response_time  \\\n",
       "0       Ian  Key Biscayne, Florida, United States     within an hour   \n",
       "1   Michael               Berlin, Berlin, Germany                NaN   \n",
       "\n",
       "  host_is_superhost host_neighbourhood  \\\n",
       "0                 t              Mitte   \n",
       "1                 f    Prenzlauer Berg   \n",
       "\n",
       "                                  host_verifications host_has_profile_pic  \\\n",
       "0  ['email', 'phone', 'reviews', 'jumio', 'offlin...                    t   \n",
       "1  ['email', 'phone', 'reviews', 'jumio', 'govern...                    t   \n",
       "\n",
       "  host_identity_verified                   street neighbourhood  ...  \\\n",
       "0                      t  Berlin, Berlin, Germany         Mitte  ...   \n",
       "1                      t  Berlin, Berlin, Germany           NaN  ...   \n",
       "\n",
       "  is_location_exact property_type        room_type  bed_type calendar_updated  \\\n",
       "0                 f    Guesthouse  Entire home/apt  Real Bed     3 months ago   \n",
       "1                 t     Apartment     Private room  Real Bed      7 weeks ago   \n",
       "\n",
       "  requires_license instant_bookable          cancellation_policy  \\\n",
       "0                t                f  strict_14_with_grace_period   \n",
       "1                t                f                     flexible   \n",
       "\n",
       "  require_guest_profile_picture require_guest_phone_verification  \n",
       "0                             f                                f  \n",
       "1                             f                                f  \n",
       "\n",
       "[2 rows x 27 columns]"
      ]
     },
     "execution_count": 227,
     "metadata": {},
     "output_type": "execute_result"
    }
   ],
   "source": [
    "potential_cat[:2]"
   ]
  },
  {
   "cell_type": "markdown",
   "metadata": {},
   "source": [
    "It looks like it did a good job."
   ]
  },
  {
   "cell_type": "markdown",
   "metadata": {},
   "source": [
    "### Combine with Selecting Categorical Columns"
   ]
  },
  {
   "cell_type": "markdown",
   "metadata": {},
   "source": [
    "The next step is to take a look at the values in those identified columns, to see if indeed they are full of categories.  Our `get_multiple_val_counts` method loops through a dataframe, providing the top `value_counts` values, and the related column."
   ]
  },
  {
   "cell_type": "code",
   "execution_count": 228,
   "metadata": {},
   "outputs": [],
   "source": [
    "def get_multiple_val_counts(df, num_vals = 1):\n",
    "    return [df[column].value_counts(normalize=True).iloc[:num_vals] for column in df.columns]"
   ]
  },
  {
   "cell_type": "code",
   "execution_count": 229,
   "metadata": {},
   "outputs": [
    {
     "data": {
      "text/plain": [
       "[Anna    0.00852\n",
       " Name: host_name, dtype: float64,\n",
       " Berlin, Berlin, Germany    0.826202\n",
       " Name: host_location, dtype: float64,\n",
       " within an hour    0.457895\n",
       " Name: host_response_time, dtype: float64]"
      ]
     },
     "execution_count": 229,
     "metadata": {},
     "output_type": "execute_result"
    }
   ],
   "source": [
    "get_multiple_val_counts(potential_cat)[:3]"
   ]
  },
  {
   "cell_type": "markdown",
   "metadata": {},
   "source": [
    "And summarize cats, puts this information in an easier to work with numpy array."
   ]
  },
  {
   "cell_type": "code",
   "execution_count": 230,
   "metadata": {},
   "outputs": [],
   "source": [
    "import numpy as np\n",
    "def summarize_cats(df):\n",
    "    multiple_val_counts = get_multiple_val_counts(df)\n",
    "    stacked_counts = np.vstack([np.array([val_count.name, val_count.index[0], float(val_count.values[0])]) for val_count in multiple_val_counts])\n",
    "    sorted_cols = np.argsort(stacked_counts.reshape(-1, 3)[:, 2].astype('float'))\n",
    "    return stacked_counts[sorted_cols[::-1]]"
   ]
  },
  {
   "cell_type": "code",
   "execution_count": 231,
   "metadata": {},
   "outputs": [
    {
     "data": {
      "text/plain": [
       "array([['requires_license', 't', '0.99975'],\n",
       "       ['market', 'Berlin', '0.99975'],\n",
       "       ['state', 'Berlin', '0.9978704747588626'],\n",
       "       ['host_has_profile_pic', 't', '0.9976193459466233'],\n",
       "       ['smart_location', 'Berlin, Germany', '0.99175'],\n",
       "       ['city', 'Berlin', '0.9917489686210776'],\n",
       "       ['street', 'Berlin, Berlin, Germany', '0.989125'],\n",
       "       ['require_guest_profile_picture', 'f', '0.984375'],\n",
       "       ['require_guest_phone_verification', 'f', '0.975125'],\n",
       "       ['bed_type', 'Real Bed', '0.93525']], dtype='<U55')"
      ]
     },
     "execution_count": 231,
     "metadata": {},
     "output_type": "execute_result"
    }
   ],
   "source": [
    "summary = summarize_cats(potential_cat)\n",
    "summary[:10]"
   ]
  },
  {
   "cell_type": "markdown",
   "metadata": {},
   "source": [
    "The first column in summary is the name of the column, the second is the top value, and the last column is the percent of the column the value was in. "
   ]
  },
  {
   "cell_type": "markdown",
   "metadata": {},
   "source": [
    "### Identifying Boolean Values"
   ]
  },
  {
   "cell_type": "markdown",
   "metadata": {},
   "source": [
    "From the summary grid, we can start to see some strings that are really boolean values.  These are the columns with `t` or `f` as their top values.  "
   ]
  },
  {
   "cell_type": "code",
   "execution_count": 232,
   "metadata": {},
   "outputs": [
    {
     "data": {
      "text/plain": [
       "array([['requires_license', 't', '0.99975'],\n",
       "       ['market', 'Berlin', '0.99975'],\n",
       "       ['state', 'Berlin', '0.9978704747588626']], dtype='<U55')"
      ]
     },
     "execution_count": 232,
     "metadata": {},
     "output_type": "execute_result"
    }
   ],
   "source": [
    "summary[:3]"
   ]
  },
  {
   "cell_type": "markdown",
   "metadata": {},
   "source": [
    "Let's select all of the columns from our summary that have values of `t` or `f`."
   ]
  },
  {
   "cell_type": "code",
   "execution_count": 233,
   "metadata": {},
   "outputs": [],
   "source": [
    "boolean_summary = summary[np.isin(summary[:, 1], ['t', 'f'])]"
   ]
  },
  {
   "cell_type": "code",
   "execution_count": 234,
   "metadata": {},
   "outputs": [
    {
     "data": {
      "text/plain": [
       "array(['requires_license', 'host_has_profile_pic',\n",
       "       'require_guest_profile_picture',\n",
       "       'require_guest_phone_verification', 'host_is_superhost',\n",
       "       'instant_bookable', 'is_location_exact', 'host_identity_verified'],\n",
       "      dtype='<U55')"
      ]
     },
     "execution_count": 234,
     "metadata": {},
     "output_type": "execute_result"
    }
   ],
   "source": [
    "true_boolean_cols = boolean_summary[:, 0]\n",
    "true_boolean_cols"
   ]
  },
  {
   "cell_type": "markdown",
   "metadata": {},
   "source": [
    "From here, we see that some of these columns have `na` values."
   ]
  },
  {
   "cell_type": "code",
   "execution_count": 235,
   "metadata": {},
   "outputs": [
    {
     "data": {
      "text/plain": [
       "requires_license                    0.000000\n",
       "host_has_profile_pic                0.002375\n",
       "require_guest_profile_picture       0.000000\n",
       "require_guest_phone_verification    0.000000\n",
       "host_is_superhost                   0.002375\n",
       "instant_bookable                    0.000000\n",
       "is_location_exact                   0.000000\n",
       "host_identity_verified              0.002375\n",
       "dtype: float64"
      ]
     },
     "execution_count": 235,
     "metadata": {},
     "output_type": "execute_result"
    }
   ],
   "source": [
    "potential_cat[true_boolean_cols].isna().sum()/potential_cat.shape[0]"
   ]
  },
  {
   "cell_type": "markdown",
   "metadata": {},
   "source": [
    "We'll have to coerce these values as well.  \n",
    "\n",
    "> It's a small enough percentage that we can just coerce them to false values."
   ]
  },
  {
   "cell_type": "markdown",
   "metadata": {},
   "source": [
    "Now we'll use our MissingIndicator to convert these columns to have True or False values.  We do so, we by having the transformer set `t` to True, and all other values to False.  We'll also coerce the nan values to `f` beforehand."
   ]
  },
  {
   "cell_type": "markdown",
   "metadata": {},
   "source": [
    "> We can loop through to do this for each of our boolean columns."
   ]
  },
  {
   "cell_type": "code",
   "execution_count": 280,
   "metadata": {},
   "outputs": [],
   "source": [
    "from sklearn.impute import SimpleImputer, MissingIndicator\n",
    "steps = [([col], [SimpleImputer(strategy = 'constant', missing_values= np.nan, fill_value = 'f'),\n",
    "                  MissingIndicator(missing_values = 't')\n",
    "                 ]\n",
    "         ) \n",
    "         for col in true_boolean_cols]"
   ]
  },
  {
   "cell_type": "markdown",
   "metadata": {},
   "source": [
    "And then place these steps in a DataFrameMapper."
   ]
  },
  {
   "cell_type": "code",
   "execution_count": 237,
   "metadata": {},
   "outputs": [],
   "source": [
    "from sklearn_pandas import DataFrameMapper\n",
    "boolean_mapper = DataFrameMapper(steps, df_out = True)"
   ]
  },
  {
   "cell_type": "code",
   "execution_count": 238,
   "metadata": {},
   "outputs": [],
   "source": [
    "# df[bools_df.columns]"
   ]
  },
  {
   "cell_type": "code",
   "execution_count": 239,
   "metadata": {},
   "outputs": [],
   "source": [
    "bool_df = boolean_mapper.fit_transform(df)"
   ]
  },
  {
   "cell_type": "code",
   "execution_count": 240,
   "metadata": {},
   "outputs": [
    {
     "data": {
      "text/html": [
       "<div>\n",
       "<style scoped>\n",
       "    .dataframe tbody tr th:only-of-type {\n",
       "        vertical-align: middle;\n",
       "    }\n",
       "\n",
       "    .dataframe tbody tr th {\n",
       "        vertical-align: top;\n",
       "    }\n",
       "\n",
       "    .dataframe thead th {\n",
       "        text-align: right;\n",
       "    }\n",
       "</style>\n",
       "<table border=\"1\" class=\"dataframe\">\n",
       "  <thead>\n",
       "    <tr style=\"text-align: right;\">\n",
       "      <th></th>\n",
       "      <th>requires_license</th>\n",
       "      <th>require_guest_profile_picture</th>\n",
       "      <th>require_guest_phone_verification</th>\n",
       "      <th>instant_bookable</th>\n",
       "      <th>is_location_exact</th>\n",
       "    </tr>\n",
       "  </thead>\n",
       "  <tbody>\n",
       "    <tr>\n",
       "      <th>0</th>\n",
       "      <td>True</td>\n",
       "      <td>False</td>\n",
       "      <td>False</td>\n",
       "      <td>False</td>\n",
       "      <td>False</td>\n",
       "    </tr>\n",
       "    <tr>\n",
       "      <th>1</th>\n",
       "      <td>True</td>\n",
       "      <td>False</td>\n",
       "      <td>False</td>\n",
       "      <td>False</td>\n",
       "      <td>True</td>\n",
       "    </tr>\n",
       "  </tbody>\n",
       "</table>\n",
       "</div>"
      ],
      "text/plain": [
       "   requires_license  require_guest_profile_picture  \\\n",
       "0              True                          False   \n",
       "1              True                          False   \n",
       "\n",
       "   require_guest_phone_verification  instant_bookable  is_location_exact  \n",
       "0                             False             False              False  \n",
       "1                             False             False               True  "
      ]
     },
     "execution_count": 240,
     "metadata": {},
     "output_type": "execute_result"
    }
   ],
   "source": [
    "bool_df[:2]"
   ]
  },
  {
   "cell_type": "markdown",
   "metadata": {},
   "source": [
    "Then we can update our dataframe."
   ]
  },
  {
   "cell_type": "code",
   "execution_count": 241,
   "metadata": {},
   "outputs": [],
   "source": [
    "df.loc[:, bool_df.columns] = bool_df"
   ]
  },
  {
   "cell_type": "code",
   "execution_count": 242,
   "metadata": {},
   "outputs": [
    {
     "data": {
      "text/plain": [
       "(8000, 40)"
      ]
     },
     "execution_count": 242,
     "metadata": {},
     "output_type": "execute_result"
    }
   ],
   "source": [
    "df.select_dtypes('object').shape"
   ]
  },
  {
   "cell_type": "markdown",
   "metadata": {},
   "source": [
    "And store our dataframe."
   ]
  },
  {
   "cell_type": "code",
   "execution_count": null,
   "metadata": {},
   "outputs": [],
   "source": [
    "df.to_csv('./listings_coerced_booleans.csv')"
   ]
  },
  {
   "cell_type": "markdown",
   "metadata": {},
   "source": [
    "And finally, we can store our datatypes."
   ]
  },
  {
   "cell_type": "code",
   "execution_count": 243,
   "metadata": {},
   "outputs": [],
   "source": [
    "import json\n",
    "data = df.dtypes.astype(str).to_dict()\n",
    "\n",
    "file = './coerced_bools_dtypes.json'\n",
    "\n",
    "with open(file, 'w') as f:\n",
    "    json.dump(data, f)"
   ]
  },
  {
   "cell_type": "markdown",
   "metadata": {},
   "source": [
    "Then we can use numpy to identify our remaining potential_cat columns that we should coerce."
   ]
  },
  {
   "cell_type": "code",
   "execution_count": 115,
   "metadata": {},
   "outputs": [
    {
     "data": {
      "text/plain": [
       "array(['bed_type', 'calendar_updated', 'cancellation_policy', 'city',\n",
       "       'host_has_profile_pic', 'host_identity_verified',\n",
       "       'host_is_superhost', 'host_location', 'host_name',\n",
       "       'host_neighbourhood', 'host_response_time', 'host_verifications',\n",
       "       'market', 'neighbourhood', 'neighbourhood_cleansed',\n",
       "       'neighbourhood_group_cleansed', 'property_type', 'room_type',\n",
       "       'smart_location', 'state', 'street', 'zipcode'], dtype=object)"
      ]
     },
     "execution_count": 115,
     "metadata": {},
     "output_type": "execute_result"
    }
   ],
   "source": [
    "import numpy as np\n",
    "remaining_cat_cols = np.setdiff1d(potential_cat.columns, bool_df.columns)\n",
    "\n",
    "remaining_cat_cols"
   ]
  },
  {
   "cell_type": "markdown",
   "metadata": {},
   "source": [
    "### Summary"
   ]
  },
  {
   "cell_type": "markdown",
   "metadata": {},
   "source": [
    "In this lesson, we were introduced to some of the methods for handling boolean and categorical data.  We saw that we identified our categorical columns by looking at the percent different.  If not a large percent of a column's values are different, it is likely categorical or boolean.  We then used our `summarize_cats` method to view the top values in each of the columns, along with how often they occur.\n",
    "\n",
    "Finally, we used the `MissingImputer` to convert values in almost boolean columns to True and False values."
   ]
  }
 ],
 "metadata": {
  "kernelspec": {
   "display_name": "Python 3",
   "language": "python",
   "name": "python3"
  },
  "language_info": {
   "codemirror_mode": {
    "name": "ipython",
    "version": 3
   },
   "file_extension": ".py",
   "mimetype": "text/x-python",
   "name": "python",
   "nbconvert_exporter": "python",
   "pygments_lexer": "ipython3",
   "version": "3.7.4"
  }
 },
 "nbformat": 4,
 "nbformat_minor": 4
}
