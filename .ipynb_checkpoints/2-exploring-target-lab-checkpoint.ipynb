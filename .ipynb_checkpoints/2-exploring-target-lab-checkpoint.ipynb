{
 "cells": [
  {
   "cell_type": "markdown",
   "metadata": {},
   "source": [
    "# Setting up the Data Lab"
   ]
  },
  {
   "cell_type": "markdown",
   "metadata": {},
   "source": [
    "### Introduction"
   ]
  },
  {
   "cell_type": "markdown",
   "metadata": {},
   "source": [
    "For this lab we'll look at some data to try to predict what makes a good high school in New York City.  Let's get started."
   ]
  },
  {
   "cell_type": "markdown",
   "metadata": {},
   "source": [
    "### Load the data"
   ]
  },
  {
   "cell_type": "code",
   "execution_count": 1,
   "metadata": {},
   "outputs": [],
   "source": [
    "import pandas as pd\n",
    "url = \"https://raw.githubusercontent.com/jigsawlabs-student/engineering-large-datasets/master/school-data/combined_schools-1.csv\"\n",
    "df = pd.read_csv(url, index_col = 0)"
   ]
  },
  {
   "cell_type": "markdown",
   "metadata": {},
   "source": [
    "At this point we may be able to narrow down the data by looking for those columns that are not of type object.  This will give us columns that are principally numeric, and are suited for a regression problem.\n",
    "\n",
    "Display the non-object columns below."
   ]
  },
  {
   "cell_type": "markdown",
   "metadata": {},
   "source": [
    "> Then scan through the list of columns and see if there are any are good candidates as our target."
   ]
  },
  {
   "cell_type": "code",
   "execution_count": 9,
   "metadata": {},
   "outputs": [
    {
     "data": {
      "text/plain": [
       "Index(['Enrollment', 'Rigorous Instruction - Percent Positive',\n",
       "       'Collaborative Teachers - Percent Positive',\n",
       "       'Supportive Environment - Percent Positive',\n",
       "       'Effective School Leadership - Percent Positive',\n",
       "       'Strong Family-Community Ties - Percent Positive',\n",
       "       'Trust - Percent Positive', 'Average Grade 8 English Proficiency',\n",
       "       'Average Grade 8 Math Proficiency', 'Percent English Language Learners',\n",
       "       'Percent Students with Disabilities', 'Percent Self-Contained',\n",
       "       'Economic Need Index', 'Percent Overage/ Undercredited',\n",
       "       'Percent in Temp Housing', 'Percent HRA Eligible', 'Percent Asian',\n",
       "       'Percent Black', 'Percent Hispanic', 'Percent White',\n",
       "       'Years of principal experience at this school',\n",
       "       'Percent of teachers with 3 or more years of experience',\n",
       "       'Student Attendance Rate', 'Percent of Students Chronically Absent',\n",
       "       'Teacher Attendance Rate', 'total_students', 'graduation_rate',\n",
       "       'attendance_rate', 'pct_stu_enough_variety', 'college_career_rate',\n",
       "       'pct_stu_safe', 'girls', 'boys', 'pbat', 'international', 'specialized',\n",
       "       'transfer', 'ptech', 'earlycollege', 'school_accessibility_description',\n",
       "       'zip', 'Latitude', 'Longitude', 'Community Board', 'Council District',\n",
       "       'Census Tract', 'BIN', 'BBL'],\n",
       "      dtype='object')"
      ]
     },
     "execution_count": 9,
     "metadata": {},
     "output_type": "execute_result"
    }
   ],
   "source": [
    "non_obj_cols = None\n",
    "non_obj_cols\n",
    "\n",
    "# Index(['Enrollment', 'Rigorous Instruction - Percent Positive',\n",
    "#        'Collaborative Teachers - Percent Positive',\n",
    "#        'Supportive Environment - Percent Positive',\n",
    "#        'Effective School Leadership - Percent Positive',\n",
    "#        'Strong Family-Community Ties - Percent Positive',\n",
    "#        'Trust - Percent Positive', 'Average Grade 8 English Proficiency',\n",
    "#        'Average Grade 8 Math Proficiency', 'Percent English Language Learners',\n",
    "#        'Percent Students with Disabilities', 'Percent Self-Contained',\n",
    "#        'Economic Need Index', 'Percent Overage/ Undercredited',\n",
    "#        'Percent in Temp Housing', 'Percent HRA Eligible', 'Percent Asian',\n",
    "#        'Percent Black', 'Percent Hispanic', 'Percent White',\n",
    "#        'Years of principal experience at this school',\n",
    "#        'Percent of teachers with 3 or more years of experience',\n",
    "#        'Student Attendance Rate', 'Percent of Students Chronically Absent',\n",
    "#        'Teacher Attendance Rate', 'total_students', 'graduation_rate',\n",
    "#        'attendance_rate', 'pct_stu_enough_variety', 'college_career_rate',\n",
    "#        'pct_stu_safe', 'girls', 'boys', 'pbat', 'international', 'specialized',\n",
    "#        'transfer', 'ptech', 'earlycollege', 'school_accessibility_description',\n",
    "#        'zip', 'Latitude', 'Longitude', 'Community Board', 'Council District',\n",
    "#        'Census Tract', 'BIN', 'BBL'],\n",
    "#       dtype='object')"
   ]
  },
  {
   "cell_type": "markdown",
   "metadata": {},
   "source": [
    "We can see that `college_career_rate` and `graduation_rate` could make for targets.  After all, these are both numbers that a school would like to improve, and our model could help determine what promotes a higher graduation rate or college career rate. "
   ]
  },
  {
   "cell_type": "markdown",
   "metadata": {},
   "source": [
    "Let's see if there are any other columns that are not currently of type float or integer, but do have numbers in them.  We can use the `contains_numbers` function in our search."
   ]
  },
  {
   "cell_type": "code",
   "execution_count": 6,
   "metadata": {},
   "outputs": [],
   "source": [
    "def contains_numbers(column):\n",
    "    # matches price or percentage but no date     \n",
    "    regex_string = (r'^(?!.*www|.*-|.*\\/|.*[A-Za-z]|.* ).*\\d.*')\n",
    "    return column.str.contains(regex_string).all()"
   ]
  },
  {
   "cell_type": "markdown",
   "metadata": {},
   "source": [
    "The `contains_numbers` function works on an individual column, but we want to use it in combination with `apply` to loop through our object columns and then return numeric columns."
   ]
  },
  {
   "cell_type": "code",
   "execution_count": null,
   "metadata": {},
   "outputs": [],
   "source": [
    "obj_df = None"
   ]
  },
  {
   "cell_type": "code",
   "execution_count": 22,
   "metadata": {},
   "outputs": [
    {
     "data": {
      "text/plain": [
       "DBN            False\n",
       "School Name    False\n",
       "dtype: bool"
      ]
     },
     "execution_count": 22,
     "metadata": {},
     "output_type": "execute_result"
    }
   ],
   "source": [
    "col_contains_nums = None\n",
    "col_contains_nums[:2]\n",
    "\n",
    "# DBN            False\n",
    "# School Name    False\n",
    "# dtype: bool"
   ]
  },
  {
   "cell_type": "markdown",
   "metadata": {},
   "source": [
    "Then we can select just those columns that contain numbers."
   ]
  },
  {
   "cell_type": "code",
   "execution_count": 24,
   "metadata": {},
   "outputs": [
    {
     "data": {
      "text/plain": [
       "Series([], dtype: bool)"
      ]
     },
     "execution_count": 24,
     "metadata": {},
     "output_type": "execute_result"
    }
   ],
   "source": [
    "col_contains_nums[col_contains_nums == True]\n",
    "\n",
    "# Series([], dtype: bool)"
   ]
  },
  {
   "cell_type": "markdown",
   "metadata": {},
   "source": [
    "Ok, it looks like `graduation_rate` and `college_career_rate` are our candidates.  Let's look at them further."
   ]
  },
  {
   "cell_type": "markdown",
   "metadata": {},
   "source": [
    "### Exploring our targets"
   ]
  },
  {
   "cell_type": "markdown",
   "metadata": {},
   "source": [
    "A large part of working with a large dataset is knowing how to perform operations on multiple columns simultaneously.  Let's practice with our prospective columns."
   ]
  },
  {
   "cell_type": "code",
   "execution_count": 26,
   "metadata": {},
   "outputs": [],
   "source": [
    "prospective_cols = ['graduation_rate', 'college_career_rate']"
   ]
  },
  {
   "cell_type": "markdown",
   "metadata": {},
   "source": [
    "Loop through to find the top value counts of both columns."
   ]
  },
  {
   "cell_type": "code",
   "execution_count": 27,
   "metadata": {},
   "outputs": [],
   "source": [
    "prosp_df = df[prospective_cols]"
   ]
  },
  {
   "cell_type": "code",
   "execution_count": 31,
   "metadata": {},
   "outputs": [
    {
     "data": {
      "text/plain": [
       "[0.73    0.049751\n",
       " 0.93    0.037313\n",
       " 0.99    0.034826\n",
       " 0.98    0.034826\n",
       " 0.74    0.034826\n",
       " Name: graduation_rate, dtype: float64,\n",
       " 0.49    0.028721\n",
       " 0.53    0.028721\n",
       " 0.57    0.026110\n",
       " 0.43    0.026110\n",
       " 0.42    0.026110\n",
       " Name: college_career_rate, dtype: float64]"
      ]
     },
     "execution_count": 31,
     "metadata": {},
     "output_type": "execute_result"
    }
   ],
   "source": [
    "\n",
    "\n",
    "# [0.73    0.049751\n",
    "#  0.93    0.037313\n",
    "#  0.99    0.034826\n",
    "#  0.98    0.034826\n",
    "#  0.74    0.034826\n",
    "#  Name: graduation_rate, dtype: float64,\n",
    "#  0.49    0.028721\n",
    "#  0.53    0.028721\n",
    "#  0.57    0.026110\n",
    "#  0.43    0.026110\n",
    "#  0.42    0.026110\n",
    "#  Name: college_career_rate, dtype: float64]"
   ]
  },
  {
   "cell_type": "markdown",
   "metadata": {},
   "source": [
    "So we can see that there don't appear to be values like `not available` that indicate a lot of missing values.  Let's see a count of the na values for both columns."
   ]
  },
  {
   "cell_type": "code",
   "execution_count": 35,
   "metadata": {},
   "outputs": [
    {
     "data": {
      "text/plain": [
       "graduation_rate        13\n",
       "college_career_rate    32\n",
       "dtype: int64"
      ]
     },
     "execution_count": 35,
     "metadata": {},
     "output_type": "execute_result"
    }
   ],
   "source": [
    "\n",
    "\n",
    "# graduation_rate        13\n",
    "# college_career_rate    32\n",
    "# dtype: int64\n"
   ]
  },
  {
   "cell_type": "code",
   "execution_count": 36,
   "metadata": {},
   "outputs": [
    {
     "data": {
      "text/plain": [
       "(415, 2)"
      ]
     },
     "execution_count": 36,
     "metadata": {},
     "output_type": "execute_result"
    }
   ],
   "source": [
    "prosp_df.shape"
   ]
  },
  {
   "cell_type": "markdown",
   "metadata": {},
   "source": [
    "So both columns have a pretty small number of missing values.  There's nothing prohibitive there.  Finally, let's see what histograms of the data look like."
   ]
  },
  {
   "cell_type": "code",
   "execution_count": 1,
   "metadata": {},
   "outputs": [],
   "source": []
  },
  {
   "cell_type": "markdown",
   "metadata": {},
   "source": [
    "> Answer: <img src=\"./career_hist.png\" width=\"40%\">"
   ]
  },
  {
   "cell_type": "markdown",
   "metadata": {},
   "source": [
    "We can see that there is a broader range of values for `college_career_rate` than for `graduation_rate`.  With graduation rate, most of the values are clustered between `.6` and `1.0`.  Finally we should use describe to also get a sense of the spread of our data."
   ]
  },
  {
   "cell_type": "code",
   "execution_count": 38,
   "metadata": {},
   "outputs": [
    {
     "data": {
      "text/html": [
       "<div>\n",
       "<style scoped>\n",
       "    .dataframe tbody tr th:only-of-type {\n",
       "        vertical-align: middle;\n",
       "    }\n",
       "\n",
       "    .dataframe tbody tr th {\n",
       "        vertical-align: top;\n",
       "    }\n",
       "\n",
       "    .dataframe thead th {\n",
       "        text-align: right;\n",
       "    }\n",
       "</style>\n",
       "<table border=\"1\" class=\"dataframe\">\n",
       "  <thead>\n",
       "    <tr style=\"text-align: right;\">\n",
       "      <th></th>\n",
       "      <th>graduation_rate</th>\n",
       "      <th>college_career_rate</th>\n",
       "    </tr>\n",
       "  </thead>\n",
       "  <tbody>\n",
       "    <tr>\n",
       "      <th>count</th>\n",
       "      <td>402.000000</td>\n",
       "      <td>383.000000</td>\n",
       "    </tr>\n",
       "    <tr>\n",
       "      <th>mean</th>\n",
       "      <td>0.791169</td>\n",
       "      <td>0.593081</td>\n",
       "    </tr>\n",
       "    <tr>\n",
       "      <th>std</th>\n",
       "      <td>0.136092</td>\n",
       "      <td>0.189139</td>\n",
       "    </tr>\n",
       "    <tr>\n",
       "      <th>min</th>\n",
       "      <td>0.390000</td>\n",
       "      <td>0.150000</td>\n",
       "    </tr>\n",
       "    <tr>\n",
       "      <th>25%</th>\n",
       "      <td>0.690000</td>\n",
       "      <td>0.440000</td>\n",
       "    </tr>\n",
       "    <tr>\n",
       "      <th>50%</th>\n",
       "      <td>0.790000</td>\n",
       "      <td>0.570000</td>\n",
       "    </tr>\n",
       "    <tr>\n",
       "      <th>75%</th>\n",
       "      <td>0.910000</td>\n",
       "      <td>0.740000</td>\n",
       "    </tr>\n",
       "    <tr>\n",
       "      <th>max</th>\n",
       "      <td>1.000000</td>\n",
       "      <td>1.000000</td>\n",
       "    </tr>\n",
       "  </tbody>\n",
       "</table>\n",
       "</div>"
      ],
      "text/plain": [
       "       graduation_rate  college_career_rate\n",
       "count       402.000000           383.000000\n",
       "mean          0.791169             0.593081\n",
       "std           0.136092             0.189139\n",
       "min           0.390000             0.150000\n",
       "25%           0.690000             0.440000\n",
       "50%           0.790000             0.570000\n",
       "75%           0.910000             0.740000\n",
       "max           1.000000             1.000000"
      ]
     },
     "execution_count": 38,
     "metadata": {},
     "output_type": "execute_result"
    }
   ],
   "source": [
    "\n",
    "\n",
    "# \tgraduation_rate\tcollege_career_rate\n",
    "# count\t402.000000\t383.000000\n",
    "# mean\t0.791169\t0.593081\n",
    "# std\t0.136092\t0.189139\n",
    "# min\t0.390000\t0.150000\n",
    "# 25%\t0.690000\t0.440000\n",
    "# 50%\t0.790000\t0.570000\n",
    "# 75%\t0.910000\t0.740000\n",
    "# max\t1.000000\t1.000000"
   ]
  },
  {
   "cell_type": "markdown",
   "metadata": {},
   "source": [
    "So describe also confirms a mean closer to .5, and a larger interquartile range (the 75th percentile and 25th percentile) of the data.  \n",
    "\n",
    "One problem with the college_career_rate is that it is measured with the through state exams.  This could allow for scores just being driven by \"teaching to the test\", and not actually improving school performance or college readiness.  If we tracked `college_career_rate` over time, we would also have to worry about grade inflation.\n",
    "\n",
    "Let's use both of these as target variables, and see how we do."
   ]
  },
  {
   "cell_type": "markdown",
   "metadata": {},
   "source": [
    "### Splitting the Data"
   ]
  },
  {
   "cell_type": "markdown",
   "metadata": {},
   "source": [
    "Let's check if there are any datetime types that we should look at in splitting the data."
   ]
  },
  {
   "cell_type": "markdown",
   "metadata": {},
   "source": [
    "First use `select_dtypes` to select datetime data."
   ]
  },
  {
   "cell_type": "code",
   "execution_count": 41,
   "metadata": {},
   "outputs": [
    {
     "data": {
      "text/plain": [
       "(415, 0)"
      ]
     },
     "execution_count": 41,
     "metadata": {},
     "output_type": "execute_result"
    }
   ],
   "source": [
    "date_df = None\n",
    "\n",
    "date_df.shape"
   ]
  },
  {
   "cell_type": "markdown",
   "metadata": {},
   "source": [
    "So there are no datetime columns.  And let's also use the `contains_date` method to loop through the columns and see if there are any dates."
   ]
  },
  {
   "cell_type": "code",
   "execution_count": 42,
   "metadata": {},
   "outputs": [],
   "source": [
    "def contains_date(column):\n",
    "#     remove nas first, potentially use all\n",
    "    regex_string = (r'^\\d{1,2}-\\d{1,2}-\\d{4}$|^\\d{4}-\\d{1,2}-\\d{1,2}$' + \n",
    "'|^\\d{1,2}\\/\\d{1,2}\\/\\d{4}$|^\\d{4}\\/\\d{1,2}\\/\\d{1,2}$')\n",
    "    return column.str.contains(regex_string).any()"
   ]
  },
  {
   "cell_type": "code",
   "execution_count": 45,
   "metadata": {},
   "outputs": [],
   "source": [
    "cols_contains_date = None"
   ]
  },
  {
   "cell_type": "markdown",
   "metadata": {},
   "source": [
    "Then return those values that have a True value for `cols_contains_date`"
   ]
  },
  {
   "cell_type": "code",
   "execution_count": 47,
   "metadata": {},
   "outputs": [
    {
     "data": {
      "text/plain": [
       "Series([], dtype: bool)"
      ]
     },
     "execution_count": 47,
     "metadata": {},
     "output_type": "execute_result"
    }
   ],
   "source": [
    "\n",
    "\n",
    "# Series([], dtype: bool)"
   ]
  },
  {
   "cell_type": "markdown",
   "metadata": {},
   "source": [
    "If we take another look through our columns, we'll see if there is no mention of a year or month."
   ]
  },
  {
   "cell_type": "code",
   "execution_count": 57,
   "metadata": {},
   "outputs": [],
   "source": [
    "# df.columns"
   ]
  },
  {
   "cell_type": "markdown",
   "metadata": {},
   "source": [
    "Ok, so it looks like there are no other columns that contain date values either.  So it's ok to split our data randomly.  "
   ]
  },
  {
   "cell_type": "code",
   "execution_count": 52,
   "metadata": {},
   "outputs": [],
   "source": [
    "from sklearn.model_selection import train_test_split\n",
    "train_df, test_df = train_test_split(df, random_state = 1, test_size = .2)"
   ]
  },
  {
   "cell_type": "markdown",
   "metadata": {},
   "source": [
    "And we store our data in separate csv files."
   ]
  },
  {
   "cell_type": "code",
   "execution_count": 53,
   "metadata": {},
   "outputs": [],
   "source": [
    "train_df.to_csv('./school_train.csv')"
   ]
  },
  {
   "cell_type": "code",
   "execution_count": 54,
   "metadata": {},
   "outputs": [],
   "source": [
    "test_df.to_csv('./school_test.csv')"
   ]
  },
  {
   "cell_type": "markdown",
   "metadata": {},
   "source": [
    "### Summary"
   ]
  },
  {
   "cell_type": "markdown",
   "metadata": {},
   "source": [
    "In this lesson we went through the process of selecting and exploring a target value, and then splitting our data.  We did so by first looking for numeric columns in our dataset both through the `select_dtypes` method, and by looping through our columns with `contains_numbers`.  \n",
    "\n",
    "Once we narrowed down some candidates we looked for null values, and the spread of the data to select a target value.  Ultimately, we decided to proceed with both `graduation_rate` and `college_career_rate`.\n",
    "\n",
    "For splitting the date, we first looked for datetime columns to see if we should split our data by date, but saw there were none in our dateset."
   ]
  }
 ],
 "metadata": {
  "kernelspec": {
   "display_name": "Python 3",
   "language": "python",
   "name": "python3"
  },
  "language_info": {
   "codemirror_mode": {
    "name": "ipython",
    "version": 3
   },
   "file_extension": ".py",
   "mimetype": "text/x-python",
   "name": "python",
   "nbconvert_exporter": "python",
   "pygments_lexer": "ipython3",
   "version": "3.7.4"
  }
 },
 "nbformat": 4,
 "nbformat_minor": 4
}
