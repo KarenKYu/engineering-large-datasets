{
 "cells": [
  {
   "cell_type": "markdown",
   "metadata": {},
   "source": [
    "# Coerce to Booleans Lab"
   ]
  },
  {
   "cell_type": "markdown",
   "metadata": {},
   "source": [
    "### Introduction"
   ]
  },
  {
   "cell_type": "markdown",
   "metadata": {},
   "source": [
    "In this lesson, we'll have you continue to work with on our airbnb dataset.  Let's start by loading up our data."
   ]
  },
  {
   "cell_type": "markdown",
   "metadata": {},
   "source": [
    "### Working with AirBnb"
   ]
  },
  {
   "cell_type": "markdown",
   "metadata": {},
   "source": [
    "For this lesson, we'll work with [AirBnb listings in Berlin](https://www.kaggle.com/brittabettendorf/berlin-airbnb-data)."
   ]
  },
  {
   "cell_type": "code",
   "execution_count": 1,
   "metadata": {},
   "outputs": [],
   "source": [
    "import pandas as pd\n",
    "url = \"https://raw.githubusercontent.com/jigsawlabs-student/engineering-large-datasets/master/listings_coerced_bools.csv\"\n",
    "df = pd.read_csv(url)"
   ]
  },
  {
   "cell_type": "code",
   "execution_count": 2,
   "metadata": {},
   "outputs": [],
   "source": [
    "import requests\n",
    "url = \"https://raw.githubusercontent.com/jigsawlabs-student/engineering-large-datasets/master/coerced_bools_dtypes.json\"\n",
    "response = requests.get(url)\n",
    "dtypes_dict = response.json()"
   ]
  },
  {
   "cell_type": "code",
   "execution_count": 4,
   "metadata": {},
   "outputs": [],
   "source": [
    "df = df.astype(dtypes_dict)"
   ]
  },
  {
   "cell_type": "code",
   "execution_count": 5,
   "metadata": {},
   "outputs": [
    {
     "data": {
      "text/plain": [
       "(8000, 40)"
      ]
     },
     "execution_count": 5,
     "metadata": {},
     "output_type": "execute_result"
    }
   ],
   "source": [
    "df.select_dtypes('object').shape"
   ]
  },
  {
   "cell_type": "markdown",
   "metadata": {},
   "source": [
    "So we'll continue to work on where we last left off with our data.  Let's take a look at the number of columns we have left to convert.  Select the columns that are still of type object."
   ]
  },
  {
   "cell_type": "code",
   "execution_count": 29,
   "metadata": {},
   "outputs": [],
   "source": [
    "object_df = None\n",
    "\n",
    "# object_df.shape"
   ]
  },
  {
   "cell_type": "markdown",
   "metadata": {},
   "source": [
    "So we're down to 39 features."
   ]
  },
  {
   "cell_type": "markdown",
   "metadata": {},
   "source": [
    "### Reviewing our Functions"
   ]
  },
  {
   "cell_type": "markdown",
   "metadata": {},
   "source": [
    "These are the functions that we'll have to work with.  Remember that the first two functions are to identify our potential categorical columns, and the next set of functions allow us to look more closely at the top values in those columns."
   ]
  },
  {
   "cell_type": "code",
   "execution_count": 30,
   "metadata": {},
   "outputs": [],
   "source": [
    "def percent_different(df_series):\n",
    "    series_filled = df_series.dropna()\n",
    "    return len(series_filled.unique())/len(series_filled)"
   ]
  },
  {
   "cell_type": "code",
   "execution_count": 31,
   "metadata": {},
   "outputs": [],
   "source": [
    "def find_categorical(df, threshold = .5):    \n",
    "    categorical_df = pd.DataFrame({})\n",
    "    for column in df.columns:\n",
    "        if percent_different(df[column]) < threshold:\n",
    "            categorical_df[column] = df[column]\n",
    "    return categorical_df "
   ]
  },
  {
   "cell_type": "code",
   "execution_count": 32,
   "metadata": {},
   "outputs": [],
   "source": [
    "def get_multiple_val_counts(df, num_vals = 1):\n",
    "    return [df[column].value_counts(normalize=True).iloc[:num_vals] for column in df.columns]"
   ]
  },
  {
   "cell_type": "code",
   "execution_count": 33,
   "metadata": {},
   "outputs": [],
   "source": [
    "import numpy as np\n",
    "def summarize_cats(df):\n",
    "    multiple_val_counts = get_multiple_val_counts(df)\n",
    "    stacked_counts = np.vstack([np.array([val_count.name, val_count.index[0], float(val_count.values[0])]) for val_count in multiple_val_counts])\n",
    "    sorted_cols = np.argsort(stacked_counts.reshape(-1, 3)[:, 2].astype('float'))\n",
    "    return stacked_counts[sorted_cols[::-1]]"
   ]
  },
  {
   "cell_type": "markdown",
   "metadata": {},
   "source": [
    "### Selecting Categorical Columns"
   ]
  },
  {
   "cell_type": "markdown",
   "metadata": {},
   "source": [
    "Begin by selecting the remaining categorical columns from our dataframe that have not yet been coerced."
   ]
  },
  {
   "cell_type": "code",
   "execution_count": 34,
   "metadata": {},
   "outputs": [],
   "source": [
    "potential_cat = None"
   ]
  },
  {
   "cell_type": "code",
   "execution_count": 35,
   "metadata": {},
   "outputs": [
    {
     "ename": "AttributeError",
     "evalue": "'NoneType' object has no attribute 'shape'",
     "output_type": "error",
     "traceback": [
      "\u001b[0;31m---------------------------------------------------------------------------\u001b[0m",
      "\u001b[0;31mAttributeError\u001b[0m                            Traceback (most recent call last)",
      "\u001b[0;32m<ipython-input-35-b6741215905b>\u001b[0m in \u001b[0;36m<module>\u001b[0;34m\u001b[0m\n\u001b[0;32m----> 1\u001b[0;31m \u001b[0mpotential_cat\u001b[0m\u001b[0;34m.\u001b[0m\u001b[0mshape\u001b[0m\u001b[0;34m\u001b[0m\u001b[0;34m\u001b[0m\u001b[0m\n\u001b[0m\u001b[1;32m      2\u001b[0m \u001b[0;31m# (18035, 21)\u001b[0m\u001b[0;34m\u001b[0m\u001b[0;34m\u001b[0m\u001b[0;34m\u001b[0m\u001b[0m\n",
      "\u001b[0;31mAttributeError\u001b[0m: 'NoneType' object has no attribute 'shape'"
     ]
    }
   ],
   "source": [
    "potential_cat.shape\n",
    "# (18035, 21)"
   ]
  },
  {
   "cell_type": "markdown",
   "metadata": {},
   "source": [
    "So we have 21 remaining columns that we can work with.  Now let's use the `summarize_cats` function to get a better sense of these columns."
   ]
  },
  {
   "cell_type": "code",
   "execution_count": 36,
   "metadata": {},
   "outputs": [],
   "source": [
    "summary = None\n",
    "\n",
    "summary"
   ]
  },
  {
   "cell_type": "markdown",
   "metadata": {},
   "source": [
    "Ok, so the main thing to identify is that some of the columns can probably be reframed as booleans.  For example the market column could be renamed `market_is_Berlin` and be labeled True whenever Berlin, and False otherwise.  \n",
    "\n",
    "Let's select the first five column names from the summary above."
   ]
  },
  {
   "cell_type": "code",
   "execution_count": 20,
   "metadata": {},
   "outputs": [
    {
     "data": {
      "text/plain": [
       "array(['market', 'state', 'city', 'smart_location', 'street'],\n",
       "      dtype='<U29')"
      ]
     },
     "execution_count": 20,
     "metadata": {},
     "output_type": "execute_result"
    }
   ],
   "source": [
    "top_five_cols = None\n",
    "\n",
    "top_five_cols\n",
    "# array(['market', 'state', 'city', 'smart_location', 'street'],\n",
    "#       dtype='<U29')"
   ]
  },
  {
   "cell_type": "markdown",
   "metadata": {},
   "source": [
    "And then we can use our `get_multiple_val_counts` function to look at the top three values in each of these columns."
   ]
  },
  {
   "cell_type": "code",
   "execution_count": 22,
   "metadata": {},
   "outputs": [
    {
     "data": {
      "text/plain": [
       "[Berlin                   0.999722\n",
       " Other (International)    0.000111\n",
       " Juarez                   0.000056\n",
       " Name: market, dtype: float64,\n",
       " Berlin                0.997607\n",
       " Brandenburg           0.000612\n",
       " Schleswig-Holstein    0.000390\n",
       " Name: state, dtype: float64,\n",
       " Berlin        0.994121\n",
       " Schöneberg    0.000555\n",
       " Berlin        0.000555\n",
       " Name: city, dtype: float64,\n",
       " Berlin, Germany        0.993956\n",
       " Schöneberg, Germany    0.000554\n",
       " ., Germany             0.000554\n",
       " Name: smart_location, dtype: float64,\n",
       " Berlin, Berlin, Germany    0.989354\n",
       " Berlin, Germany            0.003216\n",
       " ., Berlin, Germany         0.000554\n",
       " Name: street, dtype: float64]"
      ]
     },
     "execution_count": 22,
     "metadata": {},
     "output_type": "execute_result"
    }
   ],
   "source": [
    "\n",
    "\n",
    "# [Berlin                   0.999722\n",
    "#  Other (International)    0.000111\n",
    "#  Juarez                   0.000056\n",
    "#  Name: market, dtype: float64,\n",
    "#  Berlin                0.997607\n",
    "#  Brandenburg           0.000612\n",
    "#  Schleswig-Holstein    0.000390\n",
    "#  Name: state, dtype: float64,\n",
    "#  Berlin        0.994121\n",
    "#  Schöneberg    0.000555\n",
    "#  Berlin        0.000555\n",
    "#  Name: city, dtype: float64,\n",
    "#  Berlin, Germany        0.993956\n",
    "#  Schöneberg, Germany    0.000554\n",
    "#  ., Germany             0.000554\n",
    "#  Name: smart_location, dtype: float64,\n",
    "#  Berlin, Berlin, Germany    0.989354\n",
    "#  Berlin, Germany            0.003216\n",
    "#  ., Berlin, Germany         0.000554\n",
    "#  Name: street, dtype: float64]"
   ]
  },
  {
   "cell_type": "markdown",
   "metadata": {},
   "source": [
    "So it seems safe to relabel these five as boolean columns."
   ]
  },
  {
   "cell_type": "markdown",
   "metadata": {},
   "source": [
    "### Creating our Steps"
   ]
  },
  {
   "cell_type": "markdown",
   "metadata": {},
   "source": [
    "Now we'll need to create our steps.  Note that each step will take on the following format."
   ]
  },
  {
   "cell_type": "markdown",
   "metadata": {},
   "source": [
    "```python\n",
    "([col], MissingIndicator(missing_values = top_val) )\n",
    "```"
   ]
  },
  {
   "cell_type": "markdown",
   "metadata": {},
   "source": [
    "So we specify both the column, and the value that is we want set to True which is the top value.  To do this for all columns, we first need to pair our boolean columns and the related top values."
   ]
  },
  {
   "cell_type": "code",
   "execution_count": 25,
   "metadata": {},
   "outputs": [],
   "source": [
    "potential_bool_cols = summary[:5, :]"
   ]
  },
  {
   "cell_type": "code",
   "execution_count": 26,
   "metadata": {},
   "outputs": [],
   "source": [
    "paired_bools = list(zip(list(potential_bool_cols[:, 0]), list(potential_bool_cols[:, 1])))"
   ]
  },
  {
   "cell_type": "code",
   "execution_count": 27,
   "metadata": {},
   "outputs": [
    {
     "data": {
      "text/plain": [
       "[('market', 'Berlin'),\n",
       " ('state', 'Berlin'),\n",
       " ('city', 'Berlin'),\n",
       " ('smart_location', 'Berlin, Germany'),\n",
       " ('street', 'Berlin, Berlin, Germany')]"
      ]
     },
     "execution_count": 27,
     "metadata": {},
     "output_type": "execute_result"
    }
   ],
   "source": [
    "paired_bools"
   ]
  },
  {
   "cell_type": "markdown",
   "metadata": {},
   "source": [
    "Then use list iteration to create your steps."
   ]
  },
  {
   "cell_type": "code",
   "execution_count": 31,
   "metadata": {},
   "outputs": [],
   "source": [
    "\n",
    "steps = None"
   ]
  },
  {
   "cell_type": "code",
   "execution_count": 32,
   "metadata": {},
   "outputs": [
    {
     "data": {
      "text/plain": [
       "[(['market'],\n",
       "  MissingIndicator(error_on_new=True, features='missing-only',\n",
       "                   missing_values='Berlin', sparse='auto')),\n",
       " (['state'],\n",
       "  MissingIndicator(error_on_new=True, features='missing-only',\n",
       "                   missing_values='Berlin', sparse='auto')),\n",
       " (['city'],\n",
       "  MissingIndicator(error_on_new=True, features='missing-only',\n",
       "                   missing_values='Berlin', sparse='auto')),\n",
       " (['smart_location'],\n",
       "  MissingIndicator(error_on_new=True, features='missing-only',\n",
       "                   missing_values='Berlin, Germany', sparse='auto')),\n",
       " (['street'],\n",
       "  MissingIndicator(error_on_new=True, features='missing-only',\n",
       "                   missing_values='Berlin, Berlin, Germany', sparse='auto'))]"
      ]
     },
     "execution_count": 32,
     "metadata": {},
     "output_type": "execute_result"
    }
   ],
   "source": [
    "steps\n",
    "\n",
    "# [(['market'],\n",
    "#   MissingIndicator(error_on_new=True, features='missing-only',\n",
    "#                    missing_values='Berlin', sparse='auto'),\n",
    "#   {'alias': 'market_is_Berlin'}),\n",
    "#  (['state'],\n",
    "#   MissingIndicator(error_on_new=True, features='missing-only',\n",
    "#                    missing_values='Berlin', sparse='auto'),\n",
    "#   {'alias': 'state_is_Berlin'}),\n",
    "#  (['city'],\n",
    "#   MissingIndicator(error_on_new=True, features='missing-only',\n",
    "#                    missing_values='Berlin', sparse='auto'),\n",
    "#   {'alias': 'city_is_Berlin'}),\n",
    "#  (['smart_location'],\n",
    "#   MissingIndicator(error_on_new=True, features='missing-only',\n",
    "#                    missing_values='Berlin, Germany', sparse='auto'),\n",
    "#   {'alias': 'smart_location_is_Berlin, Germany'}),\n",
    "#  (['street'],\n",
    "#   MissingIndicator(error_on_new=True, features='missing-only',\n",
    "#                    missing_values='Berlin, Berlin, Germany', sparse='auto'),\n",
    "#   {'alias': 'street_is_Berlin, Berlin, Germany'})]"
   ]
  },
  {
   "cell_type": "markdown",
   "metadata": {},
   "source": [
    "And place these steps in a mapper."
   ]
  },
  {
   "cell_type": "code",
   "execution_count": 35,
   "metadata": {},
   "outputs": [],
   "source": [
    "\n",
    "practical_bools_mapper = None"
   ]
  },
  {
   "cell_type": "code",
   "execution_count": 36,
   "metadata": {},
   "outputs": [],
   "source": [
    "df_practical_bools = practical_bools_mapper.fit_transform(df)"
   ]
  },
  {
   "cell_type": "code",
   "execution_count": 37,
   "metadata": {},
   "outputs": [
    {
     "data": {
      "text/html": [
       "<div>\n",
       "<style scoped>\n",
       "    .dataframe tbody tr th:only-of-type {\n",
       "        vertical-align: middle;\n",
       "    }\n",
       "\n",
       "    .dataframe tbody tr th {\n",
       "        vertical-align: top;\n",
       "    }\n",
       "\n",
       "    .dataframe thead th {\n",
       "        text-align: right;\n",
       "    }\n",
       "</style>\n",
       "<table border=\"1\" class=\"dataframe\">\n",
       "  <thead>\n",
       "    <tr style=\"text-align: right;\">\n",
       "      <th></th>\n",
       "      <th>market</th>\n",
       "      <th>state</th>\n",
       "      <th>city</th>\n",
       "      <th>smart_location</th>\n",
       "      <th>street</th>\n",
       "    </tr>\n",
       "  </thead>\n",
       "  <tbody>\n",
       "    <tr>\n",
       "      <th>0</th>\n",
       "      <td>True</td>\n",
       "      <td>True</td>\n",
       "      <td>True</td>\n",
       "      <td>True</td>\n",
       "      <td>True</td>\n",
       "    </tr>\n",
       "    <tr>\n",
       "      <th>1</th>\n",
       "      <td>True</td>\n",
       "      <td>True</td>\n",
       "      <td>True</td>\n",
       "      <td>True</td>\n",
       "      <td>True</td>\n",
       "    </tr>\n",
       "  </tbody>\n",
       "</table>\n",
       "</div>"
      ],
      "text/plain": [
       "   market  state  city  smart_location  street\n",
       "0    True   True  True            True    True\n",
       "1    True   True  True            True    True"
      ]
     },
     "execution_count": 37,
     "metadata": {},
     "output_type": "execute_result"
    }
   ],
   "source": [
    "df_practical_bools[:2]\n",
    "\n",
    "# \tmarket\tstate\tcity\tsmart_location\tstreet\n",
    "# 0\tTrue\tTrue\tTrue\tTrue\tTrue\n",
    "# 1\tTrue\tTrue\tTrue\tTrue\tTrue"
   ]
  },
  {
   "cell_type": "markdown",
   "metadata": {},
   "source": [
    "Now it would be even better if we renamed the column, `col_is_top_value`.  So then we would see `market_is_Berlin`, and have values of True or False.  Add an alias when looping through the steps."
   ]
  },
  {
   "cell_type": "code",
   "execution_count": 38,
   "metadata": {},
   "outputs": [],
   "source": [
    "steps = None"
   ]
  },
  {
   "cell_type": "markdown",
   "metadata": {},
   "source": [
    "Then place these steps in a DataFrameMapper and coerce the values."
   ]
  },
  {
   "cell_type": "code",
   "execution_count": 40,
   "metadata": {},
   "outputs": [],
   "source": [
    "from sklearn_pandas import DataFrameMapper\n",
    "practical_bools_mapper_with_al = None"
   ]
  },
  {
   "cell_type": "code",
   "execution_count": 41,
   "metadata": {},
   "outputs": [],
   "source": [
    "df_practical_bools_with_al = practical_bools_mapper_with_al.fit_transform(df)"
   ]
  },
  {
   "cell_type": "code",
   "execution_count": 42,
   "metadata": {},
   "outputs": [
    {
     "data": {
      "text/html": [
       "<div>\n",
       "<style scoped>\n",
       "    .dataframe tbody tr th:only-of-type {\n",
       "        vertical-align: middle;\n",
       "    }\n",
       "\n",
       "    .dataframe tbody tr th {\n",
       "        vertical-align: top;\n",
       "    }\n",
       "\n",
       "    .dataframe thead th {\n",
       "        text-align: right;\n",
       "    }\n",
       "</style>\n",
       "<table border=\"1\" class=\"dataframe\">\n",
       "  <thead>\n",
       "    <tr style=\"text-align: right;\">\n",
       "      <th></th>\n",
       "      <th>market_is_Berlin</th>\n",
       "      <th>state_is_Berlin</th>\n",
       "      <th>city_is_Berlin</th>\n",
       "      <th>smart_location_is_Berlin, Germany</th>\n",
       "      <th>street_is_Berlin, Berlin, Germany</th>\n",
       "    </tr>\n",
       "  </thead>\n",
       "  <tbody>\n",
       "    <tr>\n",
       "      <th>0</th>\n",
       "      <td>True</td>\n",
       "      <td>True</td>\n",
       "      <td>True</td>\n",
       "      <td>True</td>\n",
       "      <td>True</td>\n",
       "    </tr>\n",
       "    <tr>\n",
       "      <th>1</th>\n",
       "      <td>True</td>\n",
       "      <td>True</td>\n",
       "      <td>True</td>\n",
       "      <td>True</td>\n",
       "      <td>True</td>\n",
       "    </tr>\n",
       "    <tr>\n",
       "      <th>2</th>\n",
       "      <td>True</td>\n",
       "      <td>True</td>\n",
       "      <td>True</td>\n",
       "      <td>True</td>\n",
       "      <td>True</td>\n",
       "    </tr>\n",
       "  </tbody>\n",
       "</table>\n",
       "</div>"
      ],
      "text/plain": [
       "   market_is_Berlin  state_is_Berlin  city_is_Berlin  \\\n",
       "0              True             True            True   \n",
       "1              True             True            True   \n",
       "2              True             True            True   \n",
       "\n",
       "   smart_location_is_Berlin, Germany  street_is_Berlin, Berlin, Germany  \n",
       "0                               True                               True  \n",
       "1                               True                               True  \n",
       "2                               True                               True  "
      ]
     },
     "execution_count": 42,
     "metadata": {},
     "output_type": "execute_result"
    }
   ],
   "source": [
    "df_practical_bools_with_al[:3]\n",
    "\n",
    "# \tmarket_is_Berlin\tstate_is_Berlin\tcity_is_Berlin\tsmart_location_is_Berlin, Germany\tstreet_is_Berlin, Berlin, Germany\n",
    "# 0\tTrue\tTrue\tTrue\tTrue\tTrue\n",
    "# 1\tTrue\tTrue\tTrue\tTrue\tTrue\n",
    "# 2\tTrue\tTrue\tTrue\tTrue\tTrue"
   ]
  },
  {
   "cell_type": "markdown",
   "metadata": {},
   "source": [
    "Ok, this looks good.  Now let's update our dataframe."
   ]
  },
  {
   "cell_type": "code",
   "execution_count": 50,
   "metadata": {},
   "outputs": [
    {
     "data": {
      "text/plain": [
       "['market', 'state', 'city', 'smart_location', 'street']"
      ]
     },
     "execution_count": 50,
     "metadata": {},
     "output_type": "execute_result"
    }
   ],
   "source": [
    "cols_to_remove = [col for col, top_val in paired_bools]\n",
    "cols_to_remove"
   ]
  },
  {
   "cell_type": "markdown",
   "metadata": {},
   "source": [
    "We can drop the above columns from our dataframe."
   ]
  },
  {
   "cell_type": "code",
   "execution_count": 51,
   "metadata": {},
   "outputs": [],
   "source": [
    "df_coerced = df.drop(columns = cols_to_remove)"
   ]
  },
  {
   "cell_type": "markdown",
   "metadata": {},
   "source": [
    "And update with the new boolean columns."
   ]
  },
  {
   "cell_type": "code",
   "execution_count": 52,
   "metadata": {},
   "outputs": [],
   "source": [
    "df_coerced[df_practical_bools.columns] = df_practical_bools"
   ]
  },
  {
   "cell_type": "code",
   "execution_count": 54,
   "metadata": {},
   "outputs": [
    {
     "data": {
      "text/plain": [
       "(18035, 34)"
      ]
     },
     "execution_count": 54,
     "metadata": {},
     "output_type": "execute_result"
    }
   ],
   "source": [
    "df_coerced.select_dtypes(include = 'object').shape"
   ]
  },
  {
   "cell_type": "markdown",
   "metadata": {},
   "source": [
    "And can see that we're now down to 34 columns."
   ]
  },
  {
   "cell_type": "markdown",
   "metadata": {},
   "source": [
    "### Summary"
   ]
  },
  {
   "cell_type": "markdown",
   "metadata": {},
   "source": [
    "In this lesson we worked through coercing more of our columns to be boolean columns. We continued to practice working with list iteration with creating our steps, this time adding an alias to our steps.  We also practiced using our categorical functions both to identify potential categorical or boolean columns, and look at the top values in those columns."
   ]
  },
  {
   "cell_type": "code",
   "execution_count": null,
   "metadata": {},
   "outputs": [],
   "source": []
  }
 ],
 "metadata": {
  "kernelspec": {
   "display_name": "Python 3",
   "language": "python",
   "name": "python3"
  },
  "language_info": {
   "codemirror_mode": {
    "name": "ipython",
    "version": 3
   },
   "file_extension": ".py",
   "mimetype": "text/x-python",
   "name": "python",
   "nbconvert_exporter": "python",
   "pygments_lexer": "ipython3",
   "version": "3.7.4"
  }
 },
 "nbformat": 4,
 "nbformat_minor": 4
}
