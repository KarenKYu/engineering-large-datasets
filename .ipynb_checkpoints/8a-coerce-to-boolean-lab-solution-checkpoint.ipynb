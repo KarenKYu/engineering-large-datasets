{
 "cells": [
  {
   "cell_type": "markdown",
   "metadata": {},
   "source": [
    "# Coerce to Booleans Lab"
   ]
  },
  {
   "cell_type": "markdown",
   "metadata": {},
   "source": [
    "### Introduction"
   ]
  },
  {
   "cell_type": "markdown",
   "metadata": {},
   "source": [
    "In this lesson, we'll have you continue to work with on our airbnb dataset.  Let's start by loading up our data."
   ]
  },
  {
   "cell_type": "markdown",
   "metadata": {},
   "source": [
    "### Working with AirBnb"
   ]
  },
  {
   "cell_type": "markdown",
   "metadata": {},
   "source": [
    "For this lesson, we'll work with [AirBnb listings in Berlin](https://www.kaggle.com/brittabettendorf/berlin-airbnb-data)."
   ]
  },
  {
   "cell_type": "code",
   "execution_count": 119,
   "metadata": {},
   "outputs": [],
   "source": [
    "import pandas as pd\n",
    "df = pd.read_csv('./listings_coerced_bools.csv', index_col = 0)"
   ]
  },
  {
   "cell_type": "code",
   "execution_count": 120,
   "metadata": {},
   "outputs": [],
   "source": [
    "import json\n",
    "file = \"./coerced_bools_dtypes.json\"\n",
    "with open(file, 'r') as f:\n",
    "    dtypes = json.load(f)"
   ]
  },
  {
   "cell_type": "code",
   "execution_count": 121,
   "metadata": {},
   "outputs": [],
   "source": [
    "df = df.astype(dtypes)"
   ]
  },
  {
   "cell_type": "code",
   "execution_count": 122,
   "metadata": {},
   "outputs": [
    {
     "data": {
      "text/plain": [
       "(8000, 40)"
      ]
     },
     "execution_count": 122,
     "metadata": {},
     "output_type": "execute_result"
    }
   ],
   "source": [
    "df.select_dtypes('object').shape"
   ]
  },
  {
   "cell_type": "markdown",
   "metadata": {},
   "source": [
    "So we'll continue to work on where we last left off with our data.  Let's take a look at the number of columns we have left to convert.  Select the columns that are still of type object."
   ]
  },
  {
   "cell_type": "code",
   "execution_count": 123,
   "metadata": {},
   "outputs": [],
   "source": [
    "object_df = df.select_dtypes(include = 'object')\n",
    "\n",
    "# object_df.shape"
   ]
  },
  {
   "cell_type": "code",
   "execution_count": 152,
   "metadata": {},
   "outputs": [],
   "source": [
    "# object_df.dtypes"
   ]
  },
  {
   "cell_type": "markdown",
   "metadata": {},
   "source": [
    "So we're down to 39 features."
   ]
  },
  {
   "cell_type": "markdown",
   "metadata": {},
   "source": [
    "### Reviewing our Functions"
   ]
  },
  {
   "cell_type": "markdown",
   "metadata": {},
   "source": [
    "These are the functions that we'll have to work with.  Remember that the first two functions are to identify our potential categorical columns, and the next set of functions allow us to look more closely at the top values in those columns."
   ]
  },
  {
   "cell_type": "code",
   "execution_count": 125,
   "metadata": {},
   "outputs": [],
   "source": [
    "def percent_different(df_series):\n",
    "    series_filled = df_series.dropna()\n",
    "    return len(series_filled.unique())/len(series_filled)"
   ]
  },
  {
   "cell_type": "code",
   "execution_count": 126,
   "metadata": {},
   "outputs": [],
   "source": [
    "def find_categorical(df, threshold = .5):    \n",
    "    categorical_df = pd.DataFrame({})\n",
    "    for column in df.columns:\n",
    "        if percent_different(df[column]) < threshold:\n",
    "            categorical_df[column] = df[column]\n",
    "    return categorical_df "
   ]
  },
  {
   "cell_type": "code",
   "execution_count": 127,
   "metadata": {},
   "outputs": [],
   "source": [
    "def get_multiple_val_counts(df, num_vals = 1):\n",
    "    return [df[column].value_counts(normalize=True).iloc[:num_vals] for column in df.columns]"
   ]
  },
  {
   "cell_type": "code",
   "execution_count": 128,
   "metadata": {},
   "outputs": [],
   "source": [
    "import numpy as np\n",
    "def summarize_cats(df):\n",
    "    multiple_val_counts = get_multiple_val_counts(df)\n",
    "    stacked_counts = np.vstack([np.array([val_count.name, val_count.index[0], float(val_count.values[0])]) for val_count in multiple_val_counts])\n",
    "    sorted_cols = np.argsort(stacked_counts.reshape(-1, 3)[:, 2].astype('float'))\n",
    "    return stacked_counts[sorted_cols[::-1]]"
   ]
  },
  {
   "cell_type": "markdown",
   "metadata": {},
   "source": [
    "### Selecting Categorical Columns"
   ]
  },
  {
   "cell_type": "markdown",
   "metadata": {},
   "source": [
    "Begin by selecting the remaining categorical columns from our dataframe that have not yet been coerced."
   ]
  },
  {
   "cell_type": "code",
   "execution_count": 129,
   "metadata": {},
   "outputs": [],
   "source": [
    "potential_cat = find_categorical(object_df)"
   ]
  },
  {
   "cell_type": "code",
   "execution_count": 130,
   "metadata": {},
   "outputs": [
    {
     "data": {
      "text/plain": [
       "(8000, 22)"
      ]
     },
     "execution_count": 130,
     "metadata": {},
     "output_type": "execute_result"
    }
   ],
   "source": [
    "potential_cat.shape\n",
    "# (8000, 22)"
   ]
  },
  {
   "cell_type": "markdown",
   "metadata": {},
   "source": [
    "So we have 22 remaining columns that we can work with.  Now let's use the `summarize_cats` function to get a better sense of these columns."
   ]
  },
  {
   "cell_type": "code",
   "execution_count": 131,
   "metadata": {},
   "outputs": [
    {
     "data": {
      "text/plain": [
       "array([['market', 'Berlin', '0.99975'],\n",
       "       ['state', 'Berlin', '0.9978704747588626'],\n",
       "       ['host_has_profile_pic', 't', '0.9976193459466233'],\n",
       "       ['smart_location', 'Berlin, Germany', '0.99175'],\n",
       "       ['city', 'Berlin', '0.9917489686210776'],\n",
       "       ['street', 'Berlin, Berlin, Germany', '0.989125'],\n",
       "       ['bed_type', 'Real Bed', '0.93525'],\n",
       "       ['property_type', 'Apartment', '0.899'],\n",
       "       ['host_is_superhost', 'f', '0.8743265254980579'],\n",
       "       ['host_location', 'Berlin, Berlin, Germany', '0.8262015309323629'],\n",
       "       ['room_type', 'Entire home/apt', '0.54125'],\n",
       "       ['host_identity_verified', 't', '0.5090840746773587'],\n",
       "       ['host_response_time', 'within an hour', '0.45789473684210524'],\n",
       "       ['cancellation_policy', 'flexible', '0.34125'],\n",
       "       ['neighbourhood_group_cleansed', 'Friedrichshain-Kreuzberg',\n",
       "        '0.255125'],\n",
       "       ['host_verifications',\n",
       "        \"['email', 'phone', 'reviews', 'jumio', 'government_id']\",\n",
       "        '0.224875'],\n",
       "       ['neighbourhood', 'Neukölln', '0.16922060766182298'],\n",
       "       ['host_neighbourhood', 'Neukölln', '0.16192390968141046'],\n",
       "       ['calendar_updated', 'today', '0.0905'],\n",
       "       ['neighbourhood_cleansed', 'Tempelhofer Vorstadt', '0.066125'],\n",
       "       ['zipcode', '10437', '0.03861945085963562'],\n",
       "       ['host_name', 'Anna', '0.008520235559453703']], dtype='<U55')"
      ]
     },
     "execution_count": 131,
     "metadata": {},
     "output_type": "execute_result"
    }
   ],
   "source": [
    "summary = summarize_cats(potential_cat)\n",
    "\n",
    "summary"
   ]
  },
  {
   "cell_type": "markdown",
   "metadata": {},
   "source": [
    "Ok, so the main thing to identify is that some of the columns can probably be reframed as booleans.  For example the market column could be renamed `market_is_Berlin` and be labeled True whenever Berlin, and False otherwise.  \n",
    "\n",
    "Let's select the first five column names from the summary above."
   ]
  },
  {
   "cell_type": "code",
   "execution_count": 132,
   "metadata": {},
   "outputs": [
    {
     "data": {
      "text/plain": [
       "array(['market', 'state', 'host_has_profile_pic', 'smart_location',\n",
       "       'city'], dtype='<U55')"
      ]
     },
     "execution_count": 132,
     "metadata": {},
     "output_type": "execute_result"
    }
   ],
   "source": [
    "summary[:5, 0]\n",
    "\n",
    "# array(['market', 'state', 'host_has_profile_pic', 'smart_location',\n",
    "#        'city'], dtype='<U55')"
   ]
  },
  {
   "cell_type": "markdown",
   "metadata": {},
   "source": [
    "And then we can use our `get_multiple_val_counts` function to look at the top three values in each of these columns."
   ]
  },
  {
   "cell_type": "code",
   "execution_count": 133,
   "metadata": {},
   "outputs": [
    {
     "data": {
      "text/plain": [
       "[Berlin     0.999750\n",
       " Leipzig    0.000125\n",
       " Zurich     0.000125\n",
       " Name: market, dtype: float64,\n",
       " Berlin         0.997870\n",
       " Brandenburg    0.000752\n",
       " Germany        0.000376\n",
       " Name: state, dtype: float64,\n",
       " t    0.997619\n",
       " f    0.002381\n",
       " Name: host_has_profile_pic, dtype: float64,\n",
       " Berlin, Germany            0.991750\n",
       " Berlin , Germany           0.000625\n",
       " Berlin - Mitte, Germany    0.000375\n",
       " Name: smart_location, dtype: float64,\n",
       " Berlin                     0.991749\n",
       " Berlin                     0.000625\n",
       " Berlin, friedrichshain     0.000375\n",
       " Name: city, dtype: float64]"
      ]
     },
     "execution_count": 133,
     "metadata": {},
     "output_type": "execute_result"
    }
   ],
   "source": [
    "get_multiple_val_counts(df[summary[:5, 0]], 3)\n",
    "\n",
    "# [Berlin     0.999750\n",
    "#  Leipzig    0.000125\n",
    "#  Zurich     0.000125\n",
    "#  Name: market, dtype: float64,\n",
    "#  Berlin         0.997870\n",
    "#  Brandenburg    0.000752\n",
    "#  Germany        0.000376\n",
    "#  Name: state, dtype: float64,\n",
    "#  t    0.997619\n",
    "#  f    0.002381\n",
    "#  Name: host_has_profile_pic, dtype: float64,\n",
    "#  Berlin, Germany            0.991750\n",
    "#  Berlin , Germany           0.000625\n",
    "#  Berlin - Mitte, Germany    0.000375\n",
    "#  Name: smart_location, dtype: float64,\n",
    "#  Berlin                     0.991749\n",
    "#  Berlin                     0.000625\n",
    "#  Berlin, friedrichshain     0.000375\n",
    "#  Name: city, dtype: float64]"
   ]
  },
  {
   "cell_type": "markdown",
   "metadata": {},
   "source": [
    "So it seems safe to relabel these five as boolean columns."
   ]
  },
  {
   "cell_type": "markdown",
   "metadata": {},
   "source": [
    "### Creating our Steps"
   ]
  },
  {
   "cell_type": "markdown",
   "metadata": {},
   "source": [
    "Now we'll need to create our steps.  Note that each step will take on the following format."
   ]
  },
  {
   "cell_type": "markdown",
   "metadata": {},
   "source": [
    "```python\n",
    "([col], MissingIndicator(missing_values = top_val) )\n",
    "```"
   ]
  },
  {
   "cell_type": "markdown",
   "metadata": {},
   "source": [
    "So we specify both the column, and the value that is we want set to True which is the top value.  To do this for all columns, we first need to pair our boolean columns and the related top values."
   ]
  },
  {
   "cell_type": "code",
   "execution_count": 134,
   "metadata": {},
   "outputs": [],
   "source": [
    "potential_bool_cols = summary[:5, :]"
   ]
  },
  {
   "cell_type": "code",
   "execution_count": 135,
   "metadata": {},
   "outputs": [],
   "source": [
    "paired_bools = list(zip(list(potential_bool_cols[:, 0]), list(potential_bool_cols[:, 1])))"
   ]
  },
  {
   "cell_type": "code",
   "execution_count": 136,
   "metadata": {},
   "outputs": [
    {
     "data": {
      "text/plain": [
       "[('market', 'Berlin'),\n",
       " ('state', 'Berlin'),\n",
       " ('host_has_profile_pic', 't'),\n",
       " ('smart_location', 'Berlin, Germany'),\n",
       " ('city', 'Berlin')]"
      ]
     },
     "execution_count": 136,
     "metadata": {},
     "output_type": "execute_result"
    }
   ],
   "source": [
    "paired_bools"
   ]
  },
  {
   "cell_type": "markdown",
   "metadata": {},
   "source": [
    "Now we are about to use list iteration to create our steps, but notice that we still have missing values in many of our columns."
   ]
  },
  {
   "cell_type": "code",
   "execution_count": 137,
   "metadata": {},
   "outputs": [
    {
     "data": {
      "text/plain": [
       "market                   0\n",
       "state                   17\n",
       "host_has_profile_pic    19\n",
       "smart_location           0\n",
       "city                     1\n",
       "dtype: int64"
      ]
     },
     "execution_count": 137,
     "metadata": {},
     "output_type": "execute_result"
    }
   ],
   "source": [
    "df[summary[:5, 0]].isna().sum()"
   ]
  },
  {
   "cell_type": "markdown",
   "metadata": {},
   "source": [
    "The amount of missing values is quite small - less than one half of one percent.  So let's handle these simply by setting any `na` value to equal `'f'`, and coercing all values to True or False.  "
   ]
  },
  {
   "cell_type": "markdown",
   "metadata": {},
   "source": [
    "Create our steps for each fo the above columns.  Use list iteration to do so."
   ]
  },
  {
   "cell_type": "code",
   "execution_count": 138,
   "metadata": {},
   "outputs": [],
   "source": [
    "from sklearn.impute import MissingIndicator, SimpleImputer\n",
    "steps = [([col], [SimpleImputer(strategy = 'constant', fill_value = 'f'), \n",
    "                  MissingIndicator(missing_values = top_val)]) \n",
    "         for col, top_val in paired_bools]"
   ]
  },
  {
   "cell_type": "code",
   "execution_count": 139,
   "metadata": {},
   "outputs": [
    {
     "data": {
      "text/plain": [
       "[(['market'],\n",
       "  [SimpleImputer(add_indicator=False, copy=True, fill_value='f',\n",
       "                 missing_values=nan, strategy='constant', verbose=0),\n",
       "   MissingIndicator(error_on_new=True, features='missing-only',\n",
       "                    missing_values='Berlin', sparse='auto')]),\n",
       " (['state'],\n",
       "  [SimpleImputer(add_indicator=False, copy=True, fill_value='f',\n",
       "                 missing_values=nan, strategy='constant', verbose=0),\n",
       "   MissingIndicator(error_on_new=True, features='missing-only',\n",
       "                    missing_values='Berlin', sparse='auto')])]"
      ]
     },
     "execution_count": 139,
     "metadata": {},
     "output_type": "execute_result"
    }
   ],
   "source": [
    "steps[:2]\n",
    "\n",
    "# [(['market'],\n",
    "#   [SimpleImputer(add_indicator=False, copy=True, fill_value='f',\n",
    "#                  missing_values=nan, strategy='constant', verbose=0),\n",
    "#    MissingIndicator(error_on_new=True, features='missing-only',\n",
    "#                     missing_values='Berlin', sparse='auto')]),\n",
    "#  (['state'],\n",
    "#   [SimpleImputer(add_indicator=False, copy=True, fill_value='f',\n",
    "#                  missing_values=nan, strategy='constant', verbose=0),\n",
    "#    MissingIndicator(error_on_new=True, features='missing-only',\n",
    "#                     missing_values='Berlin', sparse='auto')])]"
   ]
  },
  {
   "cell_type": "code",
   "execution_count": 140,
   "metadata": {},
   "outputs": [],
   "source": [
    "from sklearn_pandas import DataFrameMapper\n",
    "practical_bools_mapper = DataFrameMapper(steps, df_out = True)"
   ]
  },
  {
   "cell_type": "code",
   "execution_count": 141,
   "metadata": {},
   "outputs": [],
   "source": [
    "df_practical_bools = practical_bools_mapper.fit_transform(df)"
   ]
  },
  {
   "cell_type": "code",
   "execution_count": 142,
   "metadata": {},
   "outputs": [
    {
     "data": {
      "text/html": [
       "<div>\n",
       "<style scoped>\n",
       "    .dataframe tbody tr th:only-of-type {\n",
       "        vertical-align: middle;\n",
       "    }\n",
       "\n",
       "    .dataframe tbody tr th {\n",
       "        vertical-align: top;\n",
       "    }\n",
       "\n",
       "    .dataframe thead th {\n",
       "        text-align: right;\n",
       "    }\n",
       "</style>\n",
       "<table border=\"1\" class=\"dataframe\">\n",
       "  <thead>\n",
       "    <tr style=\"text-align: right;\">\n",
       "      <th></th>\n",
       "      <th>market</th>\n",
       "      <th>state</th>\n",
       "      <th>host_has_profile_pic</th>\n",
       "      <th>smart_location</th>\n",
       "      <th>city</th>\n",
       "    </tr>\n",
       "  </thead>\n",
       "  <tbody>\n",
       "    <tr>\n",
       "      <th>0</th>\n",
       "      <td>True</td>\n",
       "      <td>True</td>\n",
       "      <td>True</td>\n",
       "      <td>True</td>\n",
       "      <td>True</td>\n",
       "    </tr>\n",
       "    <tr>\n",
       "      <th>1</th>\n",
       "      <td>True</td>\n",
       "      <td>True</td>\n",
       "      <td>True</td>\n",
       "      <td>True</td>\n",
       "      <td>True</td>\n",
       "    </tr>\n",
       "  </tbody>\n",
       "</table>\n",
       "</div>"
      ],
      "text/plain": [
       "   market  state  host_has_profile_pic  smart_location  city\n",
       "0    True   True                  True            True  True\n",
       "1    True   True                  True            True  True"
      ]
     },
     "execution_count": 142,
     "metadata": {},
     "output_type": "execute_result"
    }
   ],
   "source": [
    "df_practical_bools[:2]"
   ]
  },
  {
   "cell_type": "markdown",
   "metadata": {},
   "source": [
    "Now it would be even better if we renamed the column, `col_is_top_value`.  So then we would see `market_is_Berlin`, and have values of True or False.  Add an alias when looping through the steps."
   ]
  },
  {
   "cell_type": "code",
   "execution_count": 143,
   "metadata": {},
   "outputs": [],
   "source": [
    "steps = [([col], [SimpleImputer(strategy = 'constant', fill_value = 'f'),\n",
    "                  MissingIndicator(missing_values = top_val)], \n",
    "          {'alias': f'{col}_is_{top_val}'}) \n",
    "         for col, top_val in paired_bools]"
   ]
  },
  {
   "cell_type": "markdown",
   "metadata": {},
   "source": [
    "Then place these steps in a DataFrameMapper and coerce the values."
   ]
  },
  {
   "cell_type": "code",
   "execution_count": 144,
   "metadata": {},
   "outputs": [],
   "source": [
    "from sklearn_pandas import DataFrameMapper\n",
    "practical_bools_mapper = DataFrameMapper(steps, df_out = True)"
   ]
  },
  {
   "cell_type": "code",
   "execution_count": 145,
   "metadata": {},
   "outputs": [],
   "source": [
    "df_practical_bools = practical_bools_mapper.fit_transform(df)"
   ]
  },
  {
   "cell_type": "code",
   "execution_count": 146,
   "metadata": {},
   "outputs": [
    {
     "data": {
      "text/html": [
       "<div>\n",
       "<style scoped>\n",
       "    .dataframe tbody tr th:only-of-type {\n",
       "        vertical-align: middle;\n",
       "    }\n",
       "\n",
       "    .dataframe tbody tr th {\n",
       "        vertical-align: top;\n",
       "    }\n",
       "\n",
       "    .dataframe thead th {\n",
       "        text-align: right;\n",
       "    }\n",
       "</style>\n",
       "<table border=\"1\" class=\"dataframe\">\n",
       "  <thead>\n",
       "    <tr style=\"text-align: right;\">\n",
       "      <th></th>\n",
       "      <th>market_is_Berlin</th>\n",
       "      <th>state_is_Berlin</th>\n",
       "      <th>host_has_profile_pic_is_t</th>\n",
       "      <th>smart_location_is_Berlin, Germany</th>\n",
       "      <th>city_is_Berlin</th>\n",
       "    </tr>\n",
       "  </thead>\n",
       "  <tbody>\n",
       "    <tr>\n",
       "      <th>0</th>\n",
       "      <td>True</td>\n",
       "      <td>True</td>\n",
       "      <td>True</td>\n",
       "      <td>True</td>\n",
       "      <td>True</td>\n",
       "    </tr>\n",
       "    <tr>\n",
       "      <th>1</th>\n",
       "      <td>True</td>\n",
       "      <td>True</td>\n",
       "      <td>True</td>\n",
       "      <td>True</td>\n",
       "      <td>True</td>\n",
       "    </tr>\n",
       "    <tr>\n",
       "      <th>2</th>\n",
       "      <td>True</td>\n",
       "      <td>True</td>\n",
       "      <td>True</td>\n",
       "      <td>True</td>\n",
       "      <td>True</td>\n",
       "    </tr>\n",
       "  </tbody>\n",
       "</table>\n",
       "</div>"
      ],
      "text/plain": [
       "   market_is_Berlin  state_is_Berlin  host_has_profile_pic_is_t  \\\n",
       "0              True             True                       True   \n",
       "1              True             True                       True   \n",
       "2              True             True                       True   \n",
       "\n",
       "   smart_location_is_Berlin, Germany  city_is_Berlin  \n",
       "0                               True            True  \n",
       "1                               True            True  \n",
       "2                               True            True  "
      ]
     },
     "execution_count": 146,
     "metadata": {},
     "output_type": "execute_result"
    }
   ],
   "source": [
    "df_practical_bools[:3]"
   ]
  },
  {
   "cell_type": "markdown",
   "metadata": {},
   "source": [
    "Ok, this looks good.  Now let's update our dataframe."
   ]
  },
  {
   "cell_type": "markdown",
   "metadata": {},
   "source": [
    "We can drop the above columns from our dataframe."
   ]
  },
  {
   "cell_type": "code",
   "execution_count": 147,
   "metadata": {},
   "outputs": [
    {
     "data": {
      "text/plain": [
       "['market', 'state', 'host_has_profile_pic', 'smart_location', 'city']"
      ]
     },
     "execution_count": 147,
     "metadata": {},
     "output_type": "execute_result"
    }
   ],
   "source": [
    "cols_to_remove = [col for col, top_val in paired_bools]\n",
    "cols_to_remove"
   ]
  },
  {
   "cell_type": "code",
   "execution_count": 148,
   "metadata": {},
   "outputs": [],
   "source": [
    "df_coerced = df.drop(columns = cols_to_remove)"
   ]
  },
  {
   "cell_type": "markdown",
   "metadata": {},
   "source": [
    "And update with the new boolean columns."
   ]
  },
  {
   "cell_type": "code",
   "execution_count": 149,
   "metadata": {},
   "outputs": [],
   "source": [
    "df_coerced[df_practical_bools.columns] = df_practical_bools"
   ]
  },
  {
   "cell_type": "code",
   "execution_count": 150,
   "metadata": {},
   "outputs": [
    {
     "data": {
      "text/plain": [
       "(8000, 35)"
      ]
     },
     "execution_count": 150,
     "metadata": {},
     "output_type": "execute_result"
    }
   ],
   "source": [
    "df_coerced.select_dtypes(include = 'object').shape"
   ]
  },
  {
   "cell_type": "code",
   "execution_count": 151,
   "metadata": {},
   "outputs": [],
   "source": [
    "df_coerced.to_csv('./coerced_bools_complete.csv')\n",
    "import json\n",
    "data = df_coerced.dtypes.astype(str).to_dict()\n",
    "\n",
    "file = './coerced_bools_complete_dtypes.json'\n",
    "\n",
    "with open(file, 'w') as f:\n",
    "    json.dump(data, f)"
   ]
  },
  {
   "cell_type": "markdown",
   "metadata": {},
   "source": [
    "And can see that we're now down to five fewer columns."
   ]
  },
  {
   "cell_type": "markdown",
   "metadata": {},
   "source": [
    "### Summary"
   ]
  },
  {
   "cell_type": "markdown",
   "metadata": {},
   "source": [
    "In this lesson we worked through coercing more of our columns to be boolean columns. We continued to practice working with list iteration with creating our steps, this time adding an alias to our steps.  We also practiced using our categorical functions both to identify potential categorical or boolean columns, and look at the top values in those columns."
   ]
  }
 ],
 "metadata": {
  "kernelspec": {
   "display_name": "Python 3",
   "language": "python",
   "name": "python3"
  },
  "language_info": {
   "codemirror_mode": {
    "name": "ipython",
    "version": 3
   },
   "file_extension": ".py",
   "mimetype": "text/x-python",
   "name": "python",
   "nbconvert_exporter": "python",
   "pygments_lexer": "ipython3",
   "version": "3.7.4"
  }
 },
 "nbformat": 4,
 "nbformat_minor": 4
}
